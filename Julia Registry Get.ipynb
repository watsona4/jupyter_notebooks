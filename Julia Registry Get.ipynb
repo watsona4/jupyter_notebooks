{
 "cells": [
  {
   "cell_type": "code",
   "execution_count": 18,
   "metadata": {},
   "outputs": [],
   "source": [
    "import logging\n",
    "import os\n",
    "import re\n",
    "import shutil\n",
    "import subprocess\n",
    "import sys\n",
    "import textwrap\n",
    "import urllib.parse\n",
    "\n",
    "import progressbar\n",
    "import toml\n",
    "\n",
    "from typing import Tuple, Callable, Type, Any\n",
    "\n",
    "logging.basicConfig(level=logging.INFO, format='%(asctime)s:%(threadName)s:%(message)s')"
   ]
  },
  {
   "cell_type": "code",
   "execution_count": 37,
   "metadata": {},
   "outputs": [],
   "source": [
    "# Path to store package registry and the Git executable\n",
    "packages_path = r'K:\\julia_packages'\n",
    "git = r'K:\\Git\\bin'\n",
    "gnu_tools = r'K:\\GnuUtils\\bin'\n",
    "\n",
    "os.environ['PATH'] = os.pathsep.join([git, gnu_tools] + os.environ['PATH'].split(os.pathsep))"
   ]
  },
  {
   "cell_type": "code",
   "execution_count": 38,
   "metadata": {},
   "outputs": [],
   "source": [
    "# Set the URL to the Julia default package registry and clone/fetch the latest registry\n",
    "reg_url = 'https://github.com/JuliaRegistries/General.git'\n",
    "reg_path = os.path.join(packages_path, 'General')\n",
    "if os.path.exists(reg_path):\n",
    "    subprocess.run(['git', 'pull'], cwd=reg_path)\n",
    "else:\n",
    "    subprocess.run(['git', 'clone', reg_url, reg_path])"
   ]
  },
  {
   "cell_type": "code",
   "execution_count": 39,
   "metadata": {},
   "outputs": [],
   "source": [
    "# Parse the registry TOML file into a really big dictionary\n",
    "with open(os.path.join(reg_path, 'Registry.toml')) as infile:\n",
    "    registry_data = toml.load(infile)"
   ]
  },
  {
   "cell_type": "code",
   "execution_count": 40,
   "metadata": {},
   "outputs": [],
   "source": [
    "# Walk through the TOML dictionary, grabbing the package names and their Git repo URLs\n",
    "pkg_download = {}\n",
    "for pkg in sorted(registry_data['packages'].values(), key=lambda x: x['name']):\n",
    "    with open(os.path.join(reg_path, pkg['path'], 'Package.toml')) as infile:\n",
    "        pkg_toml = toml.load(infile)\n",
    "    url = urllib.parse.urlparse(pkg_toml['repo'])\n",
    "    url = url._replace(scheme='https', netloc=':@' + url.netloc)\n",
    "    pkg_repo = url.geturl()\n",
    "    pkg_download[pkg_toml['name']] = pkg_repo"
   ]
  },
  {
   "cell_type": "code",
   "execution_count": 41,
   "metadata": {},
   "outputs": [],
   "source": [
    "# Function to run Git with timeout protection\n",
    "def run(*args, **kwargs):\n",
    "    success = False\n",
    "    while not success:\n",
    "        try:\n",
    "            print(f\"Running {' '.join([f'{val}' for val in args] + [f'{key}={val}' for key, val in kwargs.items()])}\",\n",
    "                  file=sys.__stdout__)\n",
    "            subprocess.run(args, **kwargs)\n",
    "            success = True\n",
    "        except subprocess.TimeoutExpired:\n",
    "            print('*** Rerunning! ***', file=sys.__stdout__)"
   ]
  },
  {
   "cell_type": "code",
   "execution_count": 42,
   "metadata": {},
   "outputs": [
    {
     "name": "stderr",
     "output_type": "stream",
     "text": [
      "100% (2721 of 2721) |####################| Elapsed Time: 3:19:46 Time:  3:19:46\n"
     ]
    }
   ],
   "source": [
    "# Loop over the package URLs, cloning or fetching on each one\n",
    "for pkg_repo in progressbar.progressbar(pkg_download.values()):\n",
    "    pkg_repo_base = os.path.basename(pkg_repo)\n",
    "    pkg_path = os.path.join(packages_path, pkg_repo_base)\n",
    "    if os.path.exists(pkg_path):\n",
    "        run('git', 'fetch', cwd=pkg_path, timeout=10)\n",
    "    else:\n",
    "        run('git', 'clone', '--mirror', pkg_repo, pkg_path, timeout=60)"
   ]
  },
  {
   "cell_type": "code",
   "execution_count": 43,
   "metadata": {},
   "outputs": [],
   "source": [
    "def onerror(func: Callable, path: str, exc_info: Tuple[Type, Exception, Any]):\n",
    "    \n",
    "    \"\"\"Error handler for ``shutil.rmtree``.\n",
    "\n",
    "    If the error is due to an access error (read only file)\n",
    "    it attempts to add write permission and then retries.\n",
    "\n",
    "    If the error is for another reason it re-raises the error.\n",
    "\n",
    "    Usage : ``shutil.rmtree(path, onerror=onerror)``\n",
    "    \n",
    "    \"\"\"\n",
    "    \n",
    "    import stat\n",
    "    if not os.access(path, os.W_OK):\n",
    "        # Is the error an access error ?\n",
    "        os.chmod(path, stat.S_IWUSR)\n",
    "        func(path)\n",
    "    else:\n",
    "        raise"
   ]
  },
  {
   "cell_type": "code",
   "execution_count": null,
   "metadata": {},
   "outputs": [],
   "source": [
    "# The Julia language repo needs to download some dependencies when it's built.\n",
    "# This is normally done using \"make -d deps getall\", but we don't have GNU make\n",
    "# on the IAS. So we have to walk the Makefiles ourselves and manuall download\n",
    "# the dependencies so we can ingress them, too!\n",
    "\n",
    "# Clone Julia from the bare repo\n",
    "julia_repo = os.path.join(packages_path, 'julia.git')\n",
    "julia_path = os.path.join(packages_path, 'julia')\n",
    "if os.path.exists(julia_path):\n",
    "    shutil.rmtree(julia_path, onerror=onerror)\n",
    "run('git', 'clone', julia_repo, julia_path)"
   ]
  },
  {
   "cell_type": "code",
   "execution_count": null,
   "metadata": {},
   "outputs": [],
   "source": [
    "# Run GNU make to get the dependencies\n",
    "subprocess.run(['make', 'getall'], cwd=os.path.join(julia_path, 'deps'))"
   ]
  },
  {
   "cell_type": "code",
   "execution_count": null,
   "metadata": {},
   "outputs": [],
   "source": [
    "# Zip up the directory to transfer to NNPP\n",
    "topdir = os.path.realpath(os.path.dirname(packages_path))\n",
    "basename = os.path.basename(packages_path)\n",
    "subprocess.run(['tar', 'czf', f'{basename}.tar.gz', basename], cwd=topdir)"
   ]
  },
  {
   "cell_type": "code",
   "execution_count": null,
   "metadata": {},
   "outputs": [],
   "source": []
  }
 ],
 "metadata": {
  "kernelspec": {
   "display_name": "Python 3",
   "language": "python",
   "name": "python3"
  },
  "language_info": {
   "codemirror_mode": {
    "name": "ipython",
    "version": 3
   },
   "file_extension": ".py",
   "mimetype": "text/x-python",
   "name": "python",
   "nbconvert_exporter": "python",
   "pygments_lexer": "ipython3",
   "version": "3.6.5"
  }
 },
 "nbformat": 4,
 "nbformat_minor": 2
}
