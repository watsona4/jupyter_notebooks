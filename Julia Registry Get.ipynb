{
 "cells": [
  {
   "cell_type": "code",
   "execution_count": 2,
   "metadata": {},
   "outputs": [],
   "source": [
    "import logging\n",
    "import os\n",
    "import re\n",
    "import shutil\n",
    "import signal\n",
    "import subprocess\n",
    "import sys\n",
    "import textwrap\n",
    "import urllib.parse\n",
    "\n",
    "import progressbar\n",
    "import psutil\n",
    "import toml\n",
    "\n",
    "from typing import Tuple, Callable, Type, Any\n",
    "\n",
    "logging.basicConfig(level=logging.INFO, format='%(asctime)s:%(threadName)s:%(message)s')"
   ]
  },
  {
   "cell_type": "code",
   "execution_count": 21,
   "metadata": {},
   "outputs": [
    {
     "data": {
      "text/plain": [
       "'\\\\'"
      ]
     },
     "execution_count": 21,
     "metadata": {},
     "output_type": "execute_result"
    }
   ],
   "source": [
    "# Path to store package registry and the Git executable\n",
    "packages_path = r'K:\\julia_packages'\n",
    "git = r'K:\\Git\\bin'\n",
    "gnu_tools = r'K:\\GnuUtils\\bin'\n",
    "\n",
    "os.environ['PATH'] = os.pathsep.join([git, gnu_tools] + os.environ['PATH'].split(os.pathsep))"
   ]
  },
  {
   "cell_type": "code",
   "execution_count": 4,
   "metadata": {},
   "outputs": [],
   "source": [
    "def kill_proc_tree(pid: int, sig=signal.SIGTERM, include_parent=True,\n",
    "                   timeout=None, on_terminate=None):\n",
    "    if include_parent:\n",
    "        assert pid != os.getpid(), \"won't kill myself\"\n",
    "    parent = psutil.Process(pid)\n",
    "    children = parent.children(recursive=True)\n",
    "    if include_parent:\n",
    "        children.append(parent)\n",
    "    for p in children:\n",
    "        p.send_signal(sig)\n",
    "    gone, alive = psutil.wait_procs(children, timeout=timeout,\n",
    "                                    callback=on_terminate)\n",
    "    return (gone, alive)\n",
    "\n",
    "def popen_send_signal(self, sig):\n",
    "    if self.returncode is None:\n",
    "        kill_proc_tree(self.pid, sig)\n",
    "subprocess.Popen.send_signal = popen_send_signal"
   ]
  },
  {
   "cell_type": "code",
   "execution_count": 7,
   "metadata": {},
   "outputs": [],
   "source": [
    "# Function to run commands with timeout protection\n",
    "def run(*args, **kwargs):\n",
    "    success = False\n",
    "    while not success:\n",
    "        try:\n",
    "            print(f\"Running {' '.join(args)} ({' '.join(f'{key}={val}' for key, val in kwargs.items())})\",\n",
    "                  file=sys.__stdout__)\n",
    "            ret = subprocess.run(args, **kwargs)\n",
    "            success = True\n",
    "        except subprocess.TimeoutExpired:\n",
    "            run('taskkill', '/t', '/f', '/im', args[0])\n",
    "            print('*** Rerunning! ***', file=sys.__stdout__)\n",
    "    return ret"
   ]
  },
  {
   "cell_type": "code",
   "execution_count": 14,
   "metadata": {},
   "outputs": [],
   "source": [
    "def remove_pulls(repo_dir):\n",
    "    refs = run('git', 'show-ref', cwd=repo_dir, capture_output=True).stdout.decode()\n",
    "    update_ref = []\n",
    "    for line in refs.splitlines():\n",
    "        ref = line.split()[1]\n",
    "        if 'pull' in ref:\n",
    "            update_ref.append(f'delete {ref}')\n",
    "    if update_ref:\n",
    "        indata = ('\\n'.join(update_ref) + '\\n').encode()\n",
    "        ret = 1\n",
    "        while ret != 0:\n",
    "            ret = run('git', 'update-ref', '--stdin', input=indata, cwd=repo_dir).returncode\n",
    "            if ret == 128:\n",
    "                for root, dirs, files in os.walk(repo_dir):\n",
    "                    for filename in files:\n",
    "                        if '.lock' in filename:\n",
    "                            os.remove(os.path.join(root, filename))\n",
    "        run('git', 'gc', '--auto', cwd=repo_dir, timeout=60)\n",
    "    run('git', 'config', '--unset-all', 'remote.origin.fetch')\n",
    "    run('git', 'config', '--add', 'remote.origin.fetch', '+refs/heads/*:refs/heads/*')\n",
    "    run('git', 'config', '--add', 'remote.origin.fetch', '+refs/tags/*:refs/tags/*')\n",
    "    run('git', 'config', '--add', 'remote.origin.fetch', '+refs/remotes/*:refs/remotes/*')"
   ]
  },
  {
   "cell_type": "code",
   "execution_count": 6,
   "metadata": {},
   "outputs": [],
   "source": [
    "# Set the URL to the Julia default package registry and clone/fetch the latest registry\n",
    "reg_url = 'https://github.com/JuliaRegistries/General.git'\n",
    "reg_path = os.path.join(packages_path, 'General')\n",
    "if os.path.exists(reg_path):\n",
    "    run('git', 'pull', cwd=reg_path)\n",
    "else:\n",
    "    run('git', 'clone', reg_url, reg_path)"
   ]
  },
  {
   "cell_type": "code",
   "execution_count": 7,
   "metadata": {},
   "outputs": [],
   "source": [
    "# Set the URL to the Julia METADATA repository and clone/fetch the latest repo\n",
    "metadata_url = 'https://github.com/JuliaLang/METADATA.jl.git'\n",
    "metadata_path = os.path.join(packages_path, 'METADATA.jl.git')\n",
    "if not os.path.exists(metadata_path):\n",
    "    run('git', 'clone', '--mirror', metadata_url, metadata_path)\n",
    "    run('git', 'config', '--unset-all', 'remote.origin.fetch')\n",
    "    run('git', 'config', '--add', 'remote.origin.fetch', '+refs/heads/*:refs/heads/*')\n",
    "    run('git', 'config', '--add', 'remote.origin.fetch', '+refs/tags/*:refs/tags/*')\n",
    "    run('git', 'config', '--add', 'remote.origin.fetch', '+refs/remotes/*:refs/remotes/*')\n",
    "else:\n",
    "    run('git', 'fetch', cwd=metadata_path)"
   ]
  },
  {
   "cell_type": "code",
   "execution_count": 8,
   "metadata": {},
   "outputs": [],
   "source": [
    "# Parse the registry TOML file into a really big dictionary\n",
    "with open(os.path.join(reg_path, 'Registry.toml')) as infile:\n",
    "    registry_data = toml.load(infile)"
   ]
  },
  {
   "cell_type": "code",
   "execution_count": 9,
   "metadata": {},
   "outputs": [],
   "source": [
    "# Walk through the TOML dictionary, grabbing the package names and their Git repo URLs\n",
    "pkg_download = {}\n",
    "for pkg in sorted(registry_data['packages'].values(), key=lambda x: x['name']):\n",
    "    with open(os.path.join(reg_path, pkg['path'], 'Package.toml')) as infile:\n",
    "        pkg_toml = toml.load(infile)\n",
    "    url = urllib.parse.urlparse(pkg_toml['repo'])\n",
    "    url = url._replace(scheme='https', netloc=':@' + url.netloc)\n",
    "    pkg_repo = url.geturl()\n",
    "    pkg_download[pkg_toml['name']] = pkg_repo"
   ]
  },
  {
   "cell_type": "code",
   "execution_count": 11,
   "metadata": {},
   "outputs": [
    {
     "name": "stderr",
     "output_type": "stream",
     "text": [
      "100% (2752 of 2752) |####################| Elapsed Time: 1:56:00 Time:  1:56:00\n"
     ]
    }
   ],
   "source": [
    "# Loop over the package URLs, cloning or fetching on each one\n",
    "for pkg_repo in progressbar.progressbar(pkg_download.values()):\n",
    "    pkg_repo_base = os.path.basename(pkg_repo)\n",
    "    pkg_path = os.path.join(packages_path, pkg_repo_base)\n",
    "    if not os.path.exists(pkg_path):\n",
    "        run('git', 'clone', '--mirror', pkg_repo, pkg_path, timeout=600)\n",
    "        run('git', 'config', '--unset-all', 'remote.origin.fetch')\n",
    "        run('git', 'config', '--add', 'remote.origin.fetch', '+refs/heads/*:refs/heads/*')\n",
    "        run('git', 'config', '--add', 'remote.origin.fetch', '+refs/tags/*:refs/tags/*')\n",
    "        run('git', 'config', '--add', 'remote.origin.fetch', '+refs/remotes/*:refs/remotes/*')\n",
    "    else:\n",
    "        run('git', 'fetch', cwd=pkg_path, timeout=300)"
   ]
  },
  {
   "cell_type": "code",
   "execution_count": 10,
   "metadata": {},
   "outputs": [],
   "source": [
    "def onerror(func: Callable, path: str, exc_info: Tuple[Type, Exception, Any]):\n",
    "    import stat\n",
    "    if not os.access(path, os.W_OK):\n",
    "        # Is the error an access error ?\n",
    "        os.chmod(path, stat.S_IWUSR)\n",
    "        func(path)\n",
    "    else:\n",
    "        raise"
   ]
  },
  {
   "cell_type": "code",
   "execution_count": 14,
   "metadata": {},
   "outputs": [
    {
     "name": "stdout",
     "output_type": "stream",
     "text": [
      "rev = 55e36cc308b66d3472990a06b2797f9f9154ea0a\n",
      "branch = v1.1.1\n"
     ]
    },
    {
     "data": {
      "text/plain": [
       "CompletedProcess(args=('git', 'checkout', 'v1.1.1'), returncode=0)"
      ]
     },
     "execution_count": 14,
     "metadata": {},
     "output_type": "execute_result"
    }
   ],
   "source": [
    "# The Julia language repo needs to download some dependencies when it's built.\n",
    "# This is normally done using \"make -d deps getall\", but we don't have GNU make\n",
    "# on the IAS. So we have to walk the Makefiles ourselves and manuall download\n",
    "# the dependencies so we can ingress them, too!\n",
    "\n",
    "# Clone Julia from the bare repo\n",
    "julia_repo = os.path.join(packages_path, 'julia.git')\n",
    "#julia_path = os.path.join(packages_path, 'julia')\n",
    "julia_path = r'C:\\Users\\watsam\\julia'\n",
    "if os.path.exists(julia_path):\n",
    "    shutil.rmtree(julia_path, onerror=onerror)\n",
    "run('git', 'clone', julia_repo, julia_path, cwd=os.path.dirname(julia_path))\n",
    "rev = run('git', 'rev-list', '--tags', '--max-count=1', cwd=julia_path, capture_output=True).stdout.decode().strip()\n",
    "print('rev =', rev)\n",
    "branch = run('git', 'describe', '--tags', rev, cwd=julia_path, capture_output=True).stdout.decode().strip()\n",
    "print('branch =', branch)\n",
    "run('git', 'checkout', branch, cwd=julia_path)"
   ]
  },
  {
   "cell_type": "code",
   "execution_count": 17,
   "metadata": {},
   "outputs": [
    {
     "data": {
      "text/plain": [
       "CompletedProcess(args=('make', 'full-source-dist', 'ARCH=x86_64'), returncode=2)"
      ]
     },
     "execution_count": 17,
     "metadata": {},
     "output_type": "execute_result"
    }
   ],
   "source": [
    "# Make sure GNU find is at the front of the PATH\n",
    "env = os.environ.copy()\n",
    "env['PATH'] = r'K:\\MinGW\\msys\\1.0\\bin' + os.pathsep + env['PATH']\n",
    "\n",
    "# Run GNU make to get the dependencies\n",
    "#run('make', '-C', 'deps', 'getall', 'ARCH=x86_64', cwd=julia_path)\n",
    "run('make', 'clean', cwd=julia_path, env=env)\n",
    "run('make', 'full-source-dist', 'ARCH=x86_64', cwd=julia_path, env=env)"
   ]
  },
  {
   "cell_type": "code",
   "execution_count": 15,
   "metadata": {},
   "outputs": [
    {
     "data": {
      "text/plain": [
       "CompletedProcess(args=('tar', 'czf', 'julia_packages.tar.gz', 'julia_packages'), returncode=0)"
      ]
     },
     "execution_count": 15,
     "metadata": {},
     "output_type": "execute_result"
    }
   ],
   "source": [
    "# Zip up the directory to transfer to NNPP\n",
    "topdir = os.path.realpath(os.path.dirname(packages_path))\n",
    "basename = os.path.basename(packages_path)\n",
    "run('tar', 'czf', f'{basename}.tar.gz', basename, cwd=topdir)"
   ]
  },
  {
   "cell_type": "code",
   "execution_count": null,
   "metadata": {},
   "outputs": [],
   "source": []
  }
 ],
 "metadata": {
  "kernelspec": {
   "display_name": "Python 3",
   "language": "python",
   "name": "python3"
  },
  "language_info": {
   "codemirror_mode": {
    "name": "ipython",
    "version": 3
   },
   "file_extension": ".py",
   "mimetype": "text/x-python",
   "name": "python",
   "nbconvert_exporter": "python",
   "pygments_lexer": "ipython3",
   "version": "3.7.0"
  }
 },
 "nbformat": 4,
 "nbformat_minor": 2
}
