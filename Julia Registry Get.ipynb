{
 "cells": [
  {
   "cell_type": "code",
   "execution_count": 1,
   "metadata": {},
   "outputs": [],
   "source": [
    "import logging\n",
    "import os\n",
    "import re\n",
    "import shutil\n",
    "import signal\n",
    "import subprocess\n",
    "import sys\n",
    "import textwrap\n",
    "import urllib.parse\n",
    "\n",
    "import progressbar\n",
    "import psutil\n",
    "import toml\n",
    "\n",
    "from typing import Tuple, Callable, Type, Any\n",
    "\n",
    "logging.basicConfig(level=logging.INFO, format='%(asctime)s:%(threadName)s:%(message)s')"
   ]
  },
  {
   "cell_type": "code",
   "execution_count": 2,
   "metadata": {},
   "outputs": [],
   "source": [
    "# Path to store package registry and the Git executable\n",
    "packages_path = r'K:\\julia_packages'\n",
    "git = r'K:\\Git\\bin'\n",
    "gnu_tools = r'K:\\GnuUtils\\bin'\n",
    "\n",
    "os.environ['PATH'] = os.pathsep.join([git, gnu_tools] + os.environ['PATH'].split(os.pathsep))"
   ]
  },
  {
   "cell_type": "code",
   "execution_count": 3,
   "metadata": {},
   "outputs": [],
   "source": [
    "def kill_proc_tree(pid: int, sig=signal.SIGTERM, include_parent=True,\n",
    "                   timeout=None, on_terminate=None):\n",
    "    if include_parent:\n",
    "        assert pid != os.getpid(), \"won't kill myself\"\n",
    "    parent = psutil.Process(pid)\n",
    "    children = parent.children(recursive=True)\n",
    "    if include_parent:\n",
    "        children.append(parent)\n",
    "    for p in children:\n",
    "        p.send_signal(sig)\n",
    "    gone, alive = psutil.wait_procs(children, timeout=timeout,\n",
    "                                    callback=on_terminate)\n",
    "    return (gone, alive)\n",
    "\n",
    "def popen_send_signal(self, sig):\n",
    "    if self.returncode is None:\n",
    "        kill_proc_tree(self.pid, sig)\n",
    "subprocess.Popen.send_signal = popen_send_signal"
   ]
  },
  {
   "cell_type": "code",
   "execution_count": 15,
   "metadata": {},
   "outputs": [],
   "source": [
    "# Function to run commands with timeout protection\n",
    "def run(*args, **kwargs):\n",
    "    success = False\n",
    "    while not success:\n",
    "        try:\n",
    "            print(f\"Running {' '.join(args)} ({' '.join(f'{key}={val}' for key, val in kwargs.items())})\",\n",
    "                  file=sys.__stdout__)\n",
    "            ret = subprocess.run(args, **kwargs)\n",
    "            success = True\n",
    "        except subprocess.TimeoutExpired:\n",
    "            kill_proc_tree(os.getpid(), include_parent=False)\n",
    "            print('*** Rerunning! ***', file=sys.__stdout__)\n",
    "    return ret"
   ]
  },
  {
   "cell_type": "code",
   "execution_count": 5,
   "metadata": {},
   "outputs": [],
   "source": [
    "def remove_pulls(repo_dir):\n",
    "    refs = run('git', 'show-ref', cwd=repo_dir, capture_output=True).stdout.decode()\n",
    "    update_ref = []\n",
    "    for line in refs.splitlines():\n",
    "        ref = line.split()[1]\n",
    "        if 'pull' in ref:\n",
    "            update_ref.append(f'delete {ref}')\n",
    "    if update_ref:\n",
    "        run('git', 'update-ref', '--stdin', input=('\\n'.join(update_ref) + '\\n').encode(), cwd=repo_dir)\n",
    "        run('git', 'gc', '--auto', cwd=repo_dir, timeout=60)"
   ]
  },
  {
   "cell_type": "code",
   "execution_count": 6,
   "metadata": {},
   "outputs": [],
   "source": [
    "# Set the URL to the Julia default package registry and clone/fetch the latest registry\n",
    "reg_url = 'https://github.com/JuliaRegistries/General.git'\n",
    "reg_path = os.path.join(packages_path, 'General')\n",
    "if os.path.exists(reg_path):\n",
    "    run('git', 'pull', cwd=reg_path)\n",
    "else:\n",
    "    run('git', 'clone', reg_url, reg_path)"
   ]
  },
  {
   "cell_type": "code",
   "execution_count": 7,
   "metadata": {},
   "outputs": [],
   "source": [
    "# Set the URL to the Julia METADATA repository and clone/fetch the latest repo\n",
    "metadata_url = 'https://github.com/JuliaLang/METADATA.jl.git'\n",
    "metadata_path = os.path.join(packages_path, 'METADATA.jl.git')\n",
    "if not os.path.exists(metadata_path):\n",
    "    run('git', 'clone', '--mirror', metadata_url, metadata_path)\n",
    "else:\n",
    "    run('git', 'fetch', cwd=metadata_path, timeout=60)\n",
    "remove_pulls(metadata_path)"
   ]
  },
  {
   "cell_type": "code",
   "execution_count": 8,
   "metadata": {},
   "outputs": [],
   "source": [
    "# Parse the registry TOML file into a really big dictionary\n",
    "with open(os.path.join(reg_path, 'Registry.toml')) as infile:\n",
    "    registry_data = toml.load(infile)"
   ]
  },
  {
   "cell_type": "code",
   "execution_count": 9,
   "metadata": {},
   "outputs": [],
   "source": [
    "# Walk through the TOML dictionary, grabbing the package names and their Git repo URLs\n",
    "pkg_download = {}\n",
    "for pkg in sorted(registry_data['packages'].values(), key=lambda x: x['name']):\n",
    "    with open(os.path.join(reg_path, pkg['path'], 'Package.toml')) as infile:\n",
    "        pkg_toml = toml.load(infile)\n",
    "    url = urllib.parse.urlparse(pkg_toml['repo'])\n",
    "    url = url._replace(scheme='https', netloc=':@' + url.netloc)\n",
    "    pkg_repo = url.geturl()\n",
    "    pkg_download[pkg_toml['name']] = pkg_repo"
   ]
  },
  {
   "cell_type": "code",
   "execution_count": null,
   "metadata": {},
   "outputs": [
    {
     "name": "stderr",
     "output_type": "stream",
     "text": [
      "  3% (91 of 2736) |                      | Elapsed Time: 0:04:26 ETA:   2:23:39"
     ]
    }
   ],
   "source": [
    "# Loop over the package URLs, cloning or fetching on each one\n",
    "for pkg_repo in progressbar.progressbar(pkg_download.values()):\n",
    "    pkg_repo_base = os.path.basename(pkg_repo)\n",
    "    pkg_path = os.path.join(packages_path, pkg_repo_base)\n",
    "    if not os.path.exists(pkg_path):\n",
    "        proc = run('git', 'clone', '--mirror', pkg_repo, pkg_path, timeout=120)\n",
    "    else:\n",
    "        proc = run('git', 'fetch', cwd=pkg_path, timeout=10)\n",
    "    if proc.returncode == 0:\n",
    "        remove_pulls(pkg_path)"
   ]
  },
  {
   "cell_type": "code",
   "execution_count": 18,
   "metadata": {},
   "outputs": [],
   "source": [
    "def onerror(func: Callable, path: str, exc_info: Tuple[Type, Exception, Any]):\n",
    "    \n",
    "    \"\"\"Error handler for ``shutil.rmtree``.\n",
    "\n",
    "    If the error is due to an access error (read only file)\n",
    "    it attempts to add write permission and then retries.\n",
    "\n",
    "    If the error is for another reason it re-raises the error.\n",
    "\n",
    "    Usage : ``shutil.rmtree(path, onerror=onerror)``\n",
    "    \n",
    "    \"\"\"\n",
    "    \n",
    "    import stat\n",
    "    if not os.access(path, os.W_OK):\n",
    "        # Is the error an access error ?\n",
    "        os.chmod(path, stat.S_IWUSR)\n",
    "        func(path)\n",
    "    else:\n",
    "        raise"
   ]
  },
  {
   "cell_type": "code",
   "execution_count": 19,
   "metadata": {},
   "outputs": [
    {
     "ename": "TypeError",
     "evalue": "__init__() got an unexpected keyword argument 'capture_output'",
     "output_type": "error",
     "traceback": [
      "\u001b[1;31m---------------------------------------------------------------------------\u001b[0m",
      "\u001b[1;31mTypeError\u001b[0m                                 Traceback (most recent call last)",
      "\u001b[1;32m<ipython-input-19-c9bfd5e1c1b6>\u001b[0m in \u001b[0;36m<module>\u001b[1;34m\u001b[0m\n\u001b[0;32m     10\u001b[0m     \u001b[0mshutil\u001b[0m\u001b[1;33m.\u001b[0m\u001b[0mrmtree\u001b[0m\u001b[1;33m(\u001b[0m\u001b[0mjulia_path\u001b[0m\u001b[1;33m,\u001b[0m \u001b[0monerror\u001b[0m\u001b[1;33m=\u001b[0m\u001b[0monerror\u001b[0m\u001b[1;33m)\u001b[0m\u001b[1;33m\u001b[0m\u001b[0m\n\u001b[0;32m     11\u001b[0m \u001b[0mrun\u001b[0m\u001b[1;33m(\u001b[0m\u001b[1;34m'git'\u001b[0m\u001b[1;33m,\u001b[0m \u001b[1;34m'clone'\u001b[0m\u001b[1;33m,\u001b[0m \u001b[0mjulia_repo\u001b[0m\u001b[1;33m,\u001b[0m \u001b[0mjulia_path\u001b[0m\u001b[1;33m)\u001b[0m\u001b[1;33m\u001b[0m\u001b[0m\n\u001b[1;32m---> 12\u001b[1;33m \u001b[0mrev\u001b[0m \u001b[1;33m=\u001b[0m \u001b[0mrun\u001b[0m\u001b[1;33m(\u001b[0m\u001b[1;34m'git'\u001b[0m\u001b[1;33m,\u001b[0m \u001b[1;34m'rev-list'\u001b[0m\u001b[1;33m,\u001b[0m \u001b[1;34m'--tags'\u001b[0m\u001b[1;33m,\u001b[0m \u001b[1;34m'--max-count=1'\u001b[0m\u001b[1;33m,\u001b[0m \u001b[0mcapture_output\u001b[0m\u001b[1;33m=\u001b[0m\u001b[1;32mTrue\u001b[0m\u001b[1;33m)\u001b[0m\u001b[1;33m.\u001b[0m\u001b[0mstdout\u001b[0m\u001b[1;33m.\u001b[0m\u001b[0mstrip\u001b[0m\u001b[1;33m(\u001b[0m\u001b[1;33m)\u001b[0m\u001b[1;33m\u001b[0m\u001b[0m\n\u001b[0m\u001b[0;32m     13\u001b[0m \u001b[0mbranch\u001b[0m \u001b[1;33m=\u001b[0m \u001b[0mrun\u001b[0m\u001b[1;33m(\u001b[0m\u001b[1;34m'git'\u001b[0m\u001b[1;33m,\u001b[0m \u001b[1;34m'describe'\u001b[0m\u001b[1;33m,\u001b[0m \u001b[1;34m'--tags'\u001b[0m\u001b[1;33m,\u001b[0m \u001b[0mrev\u001b[0m\u001b[1;33m,\u001b[0m \u001b[0mcapture_output\u001b[0m\u001b[1;33m=\u001b[0m\u001b[1;32mTrue\u001b[0m\u001b[1;33m)\u001b[0m\u001b[1;33m.\u001b[0m\u001b[0mstdout\u001b[0m\u001b[1;33m.\u001b[0m\u001b[0mstrip\u001b[0m\u001b[1;33m(\u001b[0m\u001b[1;33m)\u001b[0m\u001b[1;33m\u001b[0m\u001b[0m\n\u001b[0;32m     14\u001b[0m \u001b[0mrun\u001b[0m\u001b[1;33m(\u001b[0m\u001b[1;34m'git'\u001b[0m\u001b[1;33m,\u001b[0m \u001b[1;34m'checkout'\u001b[0m\u001b[1;33m,\u001b[0m \u001b[0mbranch\u001b[0m\u001b[1;33m)\u001b[0m\u001b[1;33m\u001b[0m\u001b[0m\n",
      "\u001b[1;32m<ipython-input-14-a5c86335547d>\u001b[0m in \u001b[0;36mrun\u001b[1;34m(*args, **kwargs)\u001b[0m\n\u001b[0;32m      6\u001b[0m             print(f\"Running {' '.join(args)} ({' '.join(f'{key}={val}' for key, val in kwargs.items())})\",\n\u001b[0;32m      7\u001b[0m                   file=sys.__stdout__)\n\u001b[1;32m----> 8\u001b[1;33m             \u001b[0mret\u001b[0m \u001b[1;33m=\u001b[0m \u001b[0msubprocess\u001b[0m\u001b[1;33m.\u001b[0m\u001b[0mrun\u001b[0m\u001b[1;33m(\u001b[0m\u001b[0margs\u001b[0m\u001b[1;33m,\u001b[0m \u001b[1;33m**\u001b[0m\u001b[0mkwargs\u001b[0m\u001b[1;33m)\u001b[0m\u001b[1;33m.\u001b[0m\u001b[0mreturncode\u001b[0m\u001b[1;33m\u001b[0m\u001b[0m\n\u001b[0m\u001b[0;32m      9\u001b[0m             \u001b[0msuccess\u001b[0m \u001b[1;33m=\u001b[0m \u001b[1;32mTrue\u001b[0m\u001b[1;33m\u001b[0m\u001b[0m\n\u001b[0;32m     10\u001b[0m         \u001b[1;32mexcept\u001b[0m \u001b[0msubprocess\u001b[0m\u001b[1;33m.\u001b[0m\u001b[0mTimeoutExpired\u001b[0m\u001b[1;33m:\u001b[0m\u001b[1;33m\u001b[0m\u001b[0m\n",
      "\u001b[1;32mK:\\Anaconda3\\lib\\subprocess.py\u001b[0m in \u001b[0;36mrun\u001b[1;34m(input, timeout, check, *popenargs, **kwargs)\u001b[0m\n\u001b[0;32m    401\u001b[0m         \u001b[0mkwargs\u001b[0m\u001b[1;33m[\u001b[0m\u001b[1;34m'stdin'\u001b[0m\u001b[1;33m]\u001b[0m \u001b[1;33m=\u001b[0m \u001b[0mPIPE\u001b[0m\u001b[1;33m\u001b[0m\u001b[0m\n\u001b[0;32m    402\u001b[0m \u001b[1;33m\u001b[0m\u001b[0m\n\u001b[1;32m--> 403\u001b[1;33m     \u001b[1;32mwith\u001b[0m \u001b[0mPopen\u001b[0m\u001b[1;33m(\u001b[0m\u001b[1;33m*\u001b[0m\u001b[0mpopenargs\u001b[0m\u001b[1;33m,\u001b[0m \u001b[1;33m**\u001b[0m\u001b[0mkwargs\u001b[0m\u001b[1;33m)\u001b[0m \u001b[1;32mas\u001b[0m \u001b[0mprocess\u001b[0m\u001b[1;33m:\u001b[0m\u001b[1;33m\u001b[0m\u001b[0m\n\u001b[0m\u001b[0;32m    404\u001b[0m         \u001b[1;32mtry\u001b[0m\u001b[1;33m:\u001b[0m\u001b[1;33m\u001b[0m\u001b[0m\n\u001b[0;32m    405\u001b[0m             \u001b[0mstdout\u001b[0m\u001b[1;33m,\u001b[0m \u001b[0mstderr\u001b[0m \u001b[1;33m=\u001b[0m \u001b[0mprocess\u001b[0m\u001b[1;33m.\u001b[0m\u001b[0mcommunicate\u001b[0m\u001b[1;33m(\u001b[0m\u001b[0minput\u001b[0m\u001b[1;33m,\u001b[0m \u001b[0mtimeout\u001b[0m\u001b[1;33m=\u001b[0m\u001b[0mtimeout\u001b[0m\u001b[1;33m)\u001b[0m\u001b[1;33m\u001b[0m\u001b[0m\n",
      "\u001b[1;31mTypeError\u001b[0m: __init__() got an unexpected keyword argument 'capture_output'"
     ]
    }
   ],
   "source": [
    "# The Julia language repo needs to download some dependencies when it's built.\n",
    "# This is normally done using \"make -d deps getall\", but we don't have GNU make\n",
    "# on the IAS. So we have to walk the Makefiles ourselves and manuall download\n",
    "# the dependencies so we can ingress them, too!\n",
    "\n",
    "# Clone Julia from the bare repo\n",
    "julia_repo = os.path.join(packages_path, 'julia.git')\n",
    "julia_path = os.path.join(packages_path, 'julia')\n",
    "if os.path.exists(julia_path):\n",
    "    shutil.rmtree(julia_path, onerror=onerror)\n",
    "run('git', 'clone', julia_repo, julia_path)\n",
    "rev = run('git', 'rev-list', '--tags', '--max-count=1', capture_output=True).stdout.decode().strip()\n",
    "branch = run('git', 'describe', '--tags', rev, capture_output=True).stdout.decode().strip()\n",
    "run('git', 'checkout', branch)"
   ]
  },
  {
   "cell_type": "code",
   "execution_count": null,
   "metadata": {},
   "outputs": [],
   "source": [
    "# Run GNU make to get the dependencies\n",
    "run('make', '-C', 'deps', 'getall', 'ARCH=x86_64', cwd=julia_path)"
   ]
  },
  {
   "cell_type": "code",
   "execution_count": null,
   "metadata": {},
   "outputs": [],
   "source": [
    "# Zip up the directory to transfer to NNPP\n",
    "topdir = os.path.realpath(os.path.dirname(packages_path))\n",
    "basename = os.path.basename(packages_path)\n",
    "run('tar', 'czf', f'{basename}.tar.gz', basename, cwd=topdir)"
   ]
  },
  {
   "cell_type": "code",
   "execution_count": null,
   "metadata": {},
   "outputs": [],
   "source": []
  }
 ],
 "metadata": {
  "kernelspec": {
   "display_name": "Python 3",
   "language": "python",
   "name": "python3"
  },
  "language_info": {
   "codemirror_mode": {
    "name": "ipython",
    "version": 3
   },
   "file_extension": ".py",
   "mimetype": "text/x-python",
   "name": "python",
   "nbconvert_exporter": "python",
   "pygments_lexer": "ipython3",
   "version": "3.7.0"
  }
 },
 "nbformat": 4,
 "nbformat_minor": 2
}
