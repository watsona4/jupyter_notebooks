{
 "cells": [
  {
   "cell_type": "code",
   "execution_count": 20,
   "metadata": {
    "collapsed": true
   },
   "outputs": [],
   "source": [
    "import os.path\n",
    "import shelve\n",
    "from pprint import pprint\n",
    "\n",
    "import numpy as np\n",
    "import scipy.optimize"
   ]
  },
  {
   "cell_type": "code",
   "execution_count": 2,
   "metadata": {
    "collapsed": true
   },
   "outputs": [],
   "source": [
    "shelf = 'route_opt.db'\n",
    "if os.path.exists(shelf):\n",
    "    with shelve.open(shelf) as db:\n",
    "        data_1 = db['morning data']\n",
    "        data_2 = db['afternoon data']\n",
    "else:\n",
    "    data_1 = {}\n",
    "    data_2 = {}"
   ]
  },
  {
   "cell_type": "code",
   "execution_count": 16,
   "metadata": {},
   "outputs": [],
   "source": [
    "route_1 = {'Hill St': [25, 40],\n",
    "           'Hegeman Bridge Rd': [30, 50],\n",
    "           'Rt. 40': [45, 60],\n",
    "           'Sarles Ferry': [40, 50],\n",
    "           'CR-113': [45, 60],\n",
    "           'Stillwater Bridge Rd': [25, 40],\n",
    "           'Stillwater': [25, 40],\n",
    "           'Hill in Stillwater': [25, 40],\n",
    "           'Rt. 4': [35, 45],\n",
    "           'Mechanicville': [25, 40],\n",
    "           'Leaving Mechanicville': [25, 45],\n",
    "           '45 mph Rt. 4': [40, 55],\n",
    "           'Rt. 146 hill': [40, 60],\n",
    "           'Rt. 146 curve': [45, 60],\n",
    "           'Rt. 146 before light': [45, 60],\n",
    "           'Rt. 146 after light': [45, 55],\n",
    "           'Rt. 146 Halfmoon': [45, 55],\n",
    "           'Clifton Park': [40, 50],\n",
    "           'Hill by Vent Fitness': [40, 60],\n",
    "           '55 mph Rt. 146': [45, 60],\n",
    "           'Rt. 146 near Balltown': [40, 60],\n",
    "           'Balltown in Rexford': [40, 50],\n",
    "           'Balltown on bridge': [40, 50],\n",
    "           '45 mph Balltown': [40, 50],\n",
    "           '40 mph Balltown': [40, 50],\n",
    "           'River Rd': [35, 50],\n",
    "          }"
   ]
  },
  {
   "cell_type": "code",
   "execution_count": 4,
   "metadata": {
    "collapsed": true
   },
   "outputs": [],
   "source": [
    "route_2 = [[35, 50],  # River Rd\n",
    "           [40, 50],  # 40 mph Balltown\n",
    "           [40, 50],  # 45 mph Balltown\n",
    "           [40, 50],  # Balltown on bridge\n",
    "           [40, 50],  # Balltown in Rexford\n",
    "           [40, 60],  # Rt. 146 near Balltown\n",
    "           [45, 60],  # 55 mph Rt. 146\n",
    "           [40, 60],  # Hill by Vent Fitness\n",
    "           [40, 50],  # Clifton Park\n",
    "           [45, 55],  # Rt. 146 Halfmoon\n",
    "           [45, 60],  # Rt. 146 before light\n",
    "           [45, 60],  # Rt. 146 after light\n",
    "           [45, 60],  # Rt. 146 curve\n",
    "           [40, 60],  # Rt. 146 hill\n",
    "           [40, 55],  # 45 mph Rt. 4\n",
    "           [30, 45],  # Entering Mechanicville\n",
    "           [25, 40],  # Mechanicville\n",
    "           [35, 45],  # Rt. 4\n",
    "           [25, 40],  # Hill in Stillwater\n",
    "           [25, 40],  # Stillwater\n",
    "           [25, 40],  # Stillwater Bridge Rd\n",
    "           [45, 60],  # CR-113\n",
    "           [40, 50],  # Sarles Ferry\n",
    "           [45, 60],  # Rt. 40\n",
    "           [30, 50],  # Hegeman Bridge Rd\n",
    "           [25, 40],  # Hill St\n",
    "          ]"
   ]
  },
  {
   "cell_type": "code",
   "execution_count": 17,
   "metadata": {},
   "outputs": [
    {
     "ename": "AttributeError",
     "evalue": "'list' object has no attribute 'values'",
     "output_type": "error",
     "traceback": [
      "\u001b[1;31m---------------------------------------------------------------------------\u001b[0m",
      "\u001b[1;31mAttributeError\u001b[0m                            Traceback (most recent call last)",
      "\u001b[1;32m<ipython-input-17-fe469fe33dd3>\u001b[0m in \u001b[0;36m<module>\u001b[1;34m()\u001b[0m\n\u001b[0;32m      1\u001b[0m \u001b[0mx0_1\u001b[0m \u001b[1;33m=\u001b[0m \u001b[1;33m[\u001b[0m\u001b[0mround\u001b[0m\u001b[1;33m(\u001b[0m\u001b[0mnp\u001b[0m\u001b[1;33m.\u001b[0m\u001b[0mmean\u001b[0m\u001b[1;33m(\u001b[0m\u001b[0mbounds\u001b[0m\u001b[1;33m)\u001b[0m\u001b[1;33m)\u001b[0m \u001b[1;32mfor\u001b[0m \u001b[0mbounds\u001b[0m \u001b[1;32min\u001b[0m \u001b[0mroute_1\u001b[0m\u001b[1;33m.\u001b[0m\u001b[0mvalues\u001b[0m\u001b[1;33m(\u001b[0m\u001b[1;33m)\u001b[0m\u001b[1;33m]\u001b[0m\u001b[1;33m\u001b[0m\u001b[0m\n\u001b[1;32m----> 2\u001b[1;33m \u001b[0mx0_2\u001b[0m \u001b[1;33m=\u001b[0m \u001b[1;33m[\u001b[0m\u001b[0mround\u001b[0m\u001b[1;33m(\u001b[0m\u001b[0mnp\u001b[0m\u001b[1;33m.\u001b[0m\u001b[0mmean\u001b[0m\u001b[1;33m(\u001b[0m\u001b[0mbounds\u001b[0m\u001b[1;33m)\u001b[0m\u001b[1;33m)\u001b[0m \u001b[1;32mfor\u001b[0m \u001b[0mbounds\u001b[0m \u001b[1;32min\u001b[0m \u001b[0mroute_2\u001b[0m\u001b[1;33m.\u001b[0m\u001b[0mvalues\u001b[0m\u001b[1;33m(\u001b[0m\u001b[1;33m)\u001b[0m\u001b[1;33m]\u001b[0m\u001b[1;33m\u001b[0m\u001b[0m\n\u001b[0m",
      "\u001b[1;31mAttributeError\u001b[0m: 'list' object has no attribute 'values'"
     ]
    }
   ],
   "source": [
    "x0_1 = [round(np.mean(bounds)) for bounds in route_1.values()]\n",
    "x0_2 = [round(np.mean(bounds)) for bounds in route_2.values()]"
   ]
  },
  {
   "cell_type": "code",
   "execution_count": 6,
   "metadata": {
    "collapsed": true
   },
   "outputs": [],
   "source": [
    "# with shelve.open(shelf) as db:\n",
    "#     db['morning data'] = data_1\n",
    "#     db['afternoon data'] = data_2"
   ]
  },
  {
   "cell_type": "code",
   "execution_count": 21,
   "metadata": {},
   "outputs": [],
   "source": [
    "ITER = 0\n",
    "NOT_FOUND = True\n",
    "def f(x, dset=None):\n",
    "    global ITER, NOT_FOUND\n",
    "    data = globals()[f'data_{dset}']\n",
    "    route = globals()[f'route_{dset}']\n",
    "    x = tuple([ITER] + list(map(int, np.rint(x))))\n",
    "    if NOT_FOUND and x in data:\n",
    "        y = data[x]\n",
    "        print(f'MPG for {x[1:]} = {y}')\n",
    "    else:\n",
    "        NOT_FOUND = False\n",
    "        pprint({seg: val for seg, val in zip(route, x[1:])})\n",
    "        y = float(input(f'Enter MPG for {x[1:]}\\n--> '))\n",
    "        data[x] = y\n",
    "    ITER += 1\n",
    "    return 10000 / y"
   ]
  },
  {
   "cell_type": "code",
   "execution_count": 22,
   "metadata": {},
   "outputs": [
    {
     "ename": "TypeError",
     "evalue": "float() argument must be a string or a number, not 'dict'",
     "output_type": "error",
     "traceback": [
      "\u001b[1;31m---------------------------------------------------------------------------\u001b[0m",
      "\u001b[1;31mTypeError\u001b[0m                                 Traceback (most recent call last)",
      "\u001b[1;32m<ipython-input-22-aeaf03d5e8ca>\u001b[0m in \u001b[0;36m<module>\u001b[1;34m()\u001b[0m\n\u001b[0;32m      1\u001b[0m res = scipy.optimize.minimize(f, x0_1, args=('1',), method='SLSQP',\n\u001b[1;32m----> 2\u001b[1;33m                               options={'ftol': 1, 'disp': True, 'eps': 1}, bounds=route_1)\n\u001b[0m",
      "\u001b[1;32mK:\\Anaconda3\\lib\\site-packages\\scipy\\optimize\\_minimize.py\u001b[0m in \u001b[0;36mminimize\u001b[1;34m(fun, x0, args, method, jac, hess, hessp, bounds, constraints, tol, callback, options)\u001b[0m\n\u001b[0;32m    456\u001b[0m     \u001b[1;32melif\u001b[0m \u001b[0mmeth\u001b[0m \u001b[1;33m==\u001b[0m \u001b[1;34m'slsqp'\u001b[0m\u001b[1;33m:\u001b[0m\u001b[1;33m\u001b[0m\u001b[0m\n\u001b[0;32m    457\u001b[0m         return _minimize_slsqp(fun, x0, args, jac, bounds,\n\u001b[1;32m--> 458\u001b[1;33m                                constraints, callback=callback, **options)\n\u001b[0m\u001b[0;32m    459\u001b[0m     \u001b[1;32melif\u001b[0m \u001b[0mmeth\u001b[0m \u001b[1;33m==\u001b[0m \u001b[1;34m'dogleg'\u001b[0m\u001b[1;33m:\u001b[0m\u001b[1;33m\u001b[0m\u001b[0m\n\u001b[0;32m    460\u001b[0m         return _minimize_dogleg(fun, x0, args, jac, hess,\n",
      "\u001b[1;32mK:\\Anaconda3\\lib\\site-packages\\scipy\\optimize\\slsqp.py\u001b[0m in \u001b[0;36m_minimize_slsqp\u001b[1;34m(func, x0, args, jac, bounds, constraints, maxiter, ftol, iprint, disp, eps, callback, **unknown_options)\u001b[0m\n\u001b[0;32m    334\u001b[0m         \u001b[0mxu\u001b[0m\u001b[1;33m.\u001b[0m\u001b[0mfill\u001b[0m\u001b[1;33m(\u001b[0m\u001b[0mnp\u001b[0m\u001b[1;33m.\u001b[0m\u001b[0mnan\u001b[0m\u001b[1;33m)\u001b[0m\u001b[1;33m\u001b[0m\u001b[0m\n\u001b[0;32m    335\u001b[0m     \u001b[1;32melse\u001b[0m\u001b[1;33m:\u001b[0m\u001b[1;33m\u001b[0m\u001b[0m\n\u001b[1;32m--> 336\u001b[1;33m         \u001b[0mbnds\u001b[0m \u001b[1;33m=\u001b[0m \u001b[0marray\u001b[0m\u001b[1;33m(\u001b[0m\u001b[0mbounds\u001b[0m\u001b[1;33m,\u001b[0m \u001b[0mfloat\u001b[0m\u001b[1;33m)\u001b[0m\u001b[1;33m\u001b[0m\u001b[0m\n\u001b[0m\u001b[0;32m    337\u001b[0m         \u001b[1;32mif\u001b[0m \u001b[0mbnds\u001b[0m\u001b[1;33m.\u001b[0m\u001b[0mshape\u001b[0m\u001b[1;33m[\u001b[0m\u001b[1;36m0\u001b[0m\u001b[1;33m]\u001b[0m \u001b[1;33m!=\u001b[0m \u001b[0mn\u001b[0m\u001b[1;33m:\u001b[0m\u001b[1;33m\u001b[0m\u001b[0m\n\u001b[0;32m    338\u001b[0m             raise IndexError('SLSQP Error: the length of bounds is not '\n",
      "\u001b[1;31mTypeError\u001b[0m: float() argument must be a string or a number, not 'dict'"
     ]
    }
   ],
   "source": [
    "res = scipy.optimize.minimize(f, x0_1, args=('1',), method='SLSQP',\n",
    "                              options={'ftol': 1, 'disp': True, 'eps': 1}, bounds=route_1)"
   ]
  },
  {
   "cell_type": "code",
   "execution_count": null,
   "metadata": {},
   "outputs": [],
   "source": [
    "list(map(int, np.rint([1.5, 2.5, 3.5])))"
   ]
  },
  {
   "cell_type": "code",
   "execution_count": null,
   "metadata": {
    "collapsed": true
   },
   "outputs": [],
   "source": []
  }
 ],
 "metadata": {
  "kernelspec": {
   "display_name": "Python 3",
   "language": "python",
   "name": "python3"
  },
  "language_info": {
   "codemirror_mode": {
    "name": "ipython",
    "version": 3
   },
   "file_extension": ".py",
   "mimetype": "text/x-python",
   "name": "python",
   "nbconvert_exporter": "python",
   "pygments_lexer": "ipython3",
   "version": "3.6.1"
  }
 },
 "nbformat": 4,
 "nbformat_minor": 2
}
