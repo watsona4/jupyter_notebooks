{
 "cells": [
  {
   "cell_type": "code",
   "execution_count": 89,
   "metadata": {
    "collapsed": true
   },
   "outputs": [],
   "source": [
    "import json\n",
    "\n",
    "from collections import OrderedDict\n",
    "from pprint import pprint\n",
    "\n",
    "import httplib2\n",
    "import numpy as np\n",
    "import scipy.optimize\n",
    "\n",
    "from apiclient.discovery import build\n",
    "from oauth2client import tools\n",
    "from oauth2client.client import OAuth2WebServerFlow\n",
    "from oauth2client.file import Storage"
   ]
  },
  {
   "cell_type": "code",
   "execution_count": 32,
   "metadata": {
    "collapsed": true
   },
   "outputs": [],
   "source": [
    "route = {}\n",
    "route['Morning'] = OrderedDict(\n",
    "    {'Hill St': [25, 40, 30],\n",
    "     'Hegeman Bridge Rd': [30, 50, 40],\n",
    "     'Rt. 40': [45, 60, 50],\n",
    "     'Sarles Ferry': [40, 50, 45],\n",
    "     'CR-113': [45, 60, 50],\n",
    "     'Stillwater Bridge Rd': [25, 40, 35],\n",
    "     'Stillwater': [25, 40, 30],\n",
    "     'Hill in Stillwater': [25, 40, 35],\n",
    "     'Rt. 4': [35, 45, 40],\n",
    "     'Mechanicville': [25, 40, 30],\n",
    "     'Leaving Mechanicville': [25, 45, 35],\n",
    "     '45 mph Rt. 4': [40, 55, 45],\n",
    "     'Rt. 146 hill': [40, 60, 45],\n",
    "     'Rt. 146 curve': [45, 60, 50],\n",
    "     'Rt. 146 before light': [45, 60, 45],\n",
    "     'Rt. 146 after light': [45, 55, 45],\n",
    "     'Rt. 146 Halfmoon': [45, 55, 45],\n",
    "     'Clifton Park': [40, 50, 45],\n",
    "     'Hill by Vent Fitness': [40, 60, 45],\n",
    "     '55 mph Rt. 146': [45, 60, 50],\n",
    "     'Rt. 146 near Balltown': [40, 60, 45],\n",
    "     'Balltown in Rexford': [40, 50, 45],\n",
    "     'Balltown on bridge': [40, 50, 45],\n",
    "     '45 mph Balltown': [40, 50, 45],\n",
    "     '40 mph Balltown': [40, 50, 40],\n",
    "     'River Rd': [35, 50, 40],\n",
    "    })"
   ]
  },
  {
   "cell_type": "code",
   "execution_count": 33,
   "metadata": {
    "collapsed": true
   },
   "outputs": [],
   "source": [
    "route['Afternoon'] = OrderedDict(\n",
    "    {'River Rd': [35, 50, 40],\n",
    "     '40 mph Balltown': [40, 50, 40],\n",
    "     '45 mph Balltown': [40, 50, 45],\n",
    "     'Balltown on bridge': [40, 50, 45],\n",
    "     'Balltown in Rexford': [40, 50, 45],\n",
    "     'Rt. 146 near Balltown': [40, 60, 45],\n",
    "     '55 mph Rt. 146': [45, 60, 50],\n",
    "     'Hill by Vent Fitness': [40, 60, 45],\n",
    "     'Clifton Park': [40, 50, 45],\n",
    "     'Rt. 146 Halfmoon': [45, 55, 45],\n",
    "     'Rt. 146 before light': [45, 60, 45],\n",
    "     'Rt. 146 after light': [45, 60, 45],\n",
    "     'Rt. 146 curve': [45, 60, 50],\n",
    "     'Rt. 146 hill': [40, 60, 45],\n",
    "     '45 mph Rt. 4': [40, 55, 45],\n",
    "     'Entering Mechanicville': [30, 45, 35],\n",
    "     'Mechanicville': [25, 40, 30],\n",
    "     'Rt. 4': [35, 45, 40],\n",
    "     'Hill in Stillwater': [25, 40, 35],\n",
    "     'Stillwater': [25, 40, 30],\n",
    "     'Stillwater Bridge Rd': [25, 40, 35],\n",
    "     'CR-113': [45, 60, 50],\n",
    "     'Sarles Ferry': [40, 50, 45],\n",
    "     'Rt. 40': [45, 60, 50],\n",
    "     'Hegeman Bridge Rd': [30, 50, 40],\n",
    "     'Hill St': [25, 40, 30],\n",
    "    })"
   ]
  },
  {
   "cell_type": "code",
   "execution_count": 34,
   "metadata": {
    "collapsed": true
   },
   "outputs": [],
   "source": [
    "def extract_initial_values(dset, route=route):\n",
    "    return [bds[2] for bds in route[dset].values()]\n",
    "x0 = {}\n",
    "x0['Morning'] = extract_initial_values('Morning')\n",
    "x0['Afternoon'] = extract_initial_values('Afternoon')"
   ]
  },
  {
   "cell_type": "code",
   "execution_count": 93,
   "metadata": {
    "collapsed": true
   },
   "outputs": [],
   "source": [
    "with open('C:\\\\Users\\\\watso\\\\Downloads\\\\client_id.json') as handle:\n",
    "    client_json = json.load(handle)\n",
    "client_id = client_json['installed']['client_id']\n",
    "client_secret = client_json['installed']['client_secret']"
   ]
  },
  {
   "cell_type": "code",
   "execution_count": 94,
   "metadata": {
    "collapsed": true
   },
   "outputs": [],
   "source": [
    "scope = 'https://www.googleapis.com/auth/sheets'\n",
    "spreadsheet_id = '1CDSz48tIvITNP_0IwJsgojePSeF1BII-KxNQHqQb_JQ'\n",
    "flow = OAuth2WebServerFlow(client_id, client_secret, scope)"
   ]
  },
  {
   "cell_type": "code",
   "execution_count": 95,
   "metadata": {
    "collapsed": true
   },
   "outputs": [],
   "source": [
    "storage = Storage('credentials.dat')\n",
    "credentials = storage.get()\n",
    "if credentials is None or credentials.invalid:\n",
    "    credentials = tools.run_flow(flow, storage)"
   ]
  },
  {
   "cell_type": "code",
   "execution_count": 139,
   "metadata": {
    "collapsed": true
   },
   "outputs": [],
   "source": [
    "http = httplib2.Http()\n",
    "http = credentials.authorize(http)"
   ]
  },
  {
   "cell_type": "code",
   "execution_count": 140,
   "metadata": {
    "collapsed": true
   },
   "outputs": [],
   "source": [
    "service = build('sheets', 'v4', http=http)"
   ]
  },
  {
   "cell_type": "code",
   "execution_count": 141,
   "metadata": {},
   "outputs": [],
   "source": [
    "def store_headers(dset):\n",
    "    result = service.spreadsheets().values().update(\n",
    "        spreadsheetId=spreadsheet_id,\n",
    "        valueInputOption='USER_ENTERED',\n",
    "        range=f'{dset}!A1',\n",
    "        body={'values': [['Segment'] + [key for key in route[dset]] + ['MPG']],\n",
    "              'majorDimension': 'COLUMNS'},\n",
    "    ).execute()\n",
    "store_headers('Morning')\n",
    "store_headers('Afternoon')"
   ]
  },
  {
   "cell_type": "code",
   "execution_count": 117,
   "metadata": {},
   "outputs": [],
   "source": [
    "def load_dataset(dset, route=route):\n",
    "    result = service.spreadsheets().values().get(\n",
    "        spreadsheetId=spreadsheet_id,\n",
    "        range=f'{dset}!1:{len(route[dset]) + 2}',\n",
    "        majorDimension='COLUMNS',\n",
    "    ).execute()\n",
    "    return {y[0]: y[1:] for y in result['values'][1:]}\n",
    "data = {}\n",
    "data['Morning'] = load_dataset('Morning')\n",
    "data['Afternoon'] = load_dataset('Afternoon')"
   ]
  },
  {
   "cell_type": "code",
   "execution_count": 128,
   "metadata": {
    "collapsed": true
   },
   "outputs": [],
   "source": [
    "def xl_col_to_name(col_num, col_abs=False):\n",
    "    col_num += 1  # Change to 1-index.\n",
    "    col_str = ''\n",
    "    col_abs = '$' if col_abs else ''\n",
    "    while col_num:\n",
    "        remainder = col_num % 26\n",
    "        if remainder == 0:\n",
    "            remainder = 26\n",
    "        col_letter = chr(ord('A') + remainder - 1)\n",
    "        col_str = col_letter + col_str\n",
    "        col_num = int((col_num - 1) / 26)\n",
    "    return col_abs + col_str"
   ]
  },
  {
   "cell_type": "code",
   "execution_count": 129,
   "metadata": {
    "collapsed": true
   },
   "outputs": [],
   "source": [
    "ITER = None\n",
    "NEXT_TRIAL = None\n",
    "def fun(x, dset):\n",
    "    global ITER, NEXT_TRIAL\n",
    "    x = np.array(np.rint(x), dtype=np.int)\n",
    "    key = f'Trial {ITER}'\n",
    "    if key in data[dset]:\n",
    "        y = float(data[dset][key][-1])\n",
    "        print(f'{dset} {ITER}: MPG for {x} = {y}')\n",
    "    else:\n",
    "        NEXT_TRIAL = [ITER] + list(x)\n",
    "        raise StopIteration\n",
    "    ITER += 1\n",
    "    return 10000 / y"
   ]
  },
  {
   "cell_type": "code",
   "execution_count": 136,
   "metadata": {},
   "outputs": [],
   "source": [
    "def opt(dset, route=route):\n",
    "    global ITER\n",
    "    ITER = 1\n",
    "    try:\n",
    "        return scipy.optimize.minimize(fun, x0[dset], args=(dset,), method='SLSQP',\n",
    "                                       options={'eps': 5},\n",
    "                                       bounds=list(x[:2] for x in route[dset].values()))\n",
    "    except:\n",
    "        result = service.spreadsheets().values().update(\n",
    "            spreadsheetId=spreadsheet_id,\n",
    "            valueInputOption='USER_ENTERED',\n",
    "            range=f'{dset}!{xl_col_to_name(ITER)}1',\n",
    "            body={'values': [[f'Trial {NEXT_TRIAL[0]:d}'] + [float(val) for val in NEXT_TRIAL[1:]]],\n",
    "                  'majorDimension': 'COLUMNS'},\n",
    "        ).execute()"
   ]
  },
  {
   "cell_type": "code",
   "execution_count": 137,
   "metadata": {},
   "outputs": [],
   "source": [
    "for dset in ['Morning', 'Afternoon']:\n",
    "    opt(dset)"
   ]
  },
  {
   "cell_type": "code",
   "execution_count": null,
   "metadata": {
    "collapsed": true
   },
   "outputs": [],
   "source": []
  }
 ],
 "metadata": {
  "kernelspec": {
   "display_name": "Python 3",
   "language": "python",
   "name": "python3"
  },
  "language_info": {
   "codemirror_mode": {
    "name": "ipython",
    "version": 3
   },
   "file_extension": ".py",
   "mimetype": "text/x-python",
   "name": "python",
   "nbconvert_exporter": "python",
   "pygments_lexer": "ipython3",
   "version": "3.6.3"
  }
 },
 "nbformat": 4,
 "nbformat_minor": 2
}
