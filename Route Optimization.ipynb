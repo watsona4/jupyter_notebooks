{
 "cells": [
  {
   "cell_type": "code",
   "execution_count": 169,
   "metadata": {
    "collapsed": true
   },
   "outputs": [],
   "source": [
    "import os.path\n",
    "import shelve\n",
    "from collections import OrderedDict\n",
    "\n",
    "import numpy as np\n",
    "import scipy.optimize\n",
    "from prettytable import PrettyTable"
   ]
  },
  {
   "cell_type": "code",
   "execution_count": 214,
   "metadata": {},
   "outputs": [],
   "source": [
    "shelf = 'route_opt.db'\n",
    "data = {}\n",
    "try:\n",
    "    with shelve.open(shelf) as db:\n",
    "        data[1] = db['morning']\n",
    "        data[2] = db['afternoon']\n",
    "except:\n",
    "    data[1] = {}\n",
    "    data[2] = {}"
   ]
  },
  {
   "cell_type": "code",
   "execution_count": 215,
   "metadata": {
    "collapsed": true
   },
   "outputs": [],
   "source": [
    "route = {}\n",
    "route[1] = OrderedDict({'Hill St': [25, 40, 30],\n",
    "                        'Hegeman Bridge Rd': [30, 50, 40],\n",
    "                        'Rt. 40': [45, 60, 50],\n",
    "                        'Sarles Ferry': [40, 50, 45],\n",
    "                        'CR-113': [45, 60, 50],\n",
    "                        'Stillwater Bridge Rd': [25, 40, 35],\n",
    "                        'Stillwater': [25, 40, 30],\n",
    "                        'Hill in Stillwater': [25, 40, 35],\n",
    "                        'Rt. 4': [35, 45, 40],\n",
    "                        'Mechanicville': [25, 40, 30],\n",
    "                        'Leaving Mechanicville': [25, 45, 35],\n",
    "                        '45 mph Rt. 4': [40, 55, 45],\n",
    "                        'Rt. 146 hill': [40, 60, 45],\n",
    "                        'Rt. 146 curve': [45, 60, 50],\n",
    "                        'Rt. 146 before light': [45, 60, 45],\n",
    "                        'Rt. 146 after light': [45, 55, 45],\n",
    "                        'Rt. 146 Halfmoon': [45, 55, 45],\n",
    "                        'Clifton Park': [40, 50, 45],\n",
    "                        'Hill by Vent Fitness': [40, 60, 45],\n",
    "                        '55 mph Rt. 146': [45, 60, 50],\n",
    "                        'Rt. 146 near Balltown': [40, 60, 45],\n",
    "                        'Balltown in Rexford': [40, 50, 45],\n",
    "                        'Balltown on bridge': [40, 50, 45],\n",
    "                        '45 mph Balltown': [40, 50, 45],\n",
    "                        '40 mph Balltown': [40, 50, 40],\n",
    "                        'River Rd': [35, 50, 40],\n",
    "                       })"
   ]
  },
  {
   "cell_type": "code",
   "execution_count": 216,
   "metadata": {
    "collapsed": true
   },
   "outputs": [],
   "source": [
    "route[2] = OrderedDict({'River Rd': [35, 50, 40],\n",
    "                        '40 mph Balltown': [40, 50, 40],\n",
    "                        '45 mph Balltown': [40, 50, 45],\n",
    "                        'Balltown on bridge': [40, 50, 45],\n",
    "                        'Balltown in Rexford': [40, 50, 45],\n",
    "                        'Rt. 146 near Balltown': [40, 60, 45],\n",
    "                        '55 mph Rt. 146': [45, 60, 50],\n",
    "                        'Hill by Vent Fitness': [40, 60, 45],\n",
    "                        'Clifton Park': [40, 50, 45],\n",
    "                        'Rt. 146 Halfmoon': [45, 55, 45],\n",
    "                        'Rt. 146 before light': [45, 60, 45],\n",
    "                        'Rt. 146 after light': [45, 60, 45],\n",
    "                        'Rt. 146 curve': [45, 60, 50],\n",
    "                        'Rt. 146 hill': [40, 60, 45],\n",
    "                        '45 mph Rt. 4': [40, 55, 45],\n",
    "                        'Entering Mechanicville': [30, 45, 35],\n",
    "                        'Mechanicville': [25, 40, 30],\n",
    "                        'Rt. 4': [35, 45, 40],\n",
    "                        'Hill in Stillwater': [25, 40, 35],\n",
    "                        'Stillwater': [25, 40, 30],\n",
    "                        'Stillwater Bridge Rd': [25, 40, 35],\n",
    "                        'CR-113': [45, 60, 50],\n",
    "                        'Sarles Ferry': [40, 50, 45],\n",
    "                        'Rt. 40': [45, 60, 50],\n",
    "                        'Hegeman Bridge Rd': [30, 50, 40],\n",
    "                        'Hill St': [25, 40, 30],\n",
    "                       })"
   ]
  },
  {
   "cell_type": "code",
   "execution_count": 217,
   "metadata": {},
   "outputs": [],
   "source": [
    "x0 = {}\n",
    "x0[1] = [bounds[2] for bounds in route[1].values()]\n",
    "x0[2] = [bounds[2] for bounds in route[2].values()]"
   ]
  },
  {
   "cell_type": "code",
   "execution_count": 224,
   "metadata": {
    "collapsed": true
   },
   "outputs": [],
   "source": [
    "ITER = 0\n",
    "def f(x, dset):\n",
    "    global ITER\n",
    "    dat = data[dset]\n",
    "    rte = route[dset]\n",
    "    x = tuple(int(v) for v in np.rint(x))\n",
    "    if ITER in dat:\n",
    "        y = dat[ITER]\n",
    "        print(f'{ITER} MPG for {x} = {y}')\n",
    "    else:\n",
    "        tbl = PrettyTable(['Segment', 'Target Speed'])\n",
    "        tbl.align['Segment'] = 'l'\n",
    "        for seg, val in zip(rte, x):\n",
    "            tbl.add_row([seg, val])\n",
    "        print(tbl)\n",
    "        print('ITER =', ITER)\n",
    "        raise StopIteration\n",
    "    ITER += 1\n",
    "    return 10000 / y"
   ]
  },
  {
   "cell_type": "code",
   "execution_count": 225,
   "metadata": {
    "collapsed": true
   },
   "outputs": [],
   "source": [
    "def add(dset, x, y):\n",
    "    data[dset][x] = y\n",
    "    with shelve.open(shelf) as db:\n",
    "        name = 'morning' if dset == 1 else 'afternoon'\n",
    "        db[name] = data[dset]"
   ]
  },
  {
   "cell_type": "code",
   "execution_count": 226,
   "metadata": {},
   "outputs": [],
   "source": [
    "def opt(dset):\n",
    "    global ITER\n",
    "    ITER = 0\n",
    "    try:\n",
    "        return scipy.optimize.minimize(f, x0[dset], args=(dset,), method='SLSQP',\n",
    "                                       options={'ftol': 1, 'disp': True, 'eps': 1},\n",
    "                                       bounds=list(x[:2] for x in route[dset].values()))\n",
    "    except:\n",
    "        pass"
   ]
  },
  {
   "cell_type": "code",
   "execution_count": 227,
   "metadata": {
    "collapsed": true
   },
   "outputs": [],
   "source": [
    "def clear():\n",
    "    with shelve.open(shelf) as db:\n",
    "        db.clear()"
   ]
  },
  {
   "cell_type": "code",
   "execution_count": 232,
   "metadata": {
    "collapsed": true
   },
   "outputs": [],
   "source": [
    "def display():\n",
    "    with shelve.open(shelf) as db:\n",
    "        for key, val in db.items():\n",
    "            print(f'{key}:', val)"
   ]
  },
  {
   "cell_type": "code",
   "execution_count": 228,
   "metadata": {},
   "outputs": [
    {
     "name": "stdout",
     "output_type": "stream",
     "text": [
      "+-----------------------+--------------+\n",
      "| Segment               | Target Speed |\n",
      "+-----------------------+--------------+\n",
      "| Hill St               |      30      |\n",
      "| Hegeman Bridge Rd     |      40      |\n",
      "| Rt. 40                |      50      |\n",
      "| Sarles Ferry          |      45      |\n",
      "| CR-113                |      50      |\n",
      "| Stillwater Bridge Rd  |      35      |\n",
      "| Stillwater            |      30      |\n",
      "| Hill in Stillwater    |      35      |\n",
      "| Rt. 4                 |      40      |\n",
      "| Mechanicville         |      30      |\n",
      "| Leaving Mechanicville |      35      |\n",
      "| 45 mph Rt. 4          |      45      |\n",
      "| Rt. 146 hill          |      45      |\n",
      "| Rt. 146 curve         |      50      |\n",
      "| Rt. 146 before light  |      45      |\n",
      "| Rt. 146 after light   |      45      |\n",
      "| Rt. 146 Halfmoon      |      45      |\n",
      "| Clifton Park          |      45      |\n",
      "| Hill by Vent Fitness  |      45      |\n",
      "| 55 mph Rt. 146        |      50      |\n",
      "| Rt. 146 near Balltown |      45      |\n",
      "| Balltown in Rexford   |      45      |\n",
      "| Balltown on bridge    |      45      |\n",
      "| 45 mph Balltown       |      45      |\n",
      "| 40 mph Balltown       |      40      |\n",
      "| River Rd              |      40      |\n",
      "+-----------------------+--------------+\n",
      "ITER = 0\n"
     ]
    }
   ],
   "source": [
    "opt(1)"
   ]
  },
  {
   "cell_type": "code",
   "execution_count": 229,
   "metadata": {},
   "outputs": [
    {
     "name": "stdout",
     "output_type": "stream",
     "text": [
      "+------------------------+--------------+\n",
      "| Segment                | Target Speed |\n",
      "+------------------------+--------------+\n",
      "| River Rd               |      40      |\n",
      "| 40 mph Balltown        |      40      |\n",
      "| 45 mph Balltown        |      45      |\n",
      "| Balltown on bridge     |      45      |\n",
      "| Balltown in Rexford    |      45      |\n",
      "| Rt. 146 near Balltown  |      45      |\n",
      "| 55 mph Rt. 146         |      50      |\n",
      "| Hill by Vent Fitness   |      45      |\n",
      "| Clifton Park           |      45      |\n",
      "| Rt. 146 Halfmoon       |      45      |\n",
      "| Rt. 146 before light   |      45      |\n",
      "| Rt. 146 after light    |      45      |\n",
      "| Rt. 146 curve          |      50      |\n",
      "| Rt. 146 hill           |      45      |\n",
      "| 45 mph Rt. 4           |      45      |\n",
      "| Entering Mechanicville |      35      |\n",
      "| Mechanicville          |      30      |\n",
      "| Rt. 4                  |      40      |\n",
      "| Hill in Stillwater     |      35      |\n",
      "| Stillwater             |      30      |\n",
      "| Stillwater Bridge Rd   |      35      |\n",
      "| CR-113                 |      50      |\n",
      "| Sarles Ferry           |      45      |\n",
      "| Rt. 40                 |      50      |\n",
      "| Hegeman Bridge Rd      |      40      |\n",
      "| Hill St                |      30      |\n",
      "+------------------------+--------------+\n",
      "ITER = 0\n"
     ]
    }
   ],
   "source": [
    "opt(2)"
   ]
  },
  {
   "cell_type": "code",
   "execution_count": 230,
   "metadata": {},
   "outputs": [],
   "source": [
    "add(1, 0, 34.2)"
   ]
  },
  {
   "cell_type": "code",
   "execution_count": 231,
   "metadata": {
    "collapsed": true
   },
   "outputs": [],
   "source": [
    "add(2, 0, 34.3)"
   ]
  },
  {
   "cell_type": "code",
   "execution_count": 234,
   "metadata": {},
   "outputs": [],
   "source": [
    "clear()"
   ]
  },
  {
   "cell_type": "code",
   "execution_count": null,
   "metadata": {
    "collapsed": true
   },
   "outputs": [],
   "source": []
  }
 ],
 "metadata": {
  "kernelspec": {
   "display_name": "Python 3",
   "language": "python",
   "name": "python3"
  },
  "language_info": {
   "codemirror_mode": {
    "name": "ipython",
    "version": 3
   },
   "file_extension": ".py",
   "mimetype": "text/x-python",
   "name": "python",
   "nbconvert_exporter": "python",
   "pygments_lexer": "ipython3",
   "version": "3.6.3"
  }
 },
 "nbformat": 4,
 "nbformat_minor": 2
}
