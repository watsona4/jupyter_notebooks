{
 "cells": [
  {
   "cell_type": "code",
   "execution_count": 40,
   "metadata": {},
   "outputs": [],
   "source": [
    "from functools import partial\n",
    "\n",
    "import numpy as np\n",
    "from scipy.optimize import curve_fit"
   ]
  },
  {
   "cell_type": "code",
   "execution_count": 61,
   "metadata": {},
   "outputs": [],
   "source": [
    "weight = [290.5,287.6,284.1,282.8,282.3,280.1,278.4,276.8,276.1,277.1,276.9]\n",
    "fat = [38.7,39.1,37.4,37.3,37.2,36.7,36.2,36.1,35.9,36.4,36.1]\n",
    "x = list(range(len(weight)))"
   ]
  },
  {
   "cell_type": "code",
   "execution_count": 62,
   "metadata": {},
   "outputs": [],
   "source": [
    "def f(t, w0, Δ0, c4, Δp, τ, winf):\n",
    "    return winf + (w0 - winf - Δp/2*np.cos(2*np.pi/7*τ) - c4)*2**(-5/7*t) + \\\n",
    "        c4*np.exp(Δ0/c4*t) + Δp/2*np.cos(2*np.pi/7*(t - τ))\n",
    "\n",
    "bounds = ([-np.inf, -np.inf, -np.inf, -np.inf, 0], [np.inf, np.inf, np.inf, np.inf, 7])"
   ]
  },
  {
   "cell_type": "code",
   "execution_count": 63,
   "metadata": {},
   "outputs": [
    {
     "name": "stdout",
     "output_type": "stream",
     "text": [
      "w∞ = 128, w0 = 290.876, Δ0 = -0.613253, c4 = 153.94, Δp = 2.16861, τ = 3.67019\n"
     ]
    }
   ],
   "source": [
    "sol = curve_fit(partial(f, winf=128), x, weight, bounds=bounds)[0]\n",
    "print(f\"w∞ = 128, w0 = {sol[0]:6g}, Δ0 = {sol[1]:6g}, c4 = {sol[2]:6g}, Δp = {sol[3]:6g}, τ = {sol[4]:6g}\")"
   ]
  },
  {
   "cell_type": "code",
   "execution_count": 64,
   "metadata": {},
   "outputs": [
    {
     "name": "stdout",
     "output_type": "stream",
     "text": [
      "w∞ = 0, w0 = 38.9989, Δ0 = -0.146395, c4 = 37.2663, Δp = 0.466377, τ = 2.71683\n"
     ]
    }
   ],
   "source": [
    "sol = curve_fit(partial(f, winf=0), x, fat, bounds=bounds)[0]\n",
    "print(f\"w∞ = 0, w0 = {sol[0]:6g}, Δ0 = {sol[1]:6g}, c4 = {sol[2]:6g}, Δp = {sol[3]:6g}, τ = {sol[4]:6g}\")"
   ]
  },
  {
   "cell_type": "code",
   "execution_count": null,
   "metadata": {},
   "outputs": [],
   "source": []
  }
 ],
 "metadata": {
  "kernelspec": {
   "display_name": "Python 3",
   "language": "python",
   "name": "python3"
  },
  "language_info": {
   "codemirror_mode": {
    "name": "ipython",
    "version": 3
   },
   "file_extension": ".py",
   "mimetype": "text/x-python",
   "name": "python",
   "nbconvert_exporter": "python",
   "pygments_lexer": "ipython3",
   "version": "3.7.9"
  }
 },
 "nbformat": 4,
 "nbformat_minor": 4
}
