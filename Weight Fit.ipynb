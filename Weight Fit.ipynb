{
 "cells": [
  {
   "cell_type": "code",
   "execution_count": 1,
   "metadata": {},
   "outputs": [],
   "source": [
    "from functools import partial\n",
    "\n",
    "import numpy as np\n",
    "from scipy.optimize import curve_fit"
   ]
  },
  {
   "cell_type": "code",
   "execution_count": 6,
   "metadata": {},
   "outputs": [],
   "source": [
    "weight = [290.5,287.6,284.1,282.8,282.3,280.1,278.4,276.8,276.1,277.1,276.9,275.6,274.4,273.9,275.9,273.6]\n",
    "fat = [38.7,39.1,37.4,37.3,37.2,36.7,36.2,36.1,35.9,36.4,36.1,35.8,35.6,35.6,36.1,36.1]\n",
    "x = np.arange(len(weight))"
   ]
  },
  {
   "cell_type": "code",
   "execution_count": 7,
   "metadata": {},
   "outputs": [],
   "source": [
    "def f(t, w0, Δ0, c4, Δp, τ, winf):\n",
    "    return winf + (w0 - winf - Δp/2*np.cos(2*np.pi/7*τ) - c4)*2**(-5/7*t) + \\\n",
    "        c4*np.exp(Δ0/c4*t) + Δp/2*np.cos(2*np.pi/7*(t - τ))\n",
    "\n",
    "def e(x, y, sol, winf):\n",
    "    return 1 - np.sum((f(x, *sol, winf) - y)**2) / np.sum(np.array(y)**2)\n",
    "\n",
    "bounds = ((-np.inf, -np.inf, -np.inf, -np.inf, 0), (np.inf, np.inf, np.inf, np.inf, 7))"
   ]
  },
  {
   "cell_type": "code",
   "execution_count": 8,
   "metadata": {},
   "outputs": [
    {
     "name": "stdout",
     "output_type": "stream",
     "text": [
      "w∞ = 128, w0 = 291.036, Δ0 = -0.517861, c4 = 153.362, Δp = 1.12433, τ = 3.22882, r² = 99.9992%\n"
     ]
    }
   ],
   "source": [
    "sol, _ = curve_fit(partial(f, winf=128), x, weight, bounds=bounds)\n",
    "err = e(x, weight, sol, winf=128)\n",
    "print(\"w∞ = 128, w0 = {:g}, Δ0 = {:g}, c4 = {:g}, Δp = {:g}, τ = {:g}, r² = {:.4%}\".format(*sol, err))"
   ]
  },
  {
   "cell_type": "code",
   "execution_count": 9,
   "metadata": {},
   "outputs": [
    {
     "name": "stdout",
     "output_type": "stream",
     "text": [
      "w∞ = 128, w0 = 39.1143, Δ0 = -0.0734416, c4 = 36.8056, Δp = 0.431939, τ = 2.09862, r² = 99.9920%\n"
     ]
    }
   ],
   "source": [
    "sol, _ = curve_fit(partial(f, winf=0), x, fat, bounds=bounds)\n",
    "err = e(x, fat, sol, winf=0)\n",
    "print(\"w∞ = 128, w0 = {:g}, Δ0 = {:g}, c4 = {:g}, Δp = {:g}, τ = {:g}, r² = {:.4%}\".format(*sol, err))"
   ]
  },
  {
   "cell_type": "code",
   "execution_count": null,
   "metadata": {},
   "outputs": [],
   "source": []
  }
 ],
 "metadata": {
  "kernelspec": {
   "display_name": "Python 3",
   "language": "python",
   "name": "python3"
  },
  "language_info": {
   "codemirror_mode": {
    "name": "ipython",
    "version": 3
   },
   "file_extension": ".py",
   "mimetype": "text/x-python",
   "name": "python",
   "nbconvert_exporter": "python",
   "pygments_lexer": "ipython3",
   "version": "3.7.9"
  }
 },
 "nbformat": 4,
 "nbformat_minor": 4
}
