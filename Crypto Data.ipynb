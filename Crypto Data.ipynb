{
 "cells": [
  {
   "cell_type": "code",
   "execution_count": 22,
   "metadata": {},
   "outputs": [],
   "source": [
    "import numpy as np\n",
    "import pandas as pd\n",
    "import getpass\n",
    "import os\n",
    "import sys\n",
    "\n",
    "from datetime import datetime\n",
    "from time import sleep\n",
    "from random import SystemRandom\n",
    "\n",
    "try:\n",
    "    import robin_stocks.robinhood as r\n",
    "    import robin_stocks.robinhood.helper as rh\n",
    "except ImportError:\n",
    "    pass"
   ]
  },
  {
   "cell_type": "code",
   "execution_count": 2,
   "metadata": {},
   "outputs": [],
   "source": [
    "RAND = SystemRandom()\n",
    "ACTIONS = {1: [0.6, 0.4],\n",
    "           2: [0.57, 0.43],\n",
    "           3: [0.65, 0.35],\n",
    "           4: [0.75, 0.25],\n",
    "           5: [0.48, 0.52],\n",
    "           6: [0.6, 0.4],\n",
    "           8: [0, 1],\n",
    "           9: [0.7, 0.3],\n",
    "           10: [0.53, 0.47],\n",
    "           13: [0.76, 0.24],\n",
    "           14: [0.76, 0.24],\n",
    "           15: [0.65, 0.35],\n",
    "           17: [0.64, 0.36],\n",
    "           18: [0.59, 0.41],\n",
    "           19: [1, 0],\n",
    "           22: [0.14, 0.86],\n",
    "           23: [0.67, 0.33],\n",
    "           25: [0, 1],\n",
    "           26: [0.7, 0.3],\n",
    "           27: [0.71, 0.29],\n",
    "           28: [0.27, 0.44],\n",
    "           29: [0.23, 0.4],\n",
    "           30: [0.33, 0.33],\n",
    "           32: [0.4, 0.4],\n",
    "           33: [0.26, 0.53],\n",
    "           36: [0.6, 0.3],\n",
    "           37: [0.19, 0.55],\n",
    "           38: [0, 0.6],\n",
    "           40: [0.3, 0.41],\n",
    "           41: [0.27, 0.5],\n",
    "           42: [0.21, 0.46],\n",
    "           43: [1, 0],\n",
    "           44: [0.29, 0.57],\n",
    "           45: [0.29, 0.47],\n",
    "           46: [0, 0.67],\n",
    "           49: [0.19, 0.38],\n",
    "           50: [0.15, 0.62],\n",
    "           52: [0, 0.5],\n",
    "           53: [0.42, 0.46],\n",
    "           54: [0.25, 0.44],\n",
    "           55: [0, 0.3],\n",
    "           56: [0, 0.33],\n",
    "           57: [0, 0],\n",
    "           59: [0, 0],\n",
    "           60: [0, 0.25],\n",
    "           63: [0, 1],\n",
    "           64: [0, 0.4],\n",
    "           65: [0, 0.33],\n",
    "           67: [0, 0.38],\n",
    "           68: [0, 0.35],\n",
    "           69: [0, 0.35],\n",
    "           72: [0, 0.44],\n",
    "           73: [0, 0.32],\n",
    "           74: [0, 0.5],\n",
    "           76: [0, 0.36],\n",
    "           77: [0, 0.38],\n",
    "           78: [0, 0.64],\n",
    "           79: [0, 0.48],\n",
    "           80: [0, 0.36],\n",
    "           81: [0, 0.42]}"
   ]
  },
  {
   "cell_type": "code",
   "execution_count": 3,
   "metadata": {},
   "outputs": [
    {
     "name": "stdout",
     "output_type": "stream",
     "text": [
      "········\n"
     ]
    }
   ],
   "source": [
    "username = 'watsona4@gmail.com'\n",
    "password = getpass.getpass()"
   ]
  },
  {
   "cell_type": "code",
   "execution_count": 4,
   "metadata": {},
   "outputs": [],
   "source": [
    "login = r.login(username, password)"
   ]
  },
  {
   "cell_type": "code",
   "execution_count": 5,
   "metadata": {},
   "outputs": [],
   "source": [
    "h = r.get_crypto_historicals('BTC', interval='5minute', span='day')"
   ]
  },
  {
   "cell_type": "code",
   "execution_count": 6,
   "metadata": {},
   "outputs": [],
   "source": [
    "df = pd.DataFrame(h)\n",
    "df['begins_at'] = pd.to_datetime(df['begins_at']).dt.tz_localize(None)"
   ]
  },
  {
   "cell_type": "code",
   "execution_count": 7,
   "metadata": {},
   "outputs": [],
   "source": [
    "df.to_csv(f'btc_{datetime.now():%Y-%m-%d_%H%M%S}.csv')"
   ]
  },
  {
   "cell_type": "code",
   "execution_count": 8,
   "metadata": {},
   "outputs": [],
   "source": [
    "def get_holdings():\n",
    "    positions = r.get_crypto_positions()\n",
    "    for pos in positions:\n",
    "        if pos['currency']['code'] == 'BTC':\n",
    "            return float(pos['quantity'])"
   ]
  },
  {
   "cell_type": "code",
   "execution_count": 9,
   "metadata": {},
   "outputs": [],
   "source": [
    "def get_value():\n",
    "    profile = r.load_account_profile()\n",
    "    return float(profile['portfolio_cash'])"
   ]
  },
  {
   "cell_type": "code",
   "execution_count": 26,
   "metadata": {},
   "outputs": [],
   "source": [
    "etime = lambda x: (x - datetime(1900, 1, 1)).total_seconds()/3600/24\n",
    "\n",
    "def get_next_price():\n",
    "    sleep(300)\n",
    "    quote = r.get_crypto_quote('BTC')\n",
    "    print(f'{datetime.now()}: mark={quote[\"mark_price\"]}, ask={quote[\"ask_price\"]}, bid={quote[\"bid_price\"]}')\n",
    "    return {'time': etime(datetime.now()),\n",
    "            'mark': float(quote['mark_price']),\n",
    "            'ask': float(quote['ask_price']),\n",
    "            'bid': float(quote['bid_price'])}"
   ]
  },
  {
   "cell_type": "code",
   "execution_count": 24,
   "metadata": {},
   "outputs": [],
   "source": [
    "def get_action(box):\n",
    "    if box not in ACTIONS:\n",
    "        return 'HOLD'\n",
    "    b = ACTIONS[box]\n",
    "    rand = RAND.random()\n",
    "    if rand < b[0]:\n",
    "        return 'BUY'\n",
    "    if rand < b[0] + b[1]:\n",
    "        return 'HOLD'\n",
    "    return 'SELL'"
   ]
  },
  {
   "cell_type": "code",
   "execution_count": null,
   "metadata": {},
   "outputs": [
    {
     "name": "stdout",
     "output_type": "stream",
     "text": [
      "2021-04-23 05:02:15.074804: mark=48604.640000, ask=48624.090000, bid=48585.190000\n",
      "2021-04-23 05:07:16.536766: mark=48518.305000, ask=48537.720000, bid=48498.890000\n",
      "2021-04-23 05:12:16.897795: mark=48632.164800, ask=48659.972606, bid=48604.356995\n",
      "2021-04-23 05:17:17.249569: mark=48392.340000, ask=48411.440000, bid=48373.240000\n",
      "2021-04-23 05:22:17.605975: mark=48260.922406, ask=48273.160000, bid=48248.684813\n",
      "2021-04-23 05:22:17.605975: pp1 = -0.7833, pp2 = 0.3695, pp3 = 0.9074, pp4 = 1.1471\n",
      "2021-04-23 05:22:17.605975: action=BUY , shares=0.00169, value=0.19\n",
      "2021-04-23 05:27:18.306651: mark=48294.663658, ask=48310.107317, bid=48279.220000\n",
      "2021-04-23 05:27:18.306651: pp1 = 0.2007, pp2 = 0.5655, pp3 = 0.1126, pp4 = -0.4567\n",
      "2021-04-23 05:27:18.306651: action=HOLD, shares=0.00169, value=0.19\n",
      "2021-04-23 05:32:18.833292: mark=48480.640248, ask=48496.790000, bid=48464.490497\n",
      "2021-04-23 05:32:18.833292: pp1 = 1.1029, pp2 = 0.5187, pp3 = -0.0269, pp4 = -0.0802\n",
      "2021-04-23 05:32:18.833292: action=SELL, shares=0.00169, value=0.19\n",
      "2021-04-23 05:37:19.766407: mark=48122.655671, ask=48140.091342, bid=48105.220000\n",
      "2021-04-23 05:37:19.767408: pp1 = -2.1358, pp2 = -1.8597, pp3 = -1.3657, pp4 = -0.7688\n",
      "2021-04-23 05:37:19.767408: action=BUY , shares=0.0, value=82.08\n",
      "{'non_field_errors': ['Insufficient holdings.']}\n",
      "2021-04-23 05:42:20.922310: mark=48102.284267, ask=48109.430000, bid=48095.138535\n",
      "2021-04-23 05:42:20.922310: pp1 = -0.1215, pp2 = 1.1558, pp3 = 1.7302, pp4 = 1.7764\n",
      "2021-04-23 05:42:20.922310: action=SELL, shares=0.0, value=82.08\n",
      "2021-04-23 05:47:21.631505: mark=48403.930669, ask=48415.270000, bid=48392.591339\n",
      "2021-04-23 05:47:21.631505: pp1 = 1.7905, pp2 = 1.0987, pp3 = -0.0328, pp4 = -1.0131\n",
      "2021-04-23 05:47:21.631505: action=HOLD, shares=0.0, value=82.08\n"
     ]
    }
   ],
   "source": [
    "p0 = pp1 = pp2 = pp3 = None\n",
    "\n",
    "while True:\n",
    "\n",
    "    p1 = p0\n",
    "    p0 = get_next_price()\n",
    "\n",
    "    if p1 is None: continue\n",
    "\n",
    "    dt = p0['time'] - p1['time']\n",
    "\n",
    "    pp1old = pp1\n",
    "    pp1 = (p0['mark'] - p1['mark'])/(p0['mark']*dt)\n",
    "\n",
    "    if pp1old is None: continue\n",
    "\n",
    "    pp2old = pp2\n",
    "    pp2 = (pp1 - pp1old)/(500*dt)\n",
    "\n",
    "    if pp2old is None: continue\n",
    "\n",
    "    pp3old = pp3\n",
    "    pp3 = (pp2 - pp2old)/(500*dt)\n",
    "\n",
    "    if pp3old is None: continue\n",
    "\n",
    "    pp4 = (pp3 - pp3old)/(500*dt)\n",
    "\n",
    "    print(f'{datetime.now()}: pp1 = {pp1:.4f}, pp2 = {pp2:.4f}, pp3 = {pp3:.4f}, pp4 = {pp4:.4f}')\n",
    "\n",
    "    def boxpp(x):\n",
    "        if x < -0.2:\n",
    "            return 0\n",
    "        if x < 0.2:\n",
    "            return 1\n",
    "        return 2\n",
    "\n",
    "    box = 27*boxpp(pp1) + 9*boxpp(pp2) + 3*boxpp(pp3) + boxpp(pp4) + 1\n",
    "\n",
    "    action = get_action(box)\n",
    "\n",
    "    print(f'{datetime.now()}: action={action:4s}, shares={get_holdings()}, value={get_value()}')\n",
    "    \n",
    "    if action == 'BUY':\n",
    "        r.order_buy_crypto_by_price('BTC', get_value())\n",
    "            if 'account_id' not in order:\n",
    "                print(order)\n",
    "    elif action == 'SELL':\n",
    "        if get_holdings() > 1e-6:\n",
    "            order = r.order_sell_crypto_by_quantity('BTC', get_holdings())\n",
    "            if 'account_id' not in order:\n",
    "                print(order)"
   ]
  },
  {
   "cell_type": "code",
   "execution_count": null,
   "metadata": {},
   "outputs": [],
   "source": []
  }
 ],
 "metadata": {
  "kernelspec": {
   "display_name": "Python 3",
   "language": "python",
   "name": "python3"
  },
  "language_info": {
   "codemirror_mode": {
    "name": "ipython",
    "version": 3
   },
   "file_extension": ".py",
   "mimetype": "text/x-python",
   "name": "python",
   "nbconvert_exporter": "python",
   "pygments_lexer": "ipython3",
   "version": "3.7.9"
  }
 },
 "nbformat": 4,
 "nbformat_minor": 4
}
