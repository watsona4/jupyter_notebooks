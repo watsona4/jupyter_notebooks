{
 "cells": [
  {
   "cell_type": "code",
   "execution_count": 21,
   "metadata": {},
   "outputs": [],
   "source": [
    "import matplotlib.pyplot as plt\n",
    "import numpy as np\n",
    "import datetime as dt\n",
    "import pandas as pd\n",
    "import pprint\n",
    "import getpass\n",
    "\n",
    "from datetime import datetime\n",
    "from time import sleep\n",
    "from random import SystemRandom\n",
    "\n",
    "try:\n",
    "    import robin_stocks.robinhood as r\n",
    "except ImportError:\n",
    "    pass"
   ]
  },
  {
   "cell_type": "code",
   "execution_count": 25,
   "metadata": {},
   "outputs": [],
   "source": [
    "RAND = SystemRandom()\n",
    "ACTIONS = {1: [0.6, 0.4],\n",
    "           2: [0.57, 0.43],\n",
    "           3: [0.65, 0.35],\n",
    "           4: [0.75, 0.25],\n",
    "           5: [0.48, 0.52],\n",
    "           6: [0.6, 0.4],\n",
    "           8: [0, 1],\n",
    "           9: [0.7, 0.3],\n",
    "           10: [0.53, 0.47],\n",
    "           13: [0.76, 0.24],\n",
    "           14: [0.76, 0.24],\n",
    "           15: [0.65, 0.35],\n",
    "           17: [0.64, 0.36],\n",
    "           18: [0.59, 0.41],\n",
    "           19: [1, 0],\n",
    "           22: [0.14, 0.86],\n",
    "           23: [0.67, 0.33],\n",
    "           25: [0, 1],\n",
    "           26: [0.7, 0.3],\n",
    "           27: [0.71, 0.29],\n",
    "           28: [0.27, 0.44],\n",
    "           29: [0.23, 0.4],\n",
    "           30: [0.33, 0.33],\n",
    "           32: [0.4, 0.4],\n",
    "           33: [0.26, 0.53],\n",
    "           36: [0.6, 0.3],\n",
    "           37: [0.19, 0.55],\n",
    "           38: [0, 0.6],\n",
    "           40: [0.3, 0.41],\n",
    "           41: [0.27, 0.5],\n",
    "           42: [0.21, 0.46],\n",
    "           43: [1, 0],\n",
    "           44: [0.29, 0.57],\n",
    "           45: [0.29, 0.47],\n",
    "           46: [0, 0.67],\n",
    "           49: [0.19, 0.38],\n",
    "           50: [0.15, 0.62],\n",
    "           52: [0, 0.5],\n",
    "           53: [0.42, 0.46],\n",
    "           54: [0.25, 0.44],\n",
    "           55: [0, 0.3],\n",
    "           56: [0, 0.33],\n",
    "           57: [0, 0],\n",
    "           59: [0, 0],\n",
    "           60: [0, 0.25],\n",
    "           63: [0, 1],\n",
    "           64: [0, 0.4],\n",
    "           65: [0, 0.33],\n",
    "           67: [0, 0.38],\n",
    "           68: [0, 0.35],\n",
    "           69: [0, 0.35],\n",
    "           72: [0, 0.44],\n",
    "           73: [0, 0.32],\n",
    "           74: [0, 0.5],\n",
    "           76: [0, 0.36],\n",
    "           77: [0, 0.38],\n",
    "           78: [0, 0.64],\n",
    "           79: [0, 0.48],\n",
    "           80: [0, 0.36],\n",
    "           81: [0, 0.42]}"
   ]
  },
  {
   "cell_type": "code",
   "execution_count": 2,
   "metadata": {},
   "outputs": [
    {
     "name": "stdin",
     "output_type": "stream",
     "text": [
      " ····\n"
     ]
    }
   ],
   "source": [
    "username = 'watsona4@gmail.com'\n",
    "password = getpass.getpass()"
   ]
  },
  {
   "cell_type": "code",
   "execution_count": 3,
   "metadata": {},
   "outputs": [
    {
     "ename": "NameError",
     "evalue": "name 'r' is not defined",
     "output_type": "error",
     "traceback": [
      "\u001b[1;31m---------------------------------------------------------------------------\u001b[0m",
      "\u001b[1;31mNameError\u001b[0m                                 Traceback (most recent call last)",
      "\u001b[1;32m<ipython-input-3-d487b1a78cc7>\u001b[0m in \u001b[0;36m<module>\u001b[1;34m\u001b[0m\n\u001b[1;32m----> 1\u001b[1;33m \u001b[0mr\u001b[0m\u001b[1;33m.\u001b[0m\u001b[0mlogin\u001b[0m\u001b[1;33m(\u001b[0m\u001b[0musername\u001b[0m\u001b[1;33m,\u001b[0m \u001b[0mpassword\u001b[0m\u001b[1;33m)\u001b[0m\u001b[1;33m\u001b[0m\u001b[1;33m\u001b[0m\u001b[0m\n\u001b[0m",
      "\u001b[1;31mNameError\u001b[0m: name 'r' is not defined"
     ]
    }
   ],
   "source": [
    "r.login(username, password)"
   ]
  },
  {
   "cell_type": "code",
   "execution_count": 56,
   "metadata": {},
   "outputs": [
    {
     "name": "stdout",
     "output_type": "stream",
     "text": [
      "ERROR: Span must be \"hour\",\"day\",\"week\",\"month\",\"3month\",\"year\",or \"5year\"\n"
     ]
    }
   ],
   "source": [
    "h = r.get_crypto_historicals('BTC', interval='5minute', span='week')"
   ]
  },
  {
   "cell_type": "code",
   "execution_count": 53,
   "metadata": {},
   "outputs": [],
   "source": [
    "df = pd.DataFrame(h)\n",
    "df['begins_at'] = pd.to_datetime(df['begins_at']).dt.tz_localize(None)"
   ]
  },
  {
   "cell_type": "code",
   "execution_count": 54,
   "metadata": {},
   "outputs": [],
   "source": [
    "df.to_csv('btc_5minute_week_20210421.csv')"
   ]
  },
  {
   "cell_type": "code",
   "execution_count": 35,
   "metadata": {},
   "outputs": [],
   "source": [
    "df = pd.read_csv('btc_5minute_week_20210421.csv', usecols=['begins_at', 'open_price'], parse_dates=['begins_at'])"
   ]
  },
  {
   "cell_type": "code",
   "execution_count": 41,
   "metadata": {},
   "outputs": [
    {
     "data": {
      "text/html": [
       "<div>\n",
       "<style scoped>\n",
       "    .dataframe tbody tr th:only-of-type {\n",
       "        vertical-align: middle;\n",
       "    }\n",
       "\n",
       "    .dataframe tbody tr th {\n",
       "        vertical-align: top;\n",
       "    }\n",
       "\n",
       "    .dataframe thead th {\n",
       "        text-align: right;\n",
       "    }\n",
       "</style>\n",
       "<table border=\"1\" class=\"dataframe\">\n",
       "  <thead>\n",
       "    <tr style=\"text-align: right;\">\n",
       "      <th></th>\n",
       "      <th>begins_at</th>\n",
       "      <th>open_price</th>\n",
       "    </tr>\n",
       "  </thead>\n",
       "  <tbody>\n",
       "    <tr>\n",
       "      <th>2011</th>\n",
       "      <td>2021-04-21 20:05:00</td>\n",
       "      <td>62146.620</td>\n",
       "    </tr>\n",
       "    <tr>\n",
       "      <th>2012</th>\n",
       "      <td>2021-04-21 20:10:00</td>\n",
       "      <td>62258.625</td>\n",
       "    </tr>\n",
       "    <tr>\n",
       "      <th>2013</th>\n",
       "      <td>2021-04-21 20:15:00</td>\n",
       "      <td>62131.995</td>\n",
       "    </tr>\n",
       "    <tr>\n",
       "      <th>2014</th>\n",
       "      <td>2021-04-21 20:20:00</td>\n",
       "      <td>62216.685</td>\n",
       "    </tr>\n",
       "    <tr>\n",
       "      <th>2015</th>\n",
       "      <td>2021-04-21 20:25:00</td>\n",
       "      <td>62239.930</td>\n",
       "    </tr>\n",
       "  </tbody>\n",
       "</table>\n",
       "</div>"
      ],
      "text/plain": [
       "               begins_at  open_price\n",
       "2011 2021-04-21 20:05:00   62146.620\n",
       "2012 2021-04-21 20:10:00   62258.625\n",
       "2013 2021-04-21 20:15:00   62131.995\n",
       "2014 2021-04-21 20:20:00   62216.685\n",
       "2015 2021-04-21 20:25:00   62239.930"
      ]
     },
     "execution_count": 41,
     "metadata": {},
     "output_type": "execute_result"
    }
   ],
   "source": [
    "df.tail()"
   ]
  },
  {
   "cell_type": "code",
   "execution_count": 57,
   "metadata": {},
   "outputs": [
    {
     "data": {
      "text/plain": [
       "{'ask_price': '54896.734322',\n",
       " 'bid_price': '54849.110000',\n",
       " 'mark_price': '54872.922161',\n",
       " 'high_price': '56565.285000',\n",
       " 'low_price': '54197.898876',\n",
       " 'open_price': '55306.480000',\n",
       " 'symbol': 'BTCUSD',\n",
       " 'id': '3d961844-d360-45fc-989b-f6fca761d511',\n",
       " 'volume': '0.000000'}"
      ]
     },
     "execution_count": 57,
     "metadata": {},
     "output_type": "execute_result"
    }
   ],
   "source": [
    "r.get_crypto_quote('BTC')"
   ]
  },
  {
   "cell_type": "code",
   "execution_count": 53,
   "metadata": {},
   "outputs": [],
   "source": [
    "i = 0\n",
    "def get_next_price():\n",
    "    global i\n",
    "    i += 1\n",
    "    #time.sleep(300)\n",
    "    #quote = r.get_crypto_quote('BTC')\n",
    "    #return {'time': etime(datetime.now()), 'price': float(quote['ask_price'])}\n",
    "    return {'time': etime(df.iloc[i-1]['begins_at']), 'price': df.iloc[i-1]['open_price']}\n",
    "\n",
    "def etime(x):\n",
    "    return (x - datetime(1900, 1, 1)).total_seconds()/3600/24"
   ]
  },
  {
   "cell_type": "code",
   "execution_count": 54,
   "metadata": {},
   "outputs": [],
   "source": [
    "def get_action(box):\n",
    "    b = ACTIONS[box]\n",
    "    rand = RAND.random()\n",
    "    if rand < b[0]:\n",
    "        return 'BUY'\n",
    "    if rand < b[0] + b[1]:\n",
    "        return 'HOLD'\n",
    "    return 'SELL'"
   ]
  },
  {
   "cell_type": "code",
   "execution_count": 55,
   "metadata": {},
   "outputs": [],
   "source": [
    "def buy(shares, value, price):\n",
    "    if value == 0:\n",
    "        return shares, value\n",
    "    #order = r.order_buy_crypto_by_price('BTC', value)\n",
    "    #return float(order.quantity)\n",
    "    return value/price, 0\n",
    "\n",
    "def sell(shares, value, price):\n",
    "    if shares == 0:\n",
    "        return shares, value\n",
    "    #order = r.order_sell_crypto_by_quantity('BTC', shares)\n",
    "    #return float(order.price)\n",
    "    return 0, shares*price"
   ]
  },
  {
   "cell_type": "code",
   "execution_count": 71,
   "metadata": {},
   "outputs": [],
   "source": [
    "def trade():\n",
    "    global i\n",
    "    i = 0\n",
    "    last_act = 'SELL'\n",
    "    shares = 0\n",
    "    value = 100\n",
    "\n",
    "    p0 = pp1 = pp2 = pp3 = None\n",
    "\n",
    "    while True:\n",
    "\n",
    "        p1 = p0\n",
    "\n",
    "        try:\n",
    "            p0 = get_next_price()\n",
    "        except IndexError:\n",
    "            shares, value = sell(shares, value, p0['price'])\n",
    "            return value\n",
    "\n",
    "        if p1 is None: continue\n",
    "\n",
    "        pp1old = pp1\n",
    "        pp1 = (p0['price'] - p1['price'])/(p0['price']*(p0['time'] - p1['time']))\n",
    "\n",
    "        if pp1old is None: continue\n",
    "\n",
    "        pp2old = pp2\n",
    "        pp2 = (pp1 - pp1old)/(500*(p0['time'] - p1['time']))\n",
    "\n",
    "        if pp2old is None: continue\n",
    "\n",
    "        pp3old = pp3\n",
    "        pp3 = (pp2 - pp2old)/(500*(p0['time'] - p1['time']))\n",
    "\n",
    "        if pp3old is None: continue\n",
    "\n",
    "        pp4 = (pp3 - pp3old)/(500*(p0['time'] - p1['time']))\n",
    "\n",
    "        def boxpp(x):\n",
    "            if x < -0.2:\n",
    "                return 0\n",
    "            if x < 0.2:\n",
    "                return 1\n",
    "            return 2\n",
    "\n",
    "        box = 27*boxpp(pp1) + 9*boxpp(pp2) + 3*boxpp(pp3) + boxpp(pp4) + 1\n",
    "\n",
    "        action = get_action(box)\n",
    "\n",
    "        if action == 'BUY' and last_act != 'BUY':\n",
    "            shares, value = buy(shares, value, p0['price'])\n",
    "        elif action == 'SELL' and last_act != 'SELL':\n",
    "            shares, value = sell(shares, value, p0['price'])\n",
    "        else:\n",
    "            last_act = 'HOLD'\n",
    "\n",
    "        #print(f'action={action:4s}, shares={shares:.4f}, value={value:.2f}')\n",
    "        \n",
    "    return value"
   ]
  },
  {
   "cell_type": "code",
   "execution_count": 78,
   "metadata": {},
   "outputs": [],
   "source": [
    "vals = []\n",
    "for j in range(20):\n",
    "    vals.append(trade()/100 - 1)"
   ]
  },
  {
   "cell_type": "code",
   "execution_count": 79,
   "metadata": {},
   "outputs": [],
   "source": [
    "avg = np.mean(vals)\n",
    "stdev = np.std(vals)"
   ]
  },
  {
   "cell_type": "code",
   "execution_count": 84,
   "metadata": {},
   "outputs": [
    {
     "name": "stdout",
     "output_type": "stream",
     "text": [
      "4.1656473549394555 +/- 0.7598550037108482 weeks\n",
      "24.993884129636733 +/- 4.559130022265089 weeks\n"
     ]
    }
   ],
   "source": [
    "ten = 1/np.log10(1 + avg)\n",
    "pm = stdev*ten**2/(1 + avg)\n",
    "print(f'{ten} +/- {pm} weeks')\n",
    "print(f'{6*ten} +/- {6*pm} weeks')"
   ]
  },
  {
   "cell_type": "code",
   "execution_count": null,
   "metadata": {},
   "outputs": [],
   "source": []
  }
 ],
 "metadata": {
  "kernelspec": {
   "display_name": "Python 3",
   "language": "python",
   "name": "python3"
  },
  "language_info": {
   "codemirror_mode": {
    "name": "ipython",
    "version": 3
   },
   "file_extension": ".py",
   "mimetype": "text/x-python",
   "name": "python",
   "nbconvert_exporter": "python",
   "pygments_lexer": "ipython3",
   "version": "3.7.9"
  }
 },
 "nbformat": 4,
 "nbformat_minor": 4
}
