{
 "cells": [
  {
   "cell_type": "code",
   "execution_count": 1,
   "metadata": {},
   "outputs": [],
   "source": [
    "from functools import partial\n",
    "import os.path\n",
    "\n",
    "from google.auth.transport.requests import Request\n",
    "from google.oauth2.credentials import Credentials\n",
    "from google_auth_oauthlib.flow import InstalledAppFlow\n",
    "from googleapiclient.discovery import build\n",
    "from googleapiclient.errors import HttpError\n",
    "import numpy as np\n",
    "from scipy.optimize import curve_fit\n",
    "\n",
    "SCOPES = ['https://www.googleapis.com/auth/spreadsheets.readonly']\n",
    "SPREADSHEET_ID = '1JNA2ZuNQuX2TNNFF_vuLC4pIwzz_upBPfuAk1qrCqx4'"
   ]
  },
  {
   "cell_type": "code",
   "execution_count": 3,
   "metadata": {},
   "outputs": [],
   "source": [
    "creds = None\n",
    "\n",
    "if os.path.exists('token.json'):\n",
    "    creds = Credentials.from_authorized_user_file('token.json', SCOPES)\n",
    "    \n",
    "if not creds or not creds.valid:\n",
    "    if creds and creds.expired and creds.refresh_token:\n",
    "        creds.refresh(Request())\n",
    "    else:\n",
    "        flow = InstalledAppFlow.from_client_secrets_file('credentials.json', SCOPES)\n",
    "        creds = flow.run_local_server(port=0)\n",
    "\n",
    "    with open('token.json', 'w') as token:\n",
    "        token.write(creds.to_json())\n",
    "\n",
    "service = build('sheets', 'v4', credentials=creds)\n",
    "\n",
    "sheet = service.spreadsheets()\n",
    "\n",
    "def load_data():\n",
    "    result = sheet.values().get(spreadsheetId=SPREADSHEET_ID, range='Data!M2:P').execute()\n",
    "    values = np.array(result.get('values', []), dtype=float)\n",
    "    return values[:, 0], values[:, 1], values[:, 2]\n",
    "\n",
    "def store_data(sol, range, winf):\n",
    "    values = [winf] + list(sol)\n",
    "    for val in values:\n",
    "        print(val)\n",
    "    # sheet.values().update(spreadsheetId=SPREADSHEET_ID, range=range,\n",
    "    #                       body={'values': values}).execute()"
   ]
  },
  {
   "cell_type": "code",
   "execution_count": 4,
   "metadata": {},
   "outputs": [],
   "source": [
    "x, weight, fat = load_data()"
   ]
  },
  {
   "cell_type": "code",
   "execution_count": 5,
   "metadata": {},
   "outputs": [],
   "source": [
    "def f(t, w0, Δ0, c4, Δp1, τ1, Δp2, τ2, winf):\n",
    "    return winf + (w0 - winf - Δp1/2*np.cos(2*np.pi/7*τ1) - Δp2/2*np.cos(2*np.pi*τ2) - c4)*2**(-5/7*t) + \\\n",
    "        c4*np.exp(Δ0/c4*t) + Δp1/2*np.cos(2*np.pi/7*(t - τ1)) + Δp2/2*np.cos(2*np.pi*(t - τ2))\n",
    "\n",
    "def e(x, y, sol, winf=None):\n",
    "    if winf is not None:\n",
    "        return 1 - np.sum((f(x, *sol, winf) - y)**2) / np.sum(np.array(y)**2)\n",
    "    else:\n",
    "        return 1 - np.sum((f(x, *sol) - y)**2) / np.sum(np.array(y)**2)\n",
    "\n",
    "bounds = ((-np.inf, -np.inf, -np.inf, -np.inf, 0, -np.inf, 0), (np.inf, np.inf, np.inf, np.inf, 7, np.inf, 1))"
   ]
  },
  {
   "cell_type": "code",
   "execution_count": 6,
   "metadata": {},
   "outputs": [
    {
     "name": "stdout",
     "output_type": "stream",
     "text": [
      "169.0356115548257\n",
      "307.6999999987843\n",
      "27.603254178182148\n",
      "-12.942725566646407\n",
      "140.45445503188012\n",
      "2.3976075275827937\n",
      "-6.92133078825826\n",
      "0.19636735795936927\n"
     ]
    },
    {
     "name": "stderr",
     "output_type": "stream",
     "text": [
      "C:\\Users\\watso\\anaconda3\\Lib\\site-packages\\scipy\\optimize\\_minpack_py.py:906: OptimizeWarning: Covariance of the parameters could not be estimated\n",
      "  warnings.warn('Covariance of the parameters could not be estimated',\n"
     ]
    }
   ],
   "source": [
    "winf = (1800 - 88.362 + 5.677*43 - 4.799*76*2.54)/13.397*2.2\n",
    "sol, _ = curve_fit(partial(f, winf=winf), x, weight, bounds=bounds, max_nfev=10000)\n",
    "err = e(x, weight, sol, winf=winf)\n",
    "store_data(sol, 'Data!W2', winf=winf)"
   ]
  },
  {
   "cell_type": "code",
   "execution_count": 7,
   "metadata": {
    "scrolled": true
   },
   "outputs": [
    {
     "name": "stdout",
     "output_type": "stream",
     "text": [
      "0\n",
      "41.8\n",
      "3.838645774125358\n",
      "8.846929082965705\n",
      "21.779626240248003\n",
      "1.3849988713474697\n",
      "0.28650480572232007\n",
      "0.6179308839371819\n"
     ]
    }
   ],
   "source": [
    "winf = 0\n",
    "sol, _ = curve_fit(partial(f, winf=winf), x, fat, bounds=bounds, max_nfev=10000)\n",
    "err = e(x, fat, sol, winf=winf)\n",
    "store_data(sol, 'Data!X2', winf=winf)"
   ]
  },
  {
   "cell_type": "code",
   "execution_count": null,
   "metadata": {},
   "outputs": [],
   "source": []
  }
 ],
 "metadata": {
  "kernelspec": {
   "display_name": "Python 3 (ipykernel)",
   "language": "python",
   "name": "python3"
  },
  "language_info": {
   "codemirror_mode": {
    "name": "ipython",
    "version": 3
   },
   "file_extension": ".py",
   "mimetype": "text/x-python",
   "name": "python",
   "nbconvert_exporter": "python",
   "pygments_lexer": "ipython3",
   "version": "3.11.3"
  }
 },
 "nbformat": 4,
 "nbformat_minor": 4
}
