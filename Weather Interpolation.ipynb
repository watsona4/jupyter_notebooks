{
 "cells": [
  {
   "cell_type": "code",
   "execution_count": 34,
   "id": "07af7151",
   "metadata": {},
   "outputs": [],
   "source": [
    "import numpy as np\n",
    "\n",
    "from scipy.interpolate import SmoothSphereBivariateSpline"
   ]
  },
  {
   "cell_type": "code",
   "execution_count": 21,
   "id": "dede2a0e",
   "metadata": {},
   "outputs": [],
   "source": [
    "def lat_to_phi(lat, lon):\n",
    "    theta = np.pi/180*(lon + 180)\n",
    "    phi = np.pi/180*(lat + 90)\n",
    "    return theta, phi"
   ]
  },
  {
   "cell_type": "code",
   "execution_count": 22,
   "id": "d151d0a6",
   "metadata": {},
   "outputs": [],
   "source": [
    "locs = {'saratoga': (43.083056, -73.784444),\n",
    "        'glens_falls': (43.312222, -73.648333),\n",
    "        'grafton': (42.768889, -73.450833),\n",
    "        'bennington': (42.891111, -73.208056),\n",
    "        'manchester': (43.140833, -73.08)}"
   ]
  },
  {
   "cell_type": "code",
   "execution_count": 23,
   "id": "35753854",
   "metadata": {},
   "outputs": [],
   "source": [
    "snow = {'saratoga': 4.2, 'glens_falls': 4.6, 'grafton': 4.9, 'bennington': 4.6, 'manchester': 5.2}"
   ]
  },
  {
   "cell_type": "code",
   "execution_count": 24,
   "id": "53570837",
   "metadata": {},
   "outputs": [],
   "source": [
    "data = []\n",
    "for key in snow:\n",
    "    data.append([*lat_to_phi(*locs[key]), snow[key]])\n",
    "data = np.array(data)"
   ]
  },
  {
   "cell_type": "code",
   "execution_count": 36,
   "id": "06ff5d4b",
   "metadata": {},
   "outputs": [],
   "source": [
    "interp = SmoothSphereBivariateSpline(data[:,0], data[:,1], data[:,2], s=2)"
   ]
  },
  {
   "cell_type": "code",
   "execution_count": 39,
   "id": "6a2a8b4a",
   "metadata": {},
   "outputs": [
    {
     "data": {
      "text/plain": [
       "4.636826178450774"
      ]
     },
     "execution_count": 39,
     "metadata": {},
     "output_type": "execute_result"
    }
   ],
   "source": [
    "interp(*lat_to_phi(43.091389, -73.497222))[0,0]"
   ]
  },
  {
   "cell_type": "code",
   "execution_count": null,
   "id": "98a76295",
   "metadata": {},
   "outputs": [],
   "source": []
  }
 ],
 "metadata": {
  "kernelspec": {
   "display_name": "Python 3 (ipykernel)",
   "language": "python",
   "name": "python3"
  },
  "language_info": {
   "codemirror_mode": {
    "name": "ipython",
    "version": 3
   },
   "file_extension": ".py",
   "mimetype": "text/x-python",
   "name": "python",
   "nbconvert_exporter": "python",
   "pygments_lexer": "ipython3",
   "version": "3.11.3"
  }
 },
 "nbformat": 4,
 "nbformat_minor": 5
}
