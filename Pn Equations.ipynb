{
 "cells": [
  {
   "cell_type": "markdown",
   "metadata": {},
   "source": [
    "Spherical Harmonics form of the Multigroup Transport Equation:"
   ]
  },
  {
   "cell_type": "markdown",
   "metadata": {},
   "source": [
    "$$\\hat{\\Omega}\\cdot\\vec{\\nabla}\\psi_g(\\vec{r},\\hat{\\Omega})\n",
    "+ \\sigma_g(\\vec{r})\\psi_g(\\vec{r},\\hat{\\Omega})\n",
    "= \\sum_{g^\\prime}\\sum_{\\ell=0}^{L}\\sum_{n=-\\ell}^{\\ell}\n",
    "\\sigma_{s,g^\\prime\\rightarrow g}^\\ell(\\vec{r})\n",
    "Y_\\ell^n(\\hat{\\Omega})\\phi_{g^\\prime,\\ell,n}(\\vec{r})\n",
    "+\\frac{\\chi_g(\\vec{r})}{4\\pi}\\sum_{g^\\prime}\\nu\\sigma_{f,g^\\prime}(\\vec{r})\\phi_{g^\\prime,0,0}(\\vec{r})$$"
   ]
  },
  {
   "cell_type": "markdown",
   "metadata": {},
   "source": [
    "Multiply through by a weighting function $Y_\\ell^{*n}(\\hat{\\Omega})$ and integrate over $4\\pi$:"
   ]
  },
  {
   "cell_type": "markdown",
   "metadata": {},
   "source": [
    "$$\\vec{\\nabla}\\cdot\\int_{4\\pi}\\hat{\\Omega}Y_\\ell^{*n}(\\hat{\\Omega})\\psi_g(\\vec{r},\\hat{\\Omega})d\\Omega\n",
    "+ \\sigma_g(\\vec{r})\\int_{4\\pi}Y_\\ell^{*n}(\\hat{\\Omega})\\psi_g(\\vec{r},\\hat{\\Omega})d\\Omega\n",
    "= \\sum_{g^\\prime}\\sum_{\\ell^\\prime=0}^{L}\\sum_{n^\\prime=-\\ell^\\prime}^{\\ell^\\prime}\n",
    "\\sigma_{s,g^\\prime\\rightarrow g}^{\\ell^\\prime}(\\vec{r})\n",
    "\\int_{4\\pi}Y_\\ell^{*n}(\\hat{\\Omega})Y_{\\ell^\\prime}^{n^\\prime}(\\hat{\\Omega})d\\Omega\\phi_{g^\\prime,\\ell^\\prime,n^\\prime}(\\vec{r})\n",
    "+\\frac{\\chi_g(\\vec{r})}{4\\pi}\\sum_{g^\\prime}\\nu\\sigma_{f,g^\\prime}(\\vec{r})\\phi_{g^\\prime,0,0}(\\vec{r})\\int_{4\\pi}Y_\\ell^{*n}(\\hat{\\Omega})d\\Omega$$"
   ]
  },
  {
   "cell_type": "markdown",
   "metadata": {},
   "source": [
    "We expand the angular flux in spherical harmonics as: $\\psi(\\vec{r},\\hat{\\Omega})=\\sum_{\\ell=0}^L\\sum_{n=-\\ell}^\\ell Y_\\ell^n(\\hat{\\Omega})\\phi_{\\ell,n}(\\vec{r})$. Substituting this definition:"
   ]
  },
  {
   "cell_type": "markdown",
   "metadata": {},
   "source": [
    "$$\\sum_{\\ell^\\prime=0}^L\\sum_{n^\\prime=-\\ell^\\prime}^{\\ell^\\prime}\n",
    "\\vec{\\nabla}\\cdot\\phi_{g,\\ell^\\prime,n^\\prime}(\\vec{r})\n",
    "\\int_{4\\pi}\\hat{\\Omega}Y_\\ell^{*n}(\\hat{\\Omega})Y_{\\ell^\\prime}^{n^\\prime}(\\hat{\\Omega})d\\Omega\n",
    "+ \\sum_{\\ell^\\prime=0}^L\\sum_{n^\\prime=-\\ell^\\prime}^{\\ell^\\prime}\n",
    "\\sigma_g(\\vec{r})\\phi_{g,\\ell^\\prime,n^\\prime}(\\vec{r})\n",
    "\\int_{4\\pi}Y_\\ell^{*n}(\\hat{\\Omega})Y_{\\ell^\\prime}^{n^\\prime}(\\hat{\\Omega})d\\Omega\n",
    "= \\sum_{g^\\prime}\\sum_{\\ell^\\prime=0}^{L}\\sum_{n^\\prime=-\\ell^\\prime}^{\\ell^\\prime}\n",
    "\\sigma_{s,g^\\prime\\rightarrow g}^{\\ell^\\prime}(\\vec{r})\\phi_{g^\\prime,\\ell^\\prime,n^\\prime}(\\vec{r})\n",
    "\\int_{4\\pi}Y_\\ell^{*n}(\\hat{\\Omega})Y_{\\ell^\\prime}^{n^\\prime}(\\hat{\\Omega})d\\Omega\n",
    "+ \\frac{\\chi_g(\\vec{r})}{4\\pi}\\sum_{g^\\prime}\n",
    "\\nu\\sigma_{f,g^\\prime}(\\vec{r})\\phi_{g^\\prime,0,0}(\\vec{r})\n",
    "\\int_{4\\pi}Y_\\ell^{*n}(\\hat{\\Omega})d\\Omega$$"
   ]
  },
  {
   "cell_type": "markdown",
   "metadata": {},
   "source": [
    "By the orthogonality property of spherical harmonics, $\\int_{4\\pi}Y_\\ell^{*n}(\\hat{\\Omega})Y_{\\ell^\\prime}^{n^\\prime}(\\hat{\\Omega})d\\Omega=\\delta_{\\ell\\ell^\\prime}\\delta_{nn^\\prime}$. Also, $\\int_{4\\pi}Y_\\ell^{*n}(\\hat{\\Omega})d\\Omega=\\sqrt{4\\pi}\\delta_{\\ell0}\\delta_{n0}$:"
   ]
  },
  {
   "cell_type": "markdown",
   "metadata": {},
   "source": [
    "$$\\sum_{\\ell^\\prime=0}^L\\sum_{n^\\prime=-\\ell^\\prime}^{\\ell^\\prime}\n",
    "\\vec{\\nabla}\\cdot\\phi_{g,\\ell^\\prime,n^\\prime}(\\vec{r})\n",
    "\\int_{4\\pi}\\hat{\\Omega}Y_\\ell^{*n}(\\hat{\\Omega})Y_{\\ell^\\prime}^{n^\\prime}(\\hat{\\Omega})d\\Omega\n",
    "+ \\sigma_g(\\vec{r})\\phi_{g,\\ell,n}(\\vec{r})\n",
    "= \\sum_{g^\\prime}\\sigma_{s,g^\\prime\\rightarrow g}^{\\ell}(\\vec{r})\\phi_{g^\\prime,\\ell,n}(\\vec{r})\n",
    "+ \\frac{\\chi_g(\\vec{r})}{\\sqrt{4\\pi}}\\sum_{g^\\prime}\n",
    "\\nu\\sigma_{f,g^\\prime}(\\vec{r})\\phi_{g^\\prime,0,0}(\\vec{r})$$"
   ]
  },
  {
   "cell_type": "markdown",
   "metadata": {},
   "source": [
    "This leaves just the three direction integrals $\\int_{4\\pi}\\hat{\\Omega}Y_\\ell^{*n}(\\hat{\\Omega})Y_{\\ell^\\prime}^{n^\\prime}(\\hat{\\Omega})d\\Omega$ to evaluate. The standard definition of the $\\hat{\\Omega}$ vector is:"
   ]
  },
  {
   "cell_type": "markdown",
   "metadata": {},
   "source": [
    "$$\\begin{align}\n",
    "\\hat{\\Omega}_x &= \\sqrt{1-\\mu^2}\\cos{\\varphi} \\\\\n",
    "\\hat{\\Omega}_y &= \\sqrt{1-\\mu^2}\\sin{\\varphi} \\\\\n",
    "\\hat{\\Omega}_z &= \\mu\n",
    "\\end{align}$$"
   ]
  },
  {
   "cell_type": "markdown",
   "metadata": {},
   "source": [
    "So, we need to evaluate the three integrals:"
   ]
  },
  {
   "cell_type": "markdown",
   "metadata": {},
   "source": [
    "$$\\begin{align}\n",
    "&\\int_{4\\pi}\\sqrt{1-\\mu^2}\\cos{\\varphi}Y_\\ell^{*n}(\\hat{\\Omega})Y_{\\ell^\\prime}^{n^\\prime}(\\hat{\\Omega})d\\Omega\\text{,} \\\\\n",
    "&\\int_{4\\pi}\\sqrt{1-\\mu^2}\\sin{\\varphi}Y_\\ell^{*n}(\\hat{\\Omega})Y_{\\ell^\\prime}^{n^\\prime}(\\hat{\\Omega})d\\Omega\\text{, and} \\\\\n",
    "&\\int_{4\\pi}\\mu Y_\\ell^{*n}(\\hat{\\Omega})Y_{\\ell^\\prime}^{n^\\prime}(\\hat{\\Omega})d\\Omega\\text{.}\n",
    "\\end{align}$$"
   ]
  },
  {
   "cell_type": "markdown",
   "metadata": {},
   "source": [
    "This gives us several integrals to evaluate. Eventually the weighting function $f(\\hat{\\Omega})$ will be expanded into the terms of the angular flux expansion, that is they follow the sequence $Y^e_{0,0}(\\hat{\\Omega}), Y^e_{1,0}(\\hat{\\Omega}), Y^o_{1,1}(\\hat{\\Omega}), Y^e_{1,1}(\\hat{\\Omega}), Y^e_{2,0}(\\hat{\\Omega}), Y^o_{2,1}(\\hat{\\Omega}), Y^e_{2,1}(\\hat{\\Omega}),$ etc. So, we will evaluate these integral for both even and odd spherical harmonics. Our spherical harmonics functions are defined as:"
   ]
  },
  {
   "cell_type": "markdown",
   "metadata": {},
   "source": [
    "$$\\begin{align}\n",
    "&Y^e_{\\ell,n}(\\hat{\\Omega}) = \\sqrt{2-\\delta_{n0}}\\sqrt{\\frac{2\\ell-1}{4\\pi}\\frac{(\\ell-n)!}{(\\ell+n)!}}P_\\ell^n(\\mu)\\cos{n\\varphi} \\\\\n",
    "&Y^o_{\\ell,n}(\\hat{\\Omega}) = \\sqrt{2}\\sqrt{\\frac{2\\ell-1}{4\\pi}\\frac{(\\ell-n)!}{(\\ell+n)!}}P_\\ell^n(\\mu)\\sin{n\\varphi}\n",
    "\\end{align}$$"
   ]
  },
  {
   "cell_type": "markdown",
   "metadata": {},
   "source": [
    "For the fission term:"
   ]
  },
  {
   "cell_type": "markdown",
   "metadata": {},
   "source": [
    "$$\\begin{align}\n",
    "&\\int_{4\\pi}Y^e_{\\ell^\\prime,n^\\prime}(\\hat{\\Omega})d\\Omega = \\sqrt{4\\pi}\\delta_{\\ell^\\prime0}\\delta_{n^\\prime0} \\\\\n",
    "&\\int_{4\\pi}Y^o_{\\ell^\\prime,n^\\prime}(\\hat{\\Omega})d\\Omega = 0\n",
    "\\end{align}$$"
   ]
  },
  {
   "cell_type": "markdown",
   "metadata": {},
   "source": [
    "For the even scattering term:"
   ]
  },
  {
   "cell_type": "markdown",
   "metadata": {},
   "source": [
    "$$\\begin{align}\n",
    "&\\int_{4\\pi}Y^e_{\\ell^\\prime,n^\\prime}(\\hat{\\Omega})Y^e_{\\ell,n}(\\hat{\\Omega})d\\Omega = (2-\\delta_{n^\\prime 0})\\delta_{\\ell^\\prime\\ell}\\delta_{n^\\prime n} \\\\\n",
    "&\\int_{4\\pi}Y^o_{\\ell^\\prime,n^\\prime}(\\hat{\\Omega})Y^e_{\\ell,n}(\\hat{\\Omega})d\\Omega = 0\n",
    "\\end{align}$$"
   ]
  },
  {
   "cell_type": "markdown",
   "metadata": {},
   "source": [
    "For the odd scattering term:"
   ]
  },
  {
   "cell_type": "markdown",
   "metadata": {},
   "source": [
    "$$\\begin{align}\n",
    "&\\int_{4\\pi}Y^e_{\\ell^\\prime,n^\\prime}(\\hat{\\Omega})Y^o_{\\ell,n}(\\hat{\\Omega})d\\Omega = 0 \\\\\n",
    "&\\int_{4\\pi}Y^o_{\\ell^\\prime,n^\\prime}(\\hat{\\Omega})Y^o_{\\ell,n}(\\hat{\\Omega})d\\Omega = 2\\delta_{\\ell^\\prime\\ell}\\delta_{n^\\prime n}\n",
    "\\end{align}$$"
   ]
  },
  {
   "cell_type": "markdown",
   "metadata": {},
   "source": [
    "For the even streaming term:"
   ]
  },
  {
   "cell_type": "markdown",
   "metadata": {},
   "source": [
    "$$\\begin{align}\n",
    "&\\int_{4\\pi}\\hat{\\Omega}Y^e_{\\ell^\\prime,n^\\prime}(\\hat{\\Omega})Y^e_{\\ell,n}(\\hat{\\Omega})d\\Omega = \n",
    "\\left<\\int_{4\\pi}\\mu Y^e_{\\ell^\\prime,n^\\prime}(\\hat{\\Omega})Y^e_{\\ell,n}(\\hat{\\Omega})d\\Omega,\n",
    "\\int_{4\\pi}\\sqrt{1-\\mu^2}\\cos\\varphi Y^e_{\\ell^\\prime,n^\\prime}(\\hat{\\Omega})Y^e_{\\ell,n}(\\hat{\\Omega})d\\Omega,\n",
    "\\int_{4\\pi}\\sqrt{1-\\mu^2}\\sin\\varphi Y^e_{\\ell^\\prime,n^\\prime}(\\hat{\\Omega})Y^e_{\\ell,n}(\\hat{\\Omega})d\\Omega\\right>\\\\\n",
    "&\\int_{4\\pi}\\hat{\\Omega}Y^o_{\\ell^\\prime,n^\\prime}(\\hat{\\Omega})Y^e_{\\ell,n}(\\hat{\\Omega})d\\Omega =\n",
    "\\left<\\int_{4\\pi}\\mu Y^o_{\\ell^\\prime,n^\\prime}(\\hat{\\Omega})Y^e_{\\ell,n}(\\hat{\\Omega})d\\Omega,\n",
    "\\int_{4\\pi}\\sqrt{1-\\mu^2}\\cos\\varphi Y^o_{\\ell^\\prime,n^\\prime}(\\hat{\\Omega})Y^e_{\\ell,n}(\\hat{\\Omega})d\\Omega,\n",
    "\\int_{4\\pi}\\sqrt{1-\\mu^2}\\sin\\varphi Y^o_{\\ell^\\prime,n^\\prime}(\\hat{\\Omega})Y^e_{\\ell,n}(\\hat{\\Omega})d\\Omega\\right>\n",
    "\\end{align}$$"
   ]
  },
  {
   "cell_type": "markdown",
   "metadata": {},
   "source": [
    "We will consider each of these terms separately:"
   ]
  },
  {
   "cell_type": "markdown",
   "metadata": {},
   "source": [
    "This gives us four integrals to evaluate:"
   ]
  },
  {
   "cell_type": "markdown",
   "metadata": {},
   "source": [
    "$$\\begin{align}\n",
    "&\\int_{4\\pi}f(\\vec{\\Omega})\\hat{\\Omega}\\psi_g(\\vec{r},\\hat{\\Omega})d\\Omega \\\\\n",
    "&\\int_{4\\pi}f(\\vec{\\Omega})\\psi_g(\\vec{r},\\hat{\\Omega})d\\Omega \\\\\n",
    "&\\int_{4\\pi}f(\\vec{\\Omega})Y^e_{\\ell,n}(\\hat{\\Omega})d\\Omega \\\\\n",
    "&\\int_{4\\pi}f(\\vec{\\Omega})Y^o_{\\ell,n}(\\hat{\\Omega})d\\Omega \\\\\n",
    "&\\int_{4\\pi}f(\\vec{\\Omega})d\\Omega\n",
    "\\end{align}$$"
   ]
  },
  {
   "cell_type": "code",
   "execution_count": null,
   "metadata": {
    "collapsed": true
   },
   "outputs": [],
   "source": []
  }
 ],
 "metadata": {
  "kernelspec": {
   "display_name": "Python 3",
   "language": "python",
   "name": "python3"
  },
  "language_info": {
   "codemirror_mode": {
    "name": "ipython",
    "version": 3
   },
   "file_extension": ".py",
   "mimetype": "text/x-python",
   "name": "python",
   "nbconvert_exporter": "python",
   "pygments_lexer": "ipython3",
   "version": "3.6.3"
  }
 },
 "nbformat": 4,
 "nbformat_minor": 2
}
