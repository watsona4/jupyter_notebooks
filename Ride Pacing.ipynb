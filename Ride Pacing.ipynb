{
 "cells": [
  {
   "cell_type": "code",
   "execution_count": 1,
   "metadata": {},
   "outputs": [],
   "source": [
    "import locale\n",
    "import os.path\n",
    "\n",
    "from google.auth.transport.requests import Request\n",
    "from google.oauth2.credentials import Credentials\n",
    "from google_auth_oauthlib.flow import InstalledAppFlow\n",
    "from googleapiclient.discovery import build\n",
    "from googleapiclient.errors import HttpError\n",
    "import numpy as np\n",
    "from scipy.optimize import curve_fit\n",
    "\n",
    "locale.setlocale(locale.LC_ALL, \"en_US\")\n",
    "\n",
    "SCOPES = ['https://www.googleapis.com/auth/spreadsheets.readonly']\n",
    "SPREADSHEET_ID = '1Wd-p3P46K7ERwMMmCFpX8ZyD-VV9X8t5E2kDts3qs-w'"
   ]
  },
  {
   "cell_type": "code",
   "execution_count": 2,
   "metadata": {},
   "outputs": [],
   "source": [
    "creds = None\n",
    "\n",
    "if os.path.exists('token.json'):\n",
    "    creds = Credentials.from_authorized_user_file('token.json', SCOPES)\n",
    "    \n",
    "if not creds or not creds.valid:\n",
    "    if creds and creds.expired and creds.refresh_token:\n",
    "        creds.refresh(Request())\n",
    "    else:\n",
    "        flow = InstalledAppFlow.from_client_secrets_file('credentials.json', SCOPES)\n",
    "        creds = flow.run_local_server(port=0)\n",
    "\n",
    "    with open('token.json', 'w') as token:\n",
    "        token.write(creds.to_json())\n",
    "\n",
    "service = build('sheets', 'v4', credentials=creds)\n",
    "\n",
    "sheet = service.spreadsheets()\n",
    "\n",
    "def load_data():\n",
    "    result = sheet.values().get(spreadsheetId=SPREADSHEET_ID, range='Data!A2:I').execute()\n",
    "    values = result.get('values', [])\n",
    "    for i, row in enumerate(values):\n",
    "        for j, val in enumerate(row):\n",
    "            if '%' in val:\n",
    "                values[i][j] = locale.atof(val.rstrip(\"%\")) / 100\n",
    "            else:\n",
    "                values[i][j] = locale.atof(val)\n",
    "    values = np.array(values, dtype=float)\n",
    "    return (values[:, i] for i in range(9))\n",
    "\n",
    "def store_data(sol, range, winf):\n",
    "    values = [winf] + list(sol)\n",
    "    sheet.values().update(spreadsheetId=SPREADSHEET_ID, range=range,\n",
    "                          body={'values': values}).execute()"
   ]
  },
  {
   "cell_type": "code",
   "execution_count": 3,
   "metadata": {},
   "outputs": [],
   "source": [
    "dist, _, elev, temp, weight, wind, _, power, speed = load_data()"
   ]
  },
  {
   "cell_type": "code",
   "execution_count": 4,
   "metadata": {},
   "outputs": [],
   "source": [
    "def f(x, c1, c2, c3, c4, c5, c6, c7, c8, c9, c10, c11, c12, c13):\n",
    "    d, e, t, w, n, p = x\n",
    "    return c1 + c2*d + c3*d**2 + c4*e + c5*e**2 + c6*t + c7*t**2 + c8*w + c9*w**2 + c10*n + c11*n**2 + c12*p + c13*p**2"
   ]
  },
  {
   "cell_type": "code",
   "execution_count": 5,
   "metadata": {},
   "outputs": [
    {
     "name": "stdout",
     "output_type": "stream",
     "text": [
      "c1 = 80.7452, c2 = 0.0402536, c3 = -0.000438487, c4 = -357.908, c5 = 1481.72, c6 = 0.0912924, c7 = -0.00059398, c8 = -0.555713, c9 = 0.00101737, c10 = -0.14662, c11 = 0.00930723, c12 = 6.72189, c13 = -0.762562\n"
     ]
    }
   ],
   "source": [
    "sol, _ = curve_fit(f, (dist, elev, temp, weight, wind, power), speed)\n",
    "print(\"c1 = {:g}, c2 = {:g}, c3 = {:g}, c4 = {:g}, c5 = {:g}, c6 = {:g}, c7 = {:g}, c8 = {:g}, c9 = {:g}, c10 = {:g}, c11 = {:g}, c12 = {:g}, c13 = {:g}\".format(*sol))\n",
    "#store_data(sol, 'Data!AB2')"
   ]
  },
  {
   "cell_type": "code",
   "execution_count": null,
   "metadata": {},
   "outputs": [],
   "source": []
  }
 ],
 "metadata": {
  "kernelspec": {
   "display_name": "Python 3",
   "language": "python",
   "name": "python3"
  },
  "language_info": {
   "codemirror_mode": {
    "name": "ipython",
    "version": 3
   },
   "file_extension": ".py",
   "mimetype": "text/x-python",
   "name": "python",
   "nbconvert_exporter": "python",
   "pygments_lexer": "ipython3",
   "version": "3.7.9"
  }
 },
 "nbformat": 4,
 "nbformat_minor": 4
}
