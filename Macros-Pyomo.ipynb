{
 "cells": [
  {
   "cell_type": "code",
   "execution_count": 1,
   "metadata": {
    "collapsed": true
   },
   "outputs": [],
   "source": [
    "from pyomo.environ import AbstractModel, Set, Param, Var, Constraint, ConstraintList, Objective, NonNegativeIntegers, \\\n",
    "    NonNegativeReals, Reals, maximize\n",
    "import os\n",
    "os.environ['path'] = 'K:\\\\COIN-OR\\\\1.8.0\\\\win32-msvc12\\\\bin' + os.pathsep + os.environ['path']"
   ]
  },
  {
   "cell_type": "code",
   "execution_count": 328,
   "metadata": {},
   "outputs": [
    {
     "name": "stdout",
     "output_type": "stream",
     "text": [
      "targets = {'fat': 97.22222222222223, 'carbs': 17.5, 'protein': 113.75, 'fiber': 0}\n"
     ]
    }
   ],
   "source": [
    "target_cals = 1400\n",
    "#target_macros = {'fat': 30, 'carbs': 25, 'protein': 45, 'fiber': 20.6}  # fat loss\n",
    "#target_macros = {'fat': 15, 'carbs': 55, 'protein': 30, 'fiber': 30}  # muscle gain\n",
    "target_macros = {'fat': 62.5, 'carbs': 5, 'protein': 32.5, 'fiber': 0}  # keto\n",
    "targets = {'fat': target_macros['fat'] / 9 * target_cals / 100,\n",
    "           'carbs': target_macros['carbs'] / 4 * target_cals / 100,\n",
    "           'protein': target_macros['protein'] / 4 * target_cals / 100,\n",
    "           'fiber': target_macros['fiber']}\n",
    "print('targets =', targets)\n",
    "#amounts = {\n",
    "#    'banana': (0,2),\n",
    "#    'apple': (0,2),\n",
    "#    'egg': (1,2),\n",
    "#    'yogurt/maple syrup': (0,2*227),\n",
    "#    'celery': (0,65),\n",
    "#    'peanut butter': (0*32,2*32),\n",
    "#    'carrot': (0,65),\n",
    "#    'hummus': (0*28,2*28),\n",
    "#    'chicken': (0,16),\n",
    "#    'smoothie': (0,2),\n",
    "#    'protein powder': (0,2*30),\n",
    "#    'broccoli': (0,3*78),\n",
    "#    'cheese': (0,2),\n",
    "#    'lettuce': (0,4*36),\n",
    "#    'tomatoes': (0,4*75),\n",
    "#    'greek dressing': (0,4*30),\n",
    "#    'benefiber': (0,60),\n",
    "#    'cottage cheese': (0,2),\n",
    "#    'fruit cup': (0,2),\n",
    "#}\n",
    "amounts = {\n",
    "#    'yogurt/maple syrup': 170,\n",
    "#    'yogurt': 170,\n",
    "#    'blueberries': 36,\n",
    "#    'granola': 30,\n",
    "    'celery': 65,\n",
    "    'peanut butter': (25,50),\n",
    "    #'carrot': 65,\n",
    "    #'hummus': (0,50),\n",
    "    'chicken': (0,11),\n",
    "#    'smoothie': 1,\n",
    "#    'protein powder': 30,\n",
    "#    'broccoli': (0,78),\n",
    "    'cheese': (0, 3),\n",
    "    'lettuce': (70,108),\n",
    "    #'tomatoes': 75,\n",
    "    'ranch dressing': 30,\n",
    "#    'gummies': 2,\n",
    "    'cottage cheese': (1,2),\n",
    "#    'fruit cup': 1,\n",
    " #   'bbq sauce': 30,\n",
    "#    'almonds': (0, 56),\n",
    "    'walnuts': 30,#(0, 56),\n",
    "   # 'pecans': (0, 56),\n",
    "    'egg': 2,\n",
    "}\n",
    "ints = ['egg', 'cheese', 'yogurt/maple syrup', 'smoothie', 'apple', 'banana', 'cottage cheese', 'gummies']"
   ]
  },
  {
   "cell_type": "code",
   "execution_count": 329,
   "metadata": {},
   "outputs": [
    {
     "name": "stdout",
     "output_type": "stream",
     "text": [
      "+--------------------------------+------------+-----------+-----------+-----------+------------+------------------------------+\n",
      "|              Name              |    Fat     |   Carbs   |  Protein  |   Sodium  |   Fiber    |            Units             |\n",
      "+--------------------------------+------------+-----------+-----------+-----------+------------+------------------------------+\n",
      "|          almond milk           |    0.36    |    0.19   |    0.19   |     23    |     0      |            ounces            |\n",
      "|            almonds             |   0.4993   |   0.2155  |   0.2115  |    0.01   |   0.125    |            grams             |\n",
      "|             apple              |    0.31    |   25.13   |    0.47   |     2     |    4.4     |            medium            |\n",
      "|           asparagus            |   0.0022   |   0.0411  |   0.024   |     0     |    0.02    |            grams             |\n",
      "|             banana             |    0.39    |   26.95   |    1.29   |     1     |    3.1     |            medium            |\n",
      "|           bbq sauce            |     0      |   0.1875  |     0     |    7.5    |  0.03125   |            grams             |\n",
      "|          bell peppers          |   0.003    |   0.0603  |   0.0099  |    0.04   |   0.021    |            grams             |\n",
      "|           benefiber            |     0      |  0.945946 |     0     |     0     |  0.675676  |            grams             |\n",
      "|          blueberries           |   0.0033   |   0.1449  |   0.0074  |   0.0001  |   0.0024   |            grams             |\n",
      "|        breaded chicken         |    1.68    |    5.81   |   10.09   |    118    |    0.18    |            ounces            |\n",
      "|            broccoli            | 0.00410256 | 0.0717949 | 0.0238462 |  0.410256 | 0.0333333  |            grams             |\n",
      "|          canned corn           |   0.0122   |   0.1434  |   0.0229  |     0     |    0.02    |            grams             |\n",
      "|       canned green beans       |   0.0041   |   0.0419  |   0.0105  |     0     |   0.019    |            grams             |\n",
      "|             carrot             |   0.0024   |   0.0958  |   0.0093  |    0.69   |   0.028    |            grams             |\n",
      "|          cauliflower           |   0.0045   |   0.0411  |   0.0184  |     0     |   0.023    |            grams             |\n",
      "|             celery             |   0.0017   |   0.0297  |   0.0069  |    0.8    |   0.016    |            grams             |\n",
      "|             cheese             |     6      |     0     |     7     |    190    |     0      |            sticks            |\n",
      "|            chicken             |   1.071    |     0     |   9.306   |    22.2   |     0      |            ounces            |\n",
      "|       chicken meatballs        |    2.3     |    1.31   |    4.18   |    117    |    0.48    |      meatball w/ sauce       |\n",
      "|          chicken parm          |     39     |    5.72   |    70.5   |    358    |     1      |           serving            |\n",
      "|        chicken sausage         |     2      |     4     |     5     |    160    |     0      |             link             |\n",
      "|         cottage cheese         |    4.5     |     4     |     13    |    400    |     0      |             cups             |\n",
      "|          creamed corn          |   0.0042   |   0.1813  |   0.0174  |     0     |   0.012    |            grams             |\n",
      "|              egg               |    6.7     |    0.98   |    6.09   |     88    |     0      |            large             |\n",
      "|           fruit cup            |    0.09    |   25.13   |   0.378   |     6     |    1.28    | package and 20 g maple syrup |\n",
      "|            granola             |    0.2     |    0.6    |    0.1    |    3.5    | 0.0666667  |            grams             |\n",
      "|          green beans           |   0.0028   |   0.0788  |   0.0189  |     0     |   0.032    |            grams             |\n",
      "|            gummies             |     0      |    3.5    |     0     |     0     |     2      |           gummies            |\n",
      "|             hummus             |  0.178571  |  0.142857 | 0.0714286 |  4.46429  | 0.0357143  |            grams             |\n",
      "|            lettuce             |   0.0015   |   0.0287  |   0.0136  |    0.28   |   0.013    |            grams             |\n",
      "|         peanut butter          |  0.833333  |    0.2    |    0.3    | 0.0666667 | 0.0666667  |            grams             |\n",
      "|             pecans             |    0.72    |    0.14   |    0.09   |     0     |    0.1     |            grams             |\n",
      "|           pork chop            |    1.24    |     0     |    8.1    |     19    |     0      |            ounces            |\n",
      "|          pork sausage          |   0.248    |   0.0093  |   0.1539  |    7.39   |     0      |            grams             |\n",
      "|         protein powder         |  0.133333  |    0.4    |  0.366667 |     0     |    0.4     |            grams             |\n",
      "|         ranch dressing         |  0.166667  |  0.133333 | 0.0333333 |  10.3333  |     0      |            grams             |\n",
      "|             salmon             |    1.8     |     0     |    5.62   |     12    |     0      |            ounces            |\n",
      "|             salsa              |     0      | 0.0666667 |     0     |  6.66667  |     0      |            grams             |\n",
      "|          skirt steak           |    3.8     |     0     |     9     |   0.189   |     0      |            ounce             |\n",
      "|            smoothie            |    0.92    |   51.22   |    3.28   |     27    |    6.3     |           serving            |\n",
      "|            soymilk             | 0.0081893  | 0.0411934 | 0.0246914 |  0.390947 | 0.00411523 |            grams             |\n",
      "|            tilapia             |    0.79    |     0     |    7.84   |     17    |     0      |            ounces            |\n",
      "|       tomato caper sauce       |   1.385    |   4.2075  |    1.05   |   206.75  |    1.4     |           serving            |\n",
      "|            tomatoes            |   0.002    |   0.0389  |   0.0088  |    0.05   |   0.012    |            grams             |\n",
      "|          vinaigrette           |    0.5     |  0.08515  |  0.00245  |   0.125   |     0      |            grams             |\n",
      "|            walnuts             |  0.666667  |  0.133333 |  0.166667 |     0     | 0.0666667  |            grams             |\n",
      "|             yogurt             |     0      | 0.0396476 |  0.101322 |  0.374449 |     0      |            grams             |\n",
      "| yogurt/blueberries/maple syrup | 0.00111765 |  0.167765 |  0.108353 |    0.4    | 0.00764706 |         grams yogurt         |\n",
      "|       yogurt/maple syrup       | 0.0198588  |  0.120059 |  0.105941 |  0.394118 |     0      |         grams yogurt         |\n",
      "+--------------------------------+------------+-----------+-----------+-----------+------------+------------------------------+\n"
     ]
    }
   ],
   "source": [
    "from collections import namedtuple\n",
    "Food = namedtuple('Food', ['fat', 'carbs', 'protein', 'sodium', 'fiber', 'units'])\n",
    "food = {\n",
    "    'soymilk': Food(fat=1.99/243, carbs=10.01/243, protein=6/243, sodium=95/243, fiber=1/243, units='grams'),  # 1 cup = 243 g\n",
    "    'egg': Food(fat=6.7, carbs=0.98, protein=6.09, sodium=88, fiber=0, units='large'),  # 1 large = 61 g\n",
    "    'yogurt/maple syrup': Food(fat=0.01/170+0.0198, carbs=20.41/170, protein=18.01/170, sodium=67/170, fiber=0, units='grams yogurt'),  # 1 container = 170 g\n",
    "    'yogurt': Food(fat=0.01/170, carbs=0, protein=18.01/170, sodium=67/170, fiber=0, units='grams'),  # 1 container = 170 g\n",
    "# 5%    'yogurt': Food(fat=11/227, carbs=7/227, protein=20/227, sodium=80/227, fiber=0, units='grams'),  # 1 container = 170 g\n",
    "    'blueberries': Food(fat=0.0033, carbs=0.1449, protein=0.0074, sodium=0.0001, fiber=0.0024, units='grams'),  # 1 container = 170 g\n",
    "    'yogurt/blueberries/maple syrup': Food(fat=0.19/170, carbs=28.52/170, protein=18.42/170, sodium=68/170, fiber=1.3/170, units='grams yogurt'),  # 1 container = 170 g\n",
    "    'celery': Food(fat=0.0017, carbs=0.0297, protein=0.0069, sodium=0.8, fiber=0.016, units='grams'),  # 100 g\n",
    "    'peanut butter': Food(fat=25/30, carbs=6/30, protein=9/30, sodium=2/30, fiber=2/30, units='grams'),  # 2 tbsp = 32 g\n",
    "    'carrot': Food(fat=0.0024, carbs=0.0958, protein=0.0093, sodium=0.69, fiber=0.028, units='grams'),  # 100 g\n",
    "    'hummus': Food(fat=2.5/14, carbs=2/14, protein=1/14, sodium=62.5/14, fiber=0.5/14, units='grams'),  # 2 tbsp = 28 g\n",
    "    'chicken': Food(fat=1.071, carbs=0, protein=9.306, sodium=22.2, fiber=0, units='ounces'),  # 100 g\n",
    "    'broccoli': Food(fat=0.64/156, carbs=11.2/156, protein=3.72/156, sodium=64/156, fiber=5.2/156, units='grams'),  # 1/2 cup = 78 g\n",
    "    'cheese': Food(fat=6, carbs=0, protein=7, sodium=190, fiber=0, units='sticks'),  # 1 stick\n",
    "    'lettuce': Food(fat=0.0015, carbs=0.0287, protein=0.0136, sodium=0.28, fiber=0.013, units='grams'),  # 1 cup = 36 g\n",
    "    'tomatoes': Food(fat=0.002, carbs=0.0389, protein=0.0088, sodium=0.05, fiber=0.012, units='grams'),  # 1 cup = 149 g\n",
    "    'bell peppers': Food(fat=0.003, carbs=0.0603, protein=0.0099, sodium=0.04, fiber=0.021, units='grams'),  # 1 cup = 149 g\n",
    "    'vinaigrette': Food(fat=(1+0)/2, carbs=(0+0.1703)/2, protein=(0+0.0049)/2, sodium=(0.02+0.23)/2, fiber=0, units='grams'),  # 1 tbsp = 16 g\n",
    "    'ranch dressing': Food(fat=5/30, carbs=4/30, protein=1/30, sodium=310/30, fiber=0, units='grams'),  # 1 tbsp = 16 g\n",
    "    'protein powder': Food(fat=4/30, carbs=12/30, protein=11/30, sodium=0, fiber=12/30, units='grams'),\n",
    "    'benefiber': Food(fat=0, carbs=7/7.4, protein=0, sodium=0, fiber=5/7.4, units='grams'),\n",
    "    'almonds': Food(fat=0.4993, carbs=0.2155, protein=0.2115, sodium=0.01, fiber=0.125, units='grams'),\n",
    "    'skirt steak': Food(fat=3.8, carbs=0, protein=9, sodium=0.189, fiber=0, units='ounce'),\n",
    "    'salsa': Food(fat=0, carbs=2/30, protein=0, sodium=200/30, fiber=0, units='grams'),\n",
    "    'cottage cheese': Food(fat=4.5, carbs=4, protein=13, sodium=400, fiber=0, units='cups'),\n",
    "    'chicken parm': Food(fat=39, carbs=5.72, protein=70.5, sodium=358, fiber=1, units='serving'),\n",
    "    'smoothie': Food(fat=0.92, carbs=51.22, protein=3.28, sodium=27, fiber=6.3, units='serving'),\n",
    "    'tomato caper sauce': Food(fat=1.385, carbs=4.2075, protein=1.05, sodium=206.75, fiber=1.4, units='serving'),\n",
    "    'salmon': Food(fat=1.8, carbs=0, protein=5.62, sodium=12, fiber=0, units='ounces'),\n",
    "    'tilapia': Food(fat=0.79, carbs=0, protein=7.84, sodium=17, fiber=0, units='ounces'),\n",
    "    'yogurt': Food(fat=0, carbs=9/227, protein=23/227, sodium=85/227, fiber=0, units='grams'),\n",
    "    'fruit cup': Food(fat=0.09, carbs=25.13, protein=0.378, sodium=6.0, fiber=1.28, units='package and 20 g maple syrup'), # per 100 g drained, 1/2 cup = 77 g\n",
    "    'chicken sausage': Food(fat=2, carbs=4, protein=5, sodium=160, fiber=0, units='link'),\n",
    "    'pork sausage': Food(fat=0.248, carbs=0.0093, protein=0.1539, sodium=7.39, fiber=0, units='grams'), # 1 link = 25 g\n",
    "    'almond milk': Food(fat=0.36, carbs=0.19, protein=0.19, sodium=23, fiber=0, units='ounces'),\n",
    "    'banana': Food(fat=0.39, carbs=26.95, protein=1.29, sodium=1, fiber=3.1, units='medium'),\n",
    "    'apple': Food(fat=0.31, carbs=25.13, protein=0.47, sodium=2, fiber=4.4, units='medium'),\n",
    "    'breaded chicken': Food(fat=1.68, carbs=5.81, protein=10.09, sodium=118, fiber=0.18, units='ounces'),\n",
    "    'pork chop': Food(fat=1.24, carbs=0, protein=8.10, sodium=19, fiber=0, units='ounces'),\n",
    "    'chicken meatballs': Food(fat=2.3, carbs=1.31, protein=4.18, sodium=117, fiber=0.48, units='meatball w/ sauce'),\n",
    "    'cauliflower': Food(fat=0.0045, carbs=0.0411, protein=0.0184, sodium=0, fiber=0.023, units='grams'),\n",
    "    'asparagus': Food(fat=0.0022, carbs=0.0411, protein=0.0240, sodium=0, fiber=0.020, units='grams'),\n",
    "    'green beans': Food(fat=0.0028, carbs=0.0788, protein=0.0189, sodium=0, fiber=0.032, units='grams'),\n",
    "    'canned green beans': Food(fat=0.0041, carbs=0.0419, protein=0.0105, sodium=0, fiber=0.019, units='grams'),\n",
    "    'canned corn': Food(fat=0.0122, carbs=0.1434, protein=0.0229, sodium=0, fiber=0.020, units='grams'),\n",
    "    'creamed corn': Food(fat=0.0042, carbs=0.1813, protein=0.0174, sodium=0, fiber=0.012, units='grams'),\n",
    "    'gummies': Food(fat=0, carbs=3.5, protein=0, sodium=0, fiber=2, units='gummies'),\n",
    "    'granola': Food(fat=6/30, carbs=18/30, protein=3/30, sodium=105/30, fiber=2/30, units='grams'),\n",
    "    'bbq sauce': Food(fat=0, carbs=6/32, protein=0, sodium=240/32, fiber=1/32, units='grams'),\n",
    "    'walnuts': Food(fat=20/30, carbs=4/30, protein=5/30, sodium=0, fiber=2/30, units='grams'),\n",
    "    'pecans': Food(fat=0.72, carbs=0.14, protein=0.09, sodium=0, fiber=0.1, units='grams'),\n",
    "}\n",
    "for key, val in food.items():\n",
    "    food[key]._replace(carbs=val.carbs - val.fiber)\n",
    "import prettytable\n",
    "pt = prettytable.PrettyTable(['Name', 'Fat', 'Carbs', 'Protein', 'Sodium', 'Fiber', 'Units'])\n",
    "for key, val in sorted(food.items()):\n",
    "    pt.add_row([key, f'{val.fat:.6g}', f'{val.carbs:.6g}', f'{val.protein:.6g}', f'{val.sodium:.6g}',\n",
    "                f'{val.fiber:.6g}', val.units])\n",
    "print(pt)"
   ]
  },
  {
   "cell_type": "code",
   "execution_count": 330,
   "metadata": {
    "collapsed": true
   },
   "outputs": [],
   "source": [
    "model = AbstractModel()"
   ]
  },
  {
   "cell_type": "code",
   "execution_count": 331,
   "metadata": {
    "collapsed": true
   },
   "outputs": [],
   "source": [
    "model.F = Set(initialize=list(amounts.keys()))\n",
    "model.N = Set(initialize=['fat', 'carbs', 'protein', 'sodium', 'fiber'])\n",
    "model.Food = Set(initialize=list(food.keys()))"
   ]
  },
  {
   "cell_type": "code",
   "execution_count": 332,
   "metadata": {
    "collapsed": true
   },
   "outputs": [],
   "source": [
    "def a_init(model, f, n):\n",
    "    return getattr(food[f], n)\n",
    "model.a = Param(model.Food, model.N, within=NonNegativeReals, initialize=a_init)"
   ]
  },
  {
   "cell_type": "code",
   "execution_count": 333,
   "metadata": {
    "collapsed": true
   },
   "outputs": [],
   "source": [
    "model.x = Var(model.F, within=NonNegativeReals)\n",
    "model.x_fat = Var(within=Reals)\n",
    "model.x_carbs = Var(within=Reals)\n",
    "model.x_protein = Var(within=Reals)"
   ]
  },
  {
   "cell_type": "code",
   "execution_count": 334,
   "metadata": {
    "collapsed": true
   },
   "outputs": [],
   "source": [
    "def obj_rule(model):\n",
    "    return 9 * model.x_fat + 4 * model.x_protein + 4 * model.x_carbs\n",
    "    #return sum(model.x[f] * model.a[f, 'fiber'] for f in model.F)\n",
    "model.obj = Objective(rule=obj_rule)\n",
    "#model.obj = Objective(rule=obj_rule, sense=maximize)"
   ]
  },
  {
   "cell_type": "code",
   "execution_count": 335,
   "metadata": {
    "collapsed": true
   },
   "outputs": [],
   "source": [
    "def sodium_rule(model):\n",
    "    return sum(model.x[f] * model.a[f, 'sodium'] for f in model.F) <= 2000\n",
    "model.sodium_constraint = Constraint(rule=sodium_rule)"
   ]
  },
  {
   "cell_type": "code",
   "execution_count": 336,
   "metadata": {
    "collapsed": true
   },
   "outputs": [],
   "source": [
    "def fiber_rule(model, f):\n",
    "    return sum(model.x[f] * model.a[f, 'fiber'] for f in model.F) >= targets['fiber']\n",
    "#model.fiber_constraint = Constraint(model.F, rule=fiber_rule)"
   ]
  },
  {
   "cell_type": "code",
   "execution_count": 337,
   "metadata": {
    "collapsed": true
   },
   "outputs": [],
   "source": [
    "def x_fat_lb_rule(model):\n",
    "    return sum(model.x[f] * model.a[f, 'fat'] for f in model.F) - model.x_fat <= targets['fat']\n",
    "model.x_fat_lb_constraint = Constraint(rule=x_fat_lb_rule)"
   ]
  },
  {
   "cell_type": "code",
   "execution_count": 338,
   "metadata": {
    "collapsed": true
   },
   "outputs": [],
   "source": [
    "def x_fat_ub_rule(model):\n",
    "    return sum(model.x[f] * model.a[f, 'fat'] for f in model.F) + model.x_fat >= targets['fat']\n",
    "model.x_fat_ub_constraint = Constraint(rule=x_fat_ub_rule)"
   ]
  },
  {
   "cell_type": "code",
   "execution_count": 339,
   "metadata": {
    "collapsed": true
   },
   "outputs": [],
   "source": [
    "def x_carbs_lb_rule(model):\n",
    "    return sum(model.x[f] * model.a[f, 'carbs'] for f in model.F) - model.x_carbs <= targets['carbs']\n",
    "model.x_carbs_lb_constraint = Constraint(rule=x_carbs_lb_rule)"
   ]
  },
  {
   "cell_type": "code",
   "execution_count": 340,
   "metadata": {
    "collapsed": true
   },
   "outputs": [],
   "source": [
    "def x_carbs_ub_rule(model):\n",
    "    return sum(model.x[f] * model.a[f, 'carbs'] for f in model.F) + model.x_carbs >= targets['carbs']\n",
    "model.x_carbs_ub_constraint = Constraint(rule=x_carbs_ub_rule)"
   ]
  },
  {
   "cell_type": "code",
   "execution_count": 341,
   "metadata": {
    "collapsed": true
   },
   "outputs": [],
   "source": [
    "def x_protein_lb_rule(model):\n",
    "    return sum(model.x[f] * model.a[f, 'protein'] for f in model.F) - model.x_protein <= targets['protein']\n",
    "model.x_protein_lb_constraint = Constraint(rule=x_protein_lb_rule)"
   ]
  },
  {
   "cell_type": "code",
   "execution_count": 342,
   "metadata": {
    "collapsed": true
   },
   "outputs": [],
   "source": [
    "def x_protein_ub_rule(model):\n",
    "    return sum(model.x[f] * model.a[f, 'protein'] for f in model.F) + model.x_protein >= targets['protein']\n",
    "model.x_protein_ub_constraint = Constraint(rule=x_protein_ub_rule)"
   ]
  },
  {
   "cell_type": "code",
   "execution_count": 343,
   "metadata": {
    "collapsed": true
   },
   "outputs": [],
   "source": [
    "#model.tomatoes_constraint = Constraint(rule=lambda model: model.x['tomatoes'] - 75 / 72 * model.x['lettuce'] == 0)\n",
    "#model.dressing_constraint = Constraint(rule=lambda model: model.x['greek dressing'] - 30 / 72 * model.x['lettuce'] == 0)\n",
    "#model.protein_powder_lb_constraint = Constraint(rule=lambda model: model.x['protein powder'] - 30 * model.x['smoothie'] >= 0)\n",
    "#model.protein_powder_ub_constraint = Constraint(rule=lambda model: model.x['protein powder'] - 45 * model.x['smoothie'] <= 0)\n",
    "#model.fruit_cup_constraint = Constraint(rule=lambda model: model.x['cottage cheese'] - model.x['fruit cup'] == 0)"
   ]
  },
  {
   "cell_type": "code",
   "execution_count": 344,
   "metadata": {},
   "outputs": [
    {
     "name": "stdout",
     "output_type": "stream",
     "text": [
      "+----------------+-------+-------+---------+\n",
      "|      Food      | Lower | Upper | Initial |\n",
      "+----------------+-------+-------+---------+\n",
      "| Peanut Butter  |   25  |   50  |    25   |\n",
      "|     Cheese     |   0   |   3   |    0    |\n",
      "| Cottage Cheese |   1   |   2   |    1    |\n",
      "|    Lettuce     |   70  |  108  |    70   |\n",
      "|    Chicken     |   0   |   11  |    0    |\n",
      "+----------------+-------+-------+---------+\n",
      "+----------------+-------+\n",
      "|      Food      | Value |\n",
      "+----------------+-------+\n",
      "|     Celery     |   65  |\n",
      "|    Walnuts     |   30  |\n",
      "|      Egg       |   2   |\n",
      "| Ranch Dressing |   30  |\n",
      "+----------------+-------+\n",
      "Integers: ['celery', 'peanut butter', 'walnuts', 'cheese', 'egg', 'cottage cheese', 'ranch dressing', 'lettuce', 'chicken']\n",
      "\n",
      "Problem: \n",
      "- Name: tmpjlih30dx.pyomo\n",
      "  Lower bound: 42.0905\n",
      "  Upper bound: 42.0905\n",
      "  Number of objectives: 1\n",
      "  Number of constraints: 8\n",
      "  Number of variables: 9\n",
      "  Number of nonzeros: 38\n",
      "  Sense: minimize\n",
      "Solver: \n",
      "- Status: ok\n",
      "  User time: -1.0\n",
      "  Termination condition: optimal\n",
      "  Error rc: 0\n",
      "  Time: 0.07534551620483398\n",
      "Solution: \n",
      "- number of solutions: 0\n",
      "  number of solutions displayed: 0\n",
      "\n"
     ]
    }
   ],
   "source": [
    "from pyomo.opt import SolverFactory\n",
    "opt = SolverFactory('cbc')\n",
    "instance = model.create_instance()\n",
    "for f in instance.F:\n",
    "    if isinstance(amounts[f], tuple):\n",
    "        instance.x[f].setlb(int(amounts[f][0]))\n",
    "        instance.x[f].setub(int(amounts[f][1]))\n",
    "        instance.x[f].value = instance.x[f].lb\n",
    "    else:\n",
    "        instance.x[f] = amounts[f]\n",
    "        instance.x[f].fixed = True\n",
    "    if food[f].units in ['grams', 'ounces'] or f in ints:\n",
    "        instance.x[f].domain = NonNegativeIntegers\n",
    "import prettytable\n",
    "pt_var = prettytable.PrettyTable(['Food', 'Lower', 'Upper', 'Initial'])\n",
    "pt_fix = prettytable.PrettyTable(['Food', 'Value'])\n",
    "for f in instance.F:\n",
    "    if not instance.x[f].fixed:\n",
    "        pt_var.add_row([f.title(), instance.x[f].lb, instance.x[f].ub, instance.x[f].value])\n",
    "    else:\n",
    "        pt_fix.add_row([f.title(), instance.x[f].value])\n",
    "print(pt_var)\n",
    "print(pt_fix)\n",
    "print(f'Integers: {[f for f in instance.F if instance.x[f].domain is NonNegativeIntegers]}')\n",
    "results = opt.solve(instance)\n",
    "print(results)"
   ]
  },
  {
   "cell_type": "code",
   "execution_count": 345,
   "metadata": {},
   "outputs": [
    {
     "name": "stdout",
     "output_type": "stream",
     "text": [
      "+----------------+----------+---------+--------+---------+---------+---------+\n",
      "|      Food      |  Value   |   Fat   | Carbs  | Protein |  Sodium |  Fiber  |\n",
      "+----------------+----------+---------+--------+---------+---------+---------+\n",
      "|     celery     | 65 grams |  0.1105 | 1.9305 |  0.4485 |    52   |   1.04  |\n",
      "|     cheese     | 3 sticks |    18   |   0    |    21   |   570   |    0    |\n",
      "|    chicken     | 5 ounces |  5.355  |   0    |  46.53  |   111   |    0    |\n",
      "| cottage cheese |  1 cups  |   4.5   |   4    |    13   |   400   |    0    |\n",
      "|      egg       | 2 large  |   13.4  |  1.96  |  12.18  |   176   |    0    |\n",
      "|    lettuce     | 70 grams |  0.105  | 2.009  |  0.952  |   19.6  |   0.91  |\n",
      "| peanut butter  | 37 grams | 30.8333 |  7.4   |   11.1  | 2.46667 | 2.46667 |\n",
      "| ranch dressing | 30 grams |    5    |   4    |    1    |   310   |    0    |\n",
      "|    walnuts     | 30 grams |    20   |   4    |    5    |    0    |    2    |\n",
      "+----------------+----------+---------+--------+---------+---------+---------+\n",
      "Total Calories = 1421, Fat = 97.3, Carbs = 25.3, Protein = 111.2, Sodium = 1641, Fiber =  6.4\n",
      "   Target Cals = 1400, Fat = 97.2, Carbs = 17.5, Protein = 113.8, Sodium < 2000, Fiber = 0.0\n",
      "Total Macros:  Fat = 61.6%, Carbs =  7.1%, Protein = 31.3%\n",
      "     Targets:  Fat = 62.5%, Carbs =  5.0%, Protein = 32.5%\n"
     ]
    }
   ],
   "source": [
    "fat = carbs = protein = fiber = sodium = 0\n",
    "import prettytable\n",
    "import textwrap\n",
    "pt = prettytable.PrettyTable(['Food', 'Value', 'Fat', 'Carbs', 'Protein', 'Sodium', 'Fiber'])\n",
    "for f in sorted(instance.F):\n",
    "    value = instance.x[f].value\n",
    "    fat += value * instance.a[f, 'fat']\n",
    "    carbs += value * instance.a[f, 'carbs']\n",
    "    protein += value * instance.a[f, 'protein']\n",
    "    fiber += value * instance.a[f, 'fiber']\n",
    "    sodium += value * instance.a[f, 'sodium']\n",
    "    units = food[f].units\n",
    "    if f == 'yogurt/maple syrup':\n",
    "        units = f'{units}, {20*value//170} g maple syrup'\n",
    "    pt.add_row([f, '\\n'.join(textwrap.wrap(f'{value} {units}', 20)), f\"{value * instance.a[f, 'fat']:.6g}\",\n",
    "               f\"{value * instance.a[f, 'carbs']:.6g}\", f\"{value * instance.a[f, 'protein']:.6g}\",\n",
    "               f\"{value * instance.a[f, 'sodium']:.6g}\", f\"{value * instance.a[f, 'fiber']:.6g}\",])\n",
    "\n",
    "cals = 9 * fat + 4 * carbs + 4 * protein\n",
    "\n",
    "print(pt)\n",
    "print(f'Total Calories = {int(cals)}, Fat = {fat:4.1f}, Carbs = {carbs:.1f}, Protein = {protein:5.1f}, Sodium = {int(sodium):4d}, Fiber = {fiber:4.1f}')\n",
    "print(f'   Target Cals = {target_cals}, Fat = {targets[\"fat\"]:.1f}, Carbs = {targets[\"carbs\"]:.1f}, Protein = {targets[\"protein\"]:.1f}, Sodium < 2000, Fiber = {targets[\"fiber\"]:.1f}')\n",
    "print(f'Total Macros:  Fat = {fat*9/cals*100:4.1f}%, Carbs = {carbs*4/cals*100:4.1f}%, Protein = {protein*4/cals*100:4.1f}%')\n",
    "print(f'     Targets:  Fat = {target_macros[\"fat\"]:4.1f}%, Carbs = {target_macros[\"carbs\"]:4.1f}%, Protein = {target_macros[\"protein\"]:4.1f}%')"
   ]
  },
  {
   "cell_type": "code",
   "execution_count": null,
   "metadata": {
    "collapsed": true
   },
   "outputs": [],
   "source": []
  }
 ],
 "metadata": {
  "kernelspec": {
   "display_name": "Python 3",
   "language": "python",
   "name": "python3"
  },
  "language_info": {
   "codemirror_mode": {
    "name": "ipython",
    "version": 3
   },
   "file_extension": ".py",
   "mimetype": "text/x-python",
   "name": "python",
   "nbconvert_exporter": "python",
   "pygments_lexer": "ipython3",
   "version": "3.6.3"
  }
 },
 "nbformat": 4,
 "nbformat_minor": 2
}
