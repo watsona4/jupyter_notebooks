{
 "cells": [
  {
   "cell_type": "code",
   "execution_count": 1,
   "metadata": {},
   "outputs": [],
   "source": [
    "from pyomo.environ import AbstractModel, Set, Param, Var, Constraint, ConstraintList, Objective, NonNegativeIntegers, \\\n",
    "    NonNegativeReals, Reals, maximize\n",
    "import os, re\n",
    "os.environ['path'] = os.pathsep.join(['K:\\\\COIN-OR\\\\1.8.0\\\\win32-msvc12\\\\bin', 'C:\\\\Users\\\\watso\\\\coin-or\\\\bin', os.environ['path']])"
   ]
  },
  {
   "cell_type": "code",
   "execution_count": 612,
   "metadata": {},
   "outputs": [
    {
     "name": "stdout",
     "output_type": "stream",
     "text": [
      "targets = {'fat': 33.333333333333336, 'carbs': 281.0, 'protein': 143.99999999999997}\n"
     ]
    }
   ],
   "source": [
    "target_cals = 2000\n",
    "target_protein = 90*1.6 / target_cals * 4 * 100\n",
    "#target_macros = {'fat': 30, 'carbs': 25, 'protein': 45}  # fat loss\n",
    "#target_macros = {'fat': 15, 'carbs': 55, 'protein': 30}  # muscle gain\n",
    "target_macros = {'fat': 15, 'carbs': 100 - 15 - target_protein, 'protein': target_protein}  # muscle gain\n",
    "#target_macros = {'fat': 62.5, 'carbs': 5, 'protein': 32.5}  # keto\n",
    "targets = {'fat': target_macros['fat'] / 9 * target_cals / 100,\n",
    "           'carbs': target_macros['carbs'] / 4 * target_cals / 100,\n",
    "           'protein': target_macros['protein'] / 4 * target_cals / 100}\n",
    "print('targets =', targets)\n",
    "amounts = {\n",
    "    'egg': 3,\n",
    "    'heritage flakes': (int(0.8*53),53),\n",
    "    'skim milk': (int(0.8*240),240),\n",
    "    'orange juice': (int(0.5*240),240),\n",
    "    \n",
    "    #'supergrains': (0,1),\n",
    "    #'raisins': (0,1),\n",
    "\n",
    "    'smoothie': (0,1),\n",
    "    'whey protein': (0,26),\n",
    "\n",
    "    'lettuce': 15,\n",
    "    'tomatoes': 35,\n",
    "    'pickle': 28,\n",
    "    'mustard': 5,\n",
    "    'ezekiel bread': 2,\n",
    "    'low sodium deli turkey': (44,65),\n",
    "    \n",
    "    'apple': (0,1),\n",
    "\n",
    "    '0% fruit yogurt': (0,2),\n",
    "    #'2% fruit yogurt': (0,2),\n",
    "    #'fage 0% yogurt': (0,170),\n",
    "    #'fage 2% yogurt': (0,170),\n",
    "    #'chobani strawberry': (0,340),\n",
    "    \n",
    "    #'pure protein bar': (0,1),\n",
    "\n",
    "    'chicken': (4,7),\n",
    "    'broccoli': 72,\n",
    "    'rice': (0,1),\n",
    "    'salad': 1,\n",
    "    'lite creamy caesar': (20,30),\n",
    "    'honey': 1,\n",
    "}"
   ]
  },
  {
   "cell_type": "code",
   "execution_count": 613,
   "metadata": {},
   "outputs": [],
   "source": [
    "from collections import namedtuple\n",
    "Food = namedtuple('Food', ['fat', 'carbs', 'protein', 'sodium', 'potassium', 'fiber', 'units'])\n",
    "food = {\n",
    "    'egg': Food(fat=5.01, carbs=0.483, protein=6.24, sodium=65, potassium=66, fiber=0, units='large'),\n",
    "    'chicken': Food(fat=0.998, carbs=0, protein=8.57, sodium=102, potassium=102, fiber=0, units='ounces'), \n",
    "    'broccoli': Food(fat=0.0017, carbs=0.0454, protein=0.0235, sodium=1.3, potassium=1.4, fiber=0.028, units='grams'),  # 1/2 cup = 78 g\n",
    "    'lettuce': Food(fat=0.3/85, carbs=2.8/85, protein=1.1/85, sodium=6.8/85, potassium=210/85, fiber=1.78/85, units='grams'),  # 1 serving = 85 g\n",
    "    'tomatoes': Food(fat=0.002, carbs=0.0389, protein=0.0088, sodium=0.05, potassium=2.37, fiber=0.012, units='grams'),\n",
    "    'smoothie': Food(fat=0.9743, carbs=52.3659, protein=3.7214, sodium=38.31, potassium=931.88, fiber=6.626, units='serving'),\n",
    "    'apple': Food(fat=0.34, carbs=27.6, protein=0.52, sodium=2, potassium=214, fiber=4.8, units='medium'),\n",
    "    'bbq sauce': Food(fat=0, carbs=7/33, protein=0, sodium=250/33, potassium=0, fiber=0, units='grams'),\n",
    "    'mustard': Food(fat=0.5/5, carbs=1/5, protein=0, sodium=100/5, potassium=0, fiber=0, units='grams'),\n",
    "    'heritage flakes': Food(fat=1.5/40, carbs=31/40, protein=5/40, sodium=170/40, potassium=197/40, fiber=7/40, units='grams'),\n",
    "    'arnold bread': Food(fat=2, carbs=20, protein=5, sodium=160, potassium=90, fiber=3, units='slice'),\n",
    "    'deli turkey': Food(fat=1/56, carbs=1/56, protein=13/56, sodium=420/56, potassium=0, fiber=0, units='grams'),\n",
    "    'low sodium deli turkey': Food(fat=1/56, carbs=0/56, protein=13/56, sodium=210/56, potassium=0, fiber=0, units='grams'),\n",
    "    '0% fruit yogurt': Food(fat=0, carbs=17, protein=11, sodium=60, potassium=190, fiber=0.5, units='container'),\n",
    "    '2% fruit yogurt': Food(fat=2.5, carbs=16, protein=11, sodium=65, potassium=200, fiber=0.5, units='container'),\n",
    "    'fage 0% yogurt': Food(fat=0, carbs=5/170, protein=18/170, sodium=65/170, potassium=260/170, fiber=0, units='grams'),\n",
    "    'fage 2% yogurt': Food(fat=4/200, carbs=6/200, protein=20/200, sodium=65/200, potassium=0/200, fiber=0, units='grams'),\n",
    "    'supergrains': Food(fat=4.5, carbs=38, protein=7, sodium=180, potassium=180, fiber=5, units='packets'),\n",
    "    'pickle': Food(fat=0, carbs=8/28, protein=0, sodium=150/28, potassium=0, fiber=0, units='grams'),\n",
    "    'skim milk': Food(fat=0.2/248, carbs=12.3/248, protein=8.4/248, sodium=104.3/248, potassium=387.4/248, fiber=0, units='grams'),\n",
    "    'whey protein': Food(fat=1/26, carbs=2/26, protein=20/26, sodium=35/26, potassium=132/26, fiber=0/26, units='grams'),\n",
    "    'pure protein bar': Food(fat=5, carbs=20, protein=19, sodium=210, potassium=45, fiber=0, units='bars'),\n",
    "    'orange juice': Food(fat=0.5/240, carbs=26.2/240, protein=1.8/240, sodium=2.5/240, potassium=503.2/240, fiber=0.5/240, units='grams'),\n",
    "    'raisins': Food(fat=0, carbs=11, protein=0.5, sodium=2.5, potassium=110, fiber=1, units='mini box'),\n",
    "    'rice': Food(fat=2.5, carbs=40, protein=4, sodium=10, potassium=75, fiber=1, units='servings'),\n",
    "    'salad': Food(fat=0, carbs=3, protein=1, sodium=25, potassium=201, fiber=1, units='servings'),\n",
    "    'creamy italian': Food(fat=12/29, carbs=2/29, protein=0, sodium=290/29, potassium=0, fiber=0, units='grams'),\n",
    "    'lite creamy caesar': Food(fat=9/30, carbs=4/30, protein=1/30, sodium=340/30, potassium=0, fiber=1/30, units='grams'),\n",
    "    'honey': Food(fat=0, carbs=16.5/3, protein=0.06/3, sodium=0.8/3, potassium=10.4/3, fiber=0.04/3, units='tsp'),\n",
    "    'flax seed': Food(fat=6/14, carbs=3/14, protein=3/14, sodium=0, potassium=61/14, fiber=3/14, units='grams'),\n",
    "    'chobani strawberry': Food(fat=0, carbs=26/227, protein=18/227, sodium=90/227, potassium=290/227, fiber=0.5/227, units='grams'),\n",
    "    'ezekiel bread': Food(fat=0.5, carbs=15, protein=5, sodium=75, potassium=81, fiber=3, units='slice'),\n",
    "}\n",
    "ints = ['egg', 'cheese stick', 'cheese brick', 'yogurt/maple syrup', 'smoothie', 'apple', 'banana',\n",
    "        'cottage cheese', 'gummies', 'fruit yogurt', 'bread', 'pickle', 'supergrains', 'olive oil',\n",
    "        'daddy bar', 'spicy crackers', '0% fruit yogurt', '2% fruit yogurt', 'fruit cup', 'tuna', 'raisins', 'rice', 'salad',\n",
    "        'honey', 'pure protein bar']\n",
    "for key, val in food.items():\n",
    "    food[key]._replace(carbs=val.carbs - val.fiber)\n",
    "import prettytable\n",
    "pt = prettytable.PrettyTable(['Name', 'Fat', 'Carbs', 'Protein', 'Sodium', 'Potassium', 'Fiber', 'Units'])\n",
    "for key, val in sorted(food.items()):\n",
    "    pt.add_row([key, f'{val.fat:.6g}', f'{val.carbs:.6g}', f'{val.protein:.6g}', f'{val.sodium:.6g}', f'{val.potassium:.6g}',\n",
    "                f'{val.fiber:.6g}', val.units])\n",
    "# print(pt)"
   ]
  },
  {
   "cell_type": "code",
   "execution_count": 614,
   "metadata": {},
   "outputs": [],
   "source": [
    "model = AbstractModel()"
   ]
  },
  {
   "cell_type": "code",
   "execution_count": 615,
   "metadata": {},
   "outputs": [],
   "source": [
    "model.F = Set(initialize=list(amounts.keys()))\n",
    "model.N = Set(initialize=['fat', 'carbs', 'protein', 'sodium', 'fiber', 'potassium'])\n",
    "model.Food = Set(initialize=list(food.keys()))"
   ]
  },
  {
   "cell_type": "code",
   "execution_count": 616,
   "metadata": {},
   "outputs": [],
   "source": [
    "def a_init(model, f, n):\n",
    "    return getattr(food[f], n)\n",
    "model.a = Param(model.Food, model.N, within=NonNegativeReals, initialize=a_init)"
   ]
  },
  {
   "cell_type": "code",
   "execution_count": 617,
   "metadata": {},
   "outputs": [],
   "source": [
    "model.x = Var(model.F, within=NonNegativeReals)\n",
    "model.x_fat = Var(within=Reals)\n",
    "model.x_carbs = Var(within=Reals)\n",
    "model.x_protein = Var(within=Reals)"
   ]
  },
  {
   "cell_type": "code",
   "execution_count": 618,
   "metadata": {},
   "outputs": [],
   "source": [
    "def obj_rule(model):\n",
    "    return 9 * model.x_fat + 4 * model.x_protein + 4 * model.x_carbs\n",
    "    #return sum(model.x[f] * model.a[f, 'fiber'] for f in model.F)\n",
    "model.obj = Objective(rule=obj_rule)\n",
    "#model.obj = Objective(rule=obj_rule, sense=maximize)"
   ]
  },
  {
   "cell_type": "code",
   "execution_count": 619,
   "metadata": {},
   "outputs": [],
   "source": [
    "def sodium_ub_rule(model):\n",
    "    return sum(model.x[f] * model.a[f, 'sodium'] for f in model.F) <= 2000\n",
    "model.sodium_ub_constraint = Constraint(rule=sodium_ub_rule)"
   ]
  },
  {
   "cell_type": "code",
   "execution_count": 620,
   "metadata": {},
   "outputs": [],
   "source": [
    "def sodium_lb_rule(model):\n",
    "    return sum(model.x[f] * model.a[f, 'sodium'] for f in model.F) >= 1500\n",
    "model.sodium_lb_constraint = Constraint(rule=sodium_lb_rule)"
   ]
  },
  {
   "cell_type": "code",
   "execution_count": 621,
   "metadata": {},
   "outputs": [],
   "source": [
    "def potassium_ub_rule(model):\n",
    "    return sum(model.x[f] * model.a[f, 'potassium'] for f in model.F) <= 4700\n",
    "model.potassium_ub_constraint = Constraint(rule=potassium_ub_rule)"
   ]
  },
  {
   "cell_type": "code",
   "execution_count": 622,
   "metadata": {},
   "outputs": [],
   "source": [
    "def potassium_lb_rule(model):\n",
    "    return sum(model.x[f] * model.a[f, 'potassium'] for f in model.F) >= 3500\n",
    "model.potassium_lb_constraint = Constraint(rule=potassium_lb_rule)"
   ]
  },
  {
   "cell_type": "code",
   "execution_count": 623,
   "metadata": {},
   "outputs": [],
   "source": [
    "def fiber_ub_rule(model, f):\n",
    "    return sum(model.x[f] * model.a[f, 'fiber'] for f in model.F) <= 38\n",
    "model.fiber_ub_constraint = Constraint(model.F, rule=fiber_ub_rule)"
   ]
  },
  {
   "cell_type": "code",
   "execution_count": 624,
   "metadata": {},
   "outputs": [],
   "source": [
    "def fiber_lb_rule(model, f):\n",
    "    return sum(model.x[f] * model.a[f, 'fiber'] for f in model.F) >= 30\n",
    "model.fiber_lb_constraint = Constraint(model.F, rule=fiber_lb_rule)"
   ]
  },
  {
   "cell_type": "code",
   "execution_count": 625,
   "metadata": {},
   "outputs": [],
   "source": [
    "def x_fat_lb_rule(model):\n",
    "    return sum(model.x[f] * model.a[f, 'fat'] for f in model.F) - model.x_fat <= targets['fat']\n",
    "model.x_fat_lb_constraint = Constraint(rule=x_fat_lb_rule)"
   ]
  },
  {
   "cell_type": "code",
   "execution_count": 626,
   "metadata": {},
   "outputs": [],
   "source": [
    "def x_fat_ub_rule(model):\n",
    "    return sum(model.x[f] * model.a[f, 'fat'] for f in model.F) + model.x_fat >= targets['fat']\n",
    "model.x_fat_ub_constraint = Constraint(rule=x_fat_ub_rule)"
   ]
  },
  {
   "cell_type": "code",
   "execution_count": 627,
   "metadata": {},
   "outputs": [],
   "source": [
    "def x_carbs_lb_rule(model):\n",
    "    return sum(model.x[f] * model.a[f, 'carbs'] for f in model.F) - model.x_carbs <= targets['carbs']\n",
    "model.x_carbs_lb_constraint = Constraint(rule=x_carbs_lb_rule)"
   ]
  },
  {
   "cell_type": "code",
   "execution_count": 628,
   "metadata": {},
   "outputs": [],
   "source": [
    "def x_carbs_ub_rule(model):\n",
    "    return sum(model.x[f] * model.a[f, 'carbs'] for f in model.F) + model.x_carbs >= targets['carbs']\n",
    "model.x_carbs_ub_constraint = Constraint(rule=x_carbs_ub_rule)"
   ]
  },
  {
   "cell_type": "code",
   "execution_count": 629,
   "metadata": {},
   "outputs": [],
   "source": [
    "def x_protein_lb_rule(model):\n",
    "    return sum(model.x[f] * model.a[f, 'protein'] for f in model.F) - model.x_protein <= targets['protein']\n",
    "model.x_protein_lb_constraint = Constraint(rule=x_protein_lb_rule)"
   ]
  },
  {
   "cell_type": "code",
   "execution_count": 630,
   "metadata": {},
   "outputs": [],
   "source": [
    "def x_protein_ub_rule(model):\n",
    "    return sum(model.x[f] * model.a[f, 'protein'] for f in model.F) + model.x_protein >= targets['protein']\n",
    "model.x_protein_ub_constraint = Constraint(rule=x_protein_ub_rule)"
   ]
  },
  {
   "cell_type": "code",
   "execution_count": 631,
   "metadata": {},
   "outputs": [
    {
     "name": "stdout",
     "output_type": "stream",
     "text": [
      "+------------------------+-------+-------+---------+\n",
      "|          Food          | Lower | Upper | Initial |\n",
      "+------------------------+-------+-------+---------+\n",
      "|    Heritage Flakes     |   42  |   53  |    42   |\n",
      "|       Skim Milk        |  192  |  240  |   192   |\n",
      "|      Orange Juice      |  120  |  240  |   120   |\n",
      "|        Smoothie        |   0   |   1   |    0    |\n",
      "|      Whey Protein      |   0   |   26  |    0    |\n",
      "| Low Sodium Deli Turkey |   44  |   65  |    44   |\n",
      "|         Apple          |   0   |   1   |    0    |\n",
      "|    0% Fruit Yogurt     |   0   |   2   |    0    |\n",
      "|        Chicken         |   4   |   7   |    4    |\n",
      "|          Rice          |   0   |   1   |    0    |\n",
      "|   Lite Creamy Caesar   |   20  |   30  |    20   |\n",
      "+------------------------+-------+-------+---------+\n",
      "+---------------+-------+\n",
      "|      Food     | Value |\n",
      "+---------------+-------+\n",
      "|      Egg      |   3   |\n",
      "|    Lettuce    |   15  |\n",
      "|    Tomatoes   |   35  |\n",
      "|     Pickle    |   28  |\n",
      "|    Mustard    |   5   |\n",
      "| Ezekiel Bread |   2   |\n",
      "|    Broccoli   |   72  |\n",
      "|     Salad     |   1   |\n",
      "|     Honey     |   1   |\n",
      "+---------------+-------+\n",
      "Integers: ['egg', 'heritage flakes', 'skim milk', 'orange juice', 'smoothie', 'whey protein', 'lettuce', 'tomatoes', 'pickle', 'mustard', 'low sodium deli turkey', 'apple', '0% fruit yogurt', 'chicken', 'broccoli', 'rice', 'salad', 'lite creamy caesar', 'honey']\n",
      "\n",
      "Problem: \n",
      "- Name: unknown\n",
      "  Lower bound: 19.16426974\n",
      "  Upper bound: 19.16426974\n",
      "  Number of objectives: 1\n",
      "  Number of constraints: 9\n",
      "  Number of variables: 14\n",
      "  Number of binary variables: 3\n",
      "  Number of integer variables: 11\n",
      "  Number of nonzeros: 3\n",
      "  Sense: minimize\n",
      "Solver: \n",
      "- Status: ok\n",
      "  User time: -1.0\n",
      "  System time: 0.07\n",
      "  Wallclock time: 0.07\n",
      "  Termination condition: optimal\n",
      "  Termination message: Model was solved to optimality (subject to tolerances), and an optimal solution is available.\n",
      "  Statistics: \n",
      "    Branch and bound: \n",
      "      Number of bounded subproblems: 0\n",
      "      Number of created subproblems: 0\n",
      "    Black box: \n",
      "      Number of iterations: 4\n",
      "  Error rc: 0\n",
      "  Time: 0.10172629356384277\n",
      "Solution: \n",
      "- number of solutions: 0\n",
      "  number of solutions displayed: 0\n",
      "\n"
     ]
    }
   ],
   "source": [
    "from pyomo.opt import SolverFactory\n",
    "opt = SolverFactory('cbc')\n",
    "instance = model.create_instance()\n",
    "for f in instance.F:\n",
    "    if isinstance(amounts[f], tuple):\n",
    "        instance.x[f].setlb(int(amounts[f][0]))\n",
    "        instance.x[f].setub(int(amounts[f][1]))\n",
    "        instance.x[f].value = instance.x[f].lb\n",
    "    else:\n",
    "        instance.x[f] = amounts[f]\n",
    "        instance.x[f].fixed = True\n",
    "    if food[f].units in ['grams', 'ounces'] or f in ints:\n",
    "        instance.x[f].domain = NonNegativeIntegers\n",
    "import prettytable\n",
    "pt_var = prettytable.PrettyTable(['Food', 'Lower', 'Upper', 'Initial'])\n",
    "pt_fix = prettytable.PrettyTable(['Food', 'Value'])\n",
    "for f in instance.F:\n",
    "    if not instance.x[f].fixed:\n",
    "        pt_var.add_row([f.title(), instance.x[f].lb, instance.x[f].ub, instance.x[f].value])\n",
    "    else:\n",
    "        pt_fix.add_row([f.title(), instance.x[f].value])\n",
    "print(pt_var)\n",
    "print(pt_fix)\n",
    "print(f'Integers: {[f for f in instance.F if instance.x[f].domain is NonNegativeIntegers]}')\n",
    "results = opt.solve(instance)\n",
    "print(results)"
   ]
  },
  {
   "cell_type": "code",
   "execution_count": 632,
   "metadata": {},
   "outputs": [
    {
     "name": "stdout",
     "output_type": "stream",
     "text": [
      "|          Food          |     Value     |      Input | Fat | Carbs | Protein | Sodium | Potassium | Fiber | Calories |\n",
      "|:----------------------:|:-------------:|:----------:|:---:|:-----:|:-------:|:------:|:---------:|:-----:|:--------:|\n",
      "|    0% fruit yogurt     | 2.0 container |     (0, 2) |   0 |    34 |      22 |    120 |       380 |     1 |      224 |\n",
      "|         apple          |   1.0 medium  |     (0, 1) | 0.3 |    27 |     0.5 |      2 |       214 |     4 |      115 |\n",
      "|        broccoli        |    72 grams   |         72 | 0.1 |     3 |       1 |     93 |       100 |     2 |       20 |\n",
      "|        chicken         |   4.0 ounces  |     (4, 7) |   3 |     0 |      34 |    408 |       408 |     0 |      173 |\n",
      "|          egg           |    3 large    |          3 |  15 |     1 |      18 |    195 |       198 |     0 |      215 |\n",
      "|     ezekiel bread      |    2 slice    |          2 |   1 |    30 |      10 |    150 |       162 |     6 |      169 |\n",
      "|    heritage flakes     |   42.0 grams  |   (42, 53) |   1 |    32 |       5 |    178 |       206 |     7 |      165 |\n",
      "|         honey          |     1 tsp     |          1 |   0 |     5 |       0 |    0.3 |         3 |     0 |       22 |\n",
      "|        lettuce         |    15 grams   |         15 |   0 |   0.5 |     0.2 |      1 |        37 |   0.3 |        3 |\n",
      "|   lite creamy caesar   |   20.0 grams  |   (20, 30) |   6 |     2 |     0.7 |    226 |         0 |   0.7 |       67 |\n",
      "| low sodium deli turkey |   44.0 grams  |   (44, 65) | 0.8 |     0 |      10 |    165 |         0 |     0 |       47 |\n",
      "|        mustard         |    5 grams    |          5 | 0.5 |     1 |       0 |    100 |         0 |     0 |        8 |\n",
      "|      orange juice      |  223.0 grams  | (120, 240) | 0.5 |    24 |       1 |      2 |       467 |   0.5 |      108 |\n",
      "|         pickle         |    28 grams   |         28 |   0 |     8 |       0 |    150 |         0 |     0 |       32 |\n",
      "|          rice          |  1.0 servings |     (0, 1) |   2 |    40 |       4 |     10 |        75 |     1 |      198 |\n",
      "|         salad          |   1 servings  |          1 |   0 |     3 |       1 |     25 |       201 |     1 |       16 |\n",
      "|       skim milk        |  230.0 grams  | (192, 240) | 0.2 |    11 |       7 |     96 |       359 |     0 |       78 |\n",
      "|        smoothie        |  1.0 serving  |     (0, 1) | 1.0 |    52 |       3 |     38 |       931 |     6 |      233 |\n",
      "|        tomatoes        |    35 grams   |         35 |   0 |     1 |     0.3 |      1 |        82 |   0.4 |        7 |\n",
      "|      whey protein      |   26.0 grams  |    (0, 26) |   1 |     2 |      20 |     35 |       132 |     0 |       97 |\n",
      "\n",
      "Total Calories = 2003, Fat = 34.6, Carbs = 281.0, Protein = 142.0, Sodium = 1999, Potassium = 3959, Fiber = 31.7<br/>\n",
      "   Target Cals = 2000, Fat = 33.3, Carbs = 281.0, Protein = 144.0, Sodium in [1500,2000], Potassium in [3500,4700], Fiber in [30,38]<br/>\n",
      "Total Macros:  Fat = 15.5%, Carbs = 56.1%, Protein = 28.4%<br/>\n",
      "     Targets:  Fat = 15.0%, Carbs = 56.2%, Protein = 28.8%\n"
     ]
    }
   ],
   "source": [
    "def fmt(x):\n",
    "    if x < 0.1:\n",
    "        return \"0\"\n",
    "    if x < 1:\n",
    "        return f\"{x:.1f}\"\n",
    "    return int(x)\n",
    "\n",
    "fat = carbs = protein = fiber = sodium = potassium = 0\n",
    "import prettytable\n",
    "import textwrap\n",
    "pt = prettytable.PrettyTable(['Food', 'Value', 'Input', 'Fat', 'Carbs', 'Protein', 'Sodium', 'Potassium', 'Fiber', 'Calories'])\n",
    "for f in sorted(instance.F):\n",
    "    value = instance.x[f].value\n",
    "    fat += value * instance.a[f, 'fat']\n",
    "    carbs += value * instance.a[f, 'carbs']\n",
    "    protein += value * instance.a[f, 'protein']\n",
    "    fiber += value * instance.a[f, 'fiber']\n",
    "    sodium += value * instance.a[f, 'sodium']\n",
    "    potassium += value * instance.a[f, 'potassium']\n",
    "    units = food[f].units\n",
    "    if f == 'yogurt/maple syrup':\n",
    "        units = f'{units}, {20*value//170} g maple syrup'\n",
    "    pt.add_row([f,\n",
    "                '\\n'.join(textwrap.wrap(f'{value} {units}', 20)),\n",
    "                amounts[f],\n",
    "                f\"{fmt(value * instance.a[f, 'fat'])}\",\n",
    "                f\"{fmt(value * instance.a[f, 'carbs'])}\",\n",
    "                f\"{fmt(value * instance.a[f, 'protein'])}\",\n",
    "                f\"{fmt(value * instance.a[f, 'sodium'])}\",\n",
    "                f\"{fmt(value * instance.a[f, 'potassium'])}\",\n",
    "                f\"{fmt(value * instance.a[f, 'fiber'])}\",\n",
    "                f\"{int(9*value*instance.a[f,'fat']+4*value*instance.a[f,'carbs']+4*value*instance.a[f,'protein'])}\",\n",
    "               ])\n",
    "\n",
    "cals = 9 * fat + 4 * carbs + 4 * protein\n",
    "\n",
    "for field in ['Input', 'Fat', 'Carbs', 'Protein', 'Sodium', 'Potassium', 'Fiber', 'Calories']:\n",
    "    pt.align[field] = \"r\"\n",
    "\n",
    "ts = pt.get_string(junction_char='|').splitlines()\n",
    "print('\\n'.join([ts[1]]+[re.sub(r'-(-+)-', r':\\1:', ts[2])]+ts[3:-1]))\n",
    "print()\n",
    "print(f'Total Calories = {int(cals)}, Fat = {fat:4.1f}, Carbs = {carbs:.1f}, Protein = {protein:5.1f}, Sodium = {int(sodium):4d}, Potassium = {int(potassium):4d}, Fiber = {fiber:4.1f}<br/>')\n",
    "print(f'   Target Cals = {target_cals}, Fat = {targets[\"fat\"]:.1f}, Carbs = {targets[\"carbs\"]:.1f}, Protein = {targets[\"protein\"]:.1f}, Sodium in [1500,2000], Potassium in [3500,4700], Fiber in [30,38]<br/>')\n",
    "print(f'Total Macros:  Fat = {fat*9/cals*100:4.1f}%, Carbs = {carbs*4/cals*100:4.1f}%, Protein = {protein*4/cals*100:4.1f}%<br/>')\n",
    "print(f'     Targets:  Fat = {target_macros[\"fat\"]:4.1f}%, Carbs = {target_macros[\"carbs\"]:4.1f}%, Protein = {target_macros[\"protein\"]:4.1f}%')"
   ]
  },
  {
   "cell_type": "markdown",
   "metadata": {},
   "source": [
    "|          Food          |     Value     |      Input | Fat | Carbs | Protein | Sodium | Potassium | Fiber | Calories |\n",
    "|:----------------------:|:-------------:|:----------:|:---:|:-----:|:-------:|:------:|:---------:|:-----:|:--------:|\n",
    "|    0% fruit yogurt     | 2.0 container |     (0, 2) |   0 |    34 |      22 |    120 |       380 |     1 |      224 |\n",
    "|         apple          |   1.0 medium  |     (0, 1) | 0.3 |    27 |     0.5 |      2 |       214 |     4 |      115 |\n",
    "|        broccoli        |    72 grams   |         72 | 0.1 |     3 |       1 |     93 |       100 |     2 |       20 |\n",
    "|        chicken         |   4.0 ounces  |     (4, 7) |   3 |     0 |      34 |    408 |       408 |     0 |      173 |\n",
    "|          egg           |    3 large    |          3 |  15 |     1 |      18 |    195 |       198 |     0 |      215 |\n",
    "|     ezekiel bread      |    2 slice    |          2 |   1 |    30 |      10 |    150 |       162 |     6 |      169 |\n",
    "|    heritage flakes     |   42.0 grams  |   (42, 53) |   1 |    32 |       5 |    178 |       206 |     7 |      165 |\n",
    "|         honey          |     1 tsp     |          1 |   0 |     5 |       0 |    0.3 |         3 |     0 |       22 |\n",
    "|        lettuce         |    15 grams   |         15 |   0 |   0.5 |     0.2 |      1 |        37 |   0.3 |        3 |\n",
    "|   lite creamy caesar   |   20.0 grams  |   (20, 30) |   6 |     2 |     0.7 |    226 |         0 |   0.7 |       67 |\n",
    "| low sodium deli turkey |   44.0 grams  |   (44, 65) | 0.8 |     0 |      10 |    165 |         0 |     0 |       47 |\n",
    "|        mustard         |    5 grams    |          5 | 0.5 |     1 |       0 |    100 |         0 |     0 |        8 |\n",
    "|      orange juice      |  223.0 grams  | (120, 240) | 0.5 |    24 |       1 |      2 |       467 |   0.5 |      108 |\n",
    "|         pickle         |    28 grams   |         28 |   0 |     8 |       0 |    150 |         0 |     0 |       32 |\n",
    "|          rice          |  1.0 servings |     (0, 1) |   2 |    40 |       4 |     10 |        75 |     1 |      198 |\n",
    "|         salad          |   1 servings  |          1 |   0 |     3 |       1 |     25 |       201 |     1 |       16 |\n",
    "|       skim milk        |  230.0 grams  | (192, 240) | 0.2 |    11 |       7 |     96 |       359 |     0 |       78 |\n",
    "|        smoothie        |  1.0 serving  |     (0, 1) | 1.0 |    52 |       3 |     38 |       931 |     6 |      233 |\n",
    "|        tomatoes        |    35 grams   |         35 |   0 |     1 |     0.3 |      1 |        82 |   0.4 |        7 |\n",
    "|      whey protein      |   26.0 grams  |    (0, 26) |   1 |     2 |      20 |     35 |       132 |     0 |       97 |\n",
    "\n",
    "Total Calories = 2003, Fat = 34.6, Carbs = 281.0, Protein = 142.0, Sodium = 1999, Potassium = 3959, Fiber = 31.7<br/>\n",
    "   Target Cals = 2000, Fat = 33.3, Carbs = 281.0, Protein = 144.0, Sodium in [1500,2000], Potassium in [3500,4700], Fiber in [30,38]<br/>\n",
    "Total Macros:  Fat = 15.5%, Carbs = 56.1%, Protein = 28.4%<br/>\n",
    "     Targets:  Fat = 15.0%, Carbs = 56.2%, Protein = 28.8%"
   ]
  },
  {
   "cell_type": "markdown",
   "metadata": {},
   "source": [
    "|      Food      |    Value    |   Input    |   Fat   |  Carbs  | Protein |  Sodium |  Fiber   |   Cals  |\n",
    "|:--------------:|:-----------:|:----------:|:-------:|:-------:|:-------:|:-------:|:--------:|:-------:|\n",
    "|   bbq sauce    |  26.0 grams |  (20, 30)  |    0    |  4.875  |    0    |   195   |  0.8125  |   19.5  |\n",
    "|    broccoli    |   78 grams  |     78     |   0.32  |   5.6   |   1.86  |    32   |   2.6    |  32.72  |\n",
    "|     carrot     |   65 grams  |     65     |  0.156  |  6.227  |  0.6045 |  44.85  |   1.82   |  28.73  |\n",
    "|     celery     |   65 grams  |     65     |  0.1105 |  1.9305 |  0.4485 |    52   |   1.04   | 10.5105 |\n",
    "|    chicken     | 11.0 ounces |  (6, 12)   |  11.781 |    0    | 102.366 |  244.2  |    0     | 515.493 |\n",
    "|    fish oil    |   3 pills   |     3      |   4.5   |   1.5   |   0.75  |    0    |    0     |   49.5  |\n",
    "|   fruit cup    |  1 package  |     1      |  0.078  |  11.722 |   0.37  |   3.6   |   1.28   |  49.07  |\n",
    "|    gummies     |  4 gummies  |     4      |    0    |    14   |    0    |    0    |    8     |    56   |\n",
    "|     hummus     |  15.0 grams |  (15, 30)  | 2.67857 | 2.14286 | 1.07143 | 66.9643 | 0.535714 | 36.9643 |\n",
    "|    lettuce     |   70 grams  |     70     |  0.105  |  2.009  |  0.952  |   19.6  |   0.91   |  12.789 |\n",
    "|  maple syrup   |  13.0 grams |  (10, 20)  |  0.0078 |  8.7152 |  0.0052 |   1.56  |    0     | 34.9518 |\n",
    "| peanut butter  |  20.0 grams |  (15, 30)  | 16.6667 |    4    |    6    | 1.33333 | 1.33333  |   190   |\n",
    "| ranch dressing |  21.0 grams |  (20, 30)  |   3.5   |   2.8   |   0.7   |   217   |    0     |   45.5  |\n",
    "|    tomatoes    |  48.0 grams |  (35, 70)  |  0.096  |  1.8672 |  0.4224 |   2.4   |  0.576   | 10.0224 |\n",
    "|     yogurt     | 192.0 grams | (140, 280) |    0    | 7.61233 | 19.4537 | 71.8943 |    0     | 108.264 |\n",
    "\n",
    "Total Calories = 1200, Fat = 40.0, Carbs = 75.0, Protein = 135.0, Sodium =  952, Fiber = 18.9<br/>\n",
    "   Target Cals = 1200, Fat = 40.0, Carbs = 75.0, Protein = 135.0, Sodium < 2000, Fiber = 30.0<br/>\n",
    "Total Macros:  Fat = 30.0%, Carbs = 25.0%, Protein = 45.0%<br/>\n",
    "     Targets:  Fat = 30.0%, Carbs = 25.0%, Protein = 45.0%"
   ]
  },
  {
   "cell_type": "markdown",
   "metadata": {},
   "source": [
    "|      Food      |    Value    | Input |  Fat   | Carbs  | Protein | Sodium | Fiber |   Cals  |\n",
    "|:--------------:|:-----------:|:-----:|:------:|:------:|:-------:|:------:|:-----:|:-------:|\n",
    "|     bread      |   2 slice   |   2   |   6    |   38   |    10   |  360   |   6   |   246   |\n",
    "|   daddy bar    |    1 bars   |   1   |  2.5   |   26   |    2    |   95   |   3   |  134.5  |\n",
    "|  deli turkey   |   56 grams  |   56  |   1    |   0    |    13   |  360   |   0   |    61   |\n",
    "|    fish oil    |   3 pills   |   3   |  4.5   |  1.5   |   0.75  |   0    |   0   |   49.5  |\n",
    "|  fruit yogurt  | 3 container |   3   |   0    |   54   |    36   |  150   |   3   |   360   |\n",
    "| golean crunch  |   53 grams  |   53  | 3.127  | 37.842 |  8.851  | 98.58  | 7.685 | 214.915 |\n",
    "|    lettuce     |   35 grams  |   35  | 0.0525 | 1.0045 |  0.476  |  9.8   | 0.455 |  6.3945 |\n",
    "|      milk      |  244 grams  |  244  | 4.8312 | 11.712 |  8.052  | 114.68 |   0   | 122.537 |\n",
    "|    mustard     |   15 grams  |   15  |   0    |   0    |    0    |  360   |   0   |    0    |\n",
    "| protein powder |   30 grams  |   30  |   4    |   12   |    11   |   0    |   12  |   128   |\n",
    "|    smoothie    |  1 serving  |   1   |  0.92  | 51.22  |   3.28  |   27   |  6.3  |  226.28 |\n",
    "|    tomatoes    |   20 grams  |   20  |  0.04  | 0.778  |  0.176  |   1    |  0.24 |  4.176  |\n",
    "\n",
    "Total Calories = 1553, Fat = 27.0, Carbs = 234.1, Protein =  93.6, Sodium = 1576, Fiber = 38.7<br/>\n",
    "   Target Cals = 1600, Fat = 26.7, Carbs = 220.0, Protein = 120.0, Sodium < 2000, Fiber = 30.0<br/>\n",
    "Total Macros:  Fat = 15.6%, Carbs = 60.3%, Protein = 24.1%<br/>\n",
    "     Targets:  Fat = 15.0%, Carbs = 55.0%, Protein = 30.0%"
   ]
  },
  {
   "cell_type": "markdown",
   "metadata": {},
   "source": [
    "|         Food         |    Value    |  Input   |    Fat     |  Carbs  | Protein |  Sodium |  Fiber  |   Cals  |\n",
    "|:--------------------:|:-----------:|:--------:|:----------:|:-------:|:-------:|:-------:|:-------:|:-------:|\n",
    "|      0% yogurt       | 134.0 grams | (0, 170) | 0.00788235 |    0    | 14.1961 | 52.8118 |    0    | 56.8554 |\n",
    "|        apple         |  1.0 medium |  (0, 1)  |    0.31    |  25.13  |   0.47  |    2    |   4.4   |  105.19 |\n",
    "|      bbq sauce       |  27.0 grams | (20, 30) |     0      |  5.0625 |    0    |  202.5  | 0.84375 |  20.25  |\n",
    "|       broccoli       |   78 grams  |    78    |    0.32    |   5.6   |   1.86  |    32   |   2.6   |  32.72  |\n",
    "|        cheese        |   1 ounces  |    1     |     9      |    1    |    7    |   180   |    0    |   113   |\n",
    "|       chicken        |  7.0 ounces | (6, 12)  |   7.497    |    0    |  65.142 |  155.4  |    0    | 328.041 |\n",
    "|         egg          |   3 large   |    3     |    20.1    |   2.94  |  18.27  |   264   |    0    |  265.74 |\n",
    "|      fruit cup       |  1 package  |    1     |   0.078    |  11.722 |   0.37  |   3.6   |   1.28  |  49.07  |\n",
    "|     maple syrup      |  17.0 grams | (0, 20)  |   0.0102   | 11.3968 |  0.0068 |   2.04  |    0    | 45.7062 |\n",
    "| nofat cottage cheese |    1 cups   |    1     |     0      |    10   |    26   |   820   |    0    |   144   |\n",
    "|      olive oil       |    1 tbsp   |    1     |     14     |    0    |    0    |    0    |    0    |   126   |\n",
    "|       spinach        |   60 grams  |    60    |   0.234    |  2.178  |  1.716  |   47.4  |   1.32  |  17.682 |\n",
    "\n",
    "Total Calories = 1304, Fat = 51.6, Carbs = 75.0, Protein = 135.0, Sodium = 1761, Fiber = 10.4<br/>\n",
    "   Target Cals = 1200, Fat = 40.0, Carbs = 75.0, Protein = 135.0, Sodium < 2000, Fiber = 30.0<br/>\n",
    "Total Macros:  Fat = 35.6%, Carbs = 23.0%, Protein = 41.4%<br/>\n",
    "     Targets:  Fat = 30.0%, Carbs = 25.0%, Protein = 45.0%\n"
   ]
  },
  {
   "cell_type": "code",
   "execution_count": null,
   "metadata": {},
   "outputs": [],
   "source": []
  }
 ],
 "metadata": {
  "kernelspec": {
   "display_name": "Python 3",
   "language": "python",
   "name": "python3"
  },
  "language_info": {
   "codemirror_mode": {
    "name": "ipython",
    "version": 3
   },
   "file_extension": ".py",
   "mimetype": "text/x-python",
   "name": "python",
   "nbconvert_exporter": "python",
   "pygments_lexer": "ipython3",
   "version": "3.7.9"
  }
 },
 "nbformat": 4,
 "nbformat_minor": 4
}
