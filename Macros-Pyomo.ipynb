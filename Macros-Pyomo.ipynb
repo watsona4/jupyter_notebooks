{
 "cells": [
  {
   "cell_type": "code",
   "execution_count": 1,
   "metadata": {
    "collapsed": true
   },
   "outputs": [],
   "source": [
    "from pyomo.environ import AbstractModel, Set, Param, Var, Constraint, ConstraintList, Objective, NonNegativeIntegers, \\\n",
    "    NonNegativeReals, Reals, maximize"
   ]
  },
  {
   "cell_type": "code",
   "execution_count": 2,
   "metadata": {},
   "outputs": [
    {
     "name": "stdout",
     "output_type": "stream",
     "text": [
      "targets = {'fat': 46.66666666666667, 'carbs': 87.5, 'protein': 157.5, 'fiber': 20.6}\n"
     ]
    }
   ],
   "source": [
    "target_cals = 1400\n",
    "target_macros = {'fat': 30, 'carbs': 25, 'protein': 45, 'fiber': 20.6}  # fat loss\n",
    "#target_macros = {'fat': 15, 'carbs': 55, 'protein': 30, 'fiber': 30}  # muscle gain\n",
    "targets = {'fat': target_macros['fat'] / 9 * target_cals / 100,\n",
    "           'carbs': target_macros['carbs'] / 4 * target_cals / 100,\n",
    "           'protein': target_macros['protein'] / 4 * target_cals / 100,\n",
    "           'fiber': target_macros['fiber']}\n",
    "print('targets =', targets)\n",
    "#amounts = {\n",
    "#    'banana': (0,2),\n",
    "#    'apple': (0,2),\n",
    "#    'egg': (1,2),\n",
    "#    'yogurt/maple syrup': (0,2*227),\n",
    "#    'celery': (0,65),\n",
    "#    'peanut butter': (0*32,2*32),\n",
    "#    'carrot': (0,65),\n",
    "#    'hummus': (0*28,2*28),\n",
    "#    'chicken': (0,16),\n",
    "#    'smoothie': (0,2),\n",
    "#    'protein powder': (0,2*30),\n",
    "#    'broccoli': (0,3*78),\n",
    "#    'cheese': (0,2),\n",
    "#    'lettuce': (0,4*36),\n",
    "#    'tomatoes': (0,4*75),\n",
    "#    'greek dressing': (0,4*30),\n",
    "#    'benefiber': (0,60),\n",
    "#    'cottage cheese': (0,2),\n",
    "#    'fruit cup': (0,2),\n",
    "#}\n",
    "amounts = {\n",
    "    'yogurt/maple syrup': 170,\n",
    "#    'yogurt/maple syrup': (140,230),\n",
    "    #'blueberries': 36,\n",
    "    #'granola': 30,\n",
    "    'celery': 65,\n",
    "    'peanut butter': (0.8*32,1.2*32),\n",
    "    'carrot': 65,\n",
    "    'hummus': (0.8*28,1.2*28),\n",
    "    'chicken': (0,16),\n",
    "    #'smoothie': 1,\n",
    "    #'protein powder': 30,\n",
    "    'broccoli': 78,\n",
    "    'cheese': 1,\n",
    "    'lettuce': 108,\n",
    "    'tomatoes': 75,\n",
    "    'greek dressing': 30,\n",
    "    'gummies': 4,\n",
    "    'cottage cheese': 1,\n",
    "    'fruit cup': 1,\n",
    "}\n",
    "ints = ['egg', 'cheese', 'yogurt/maple syrup', 'smoothie', 'apple', 'banana', 'cottage cheese', 'gummies']"
   ]
  },
  {
   "cell_type": "code",
   "execution_count": 3,
   "metadata": {
    "collapsed": true
   },
   "outputs": [],
   "source": [
    "from collections import namedtuple\n",
    "Food = namedtuple('Food', ['fat', 'carbs', 'protein', 'sodium', 'fiber', 'units'])\n",
    "food = {\n",
    "    'soymilk': Food(fat=1.99/243, carbs=10.01/243, protein=6/243, sodium=95/243, fiber=1/243, units='grams'),  # 1 cup = 243 g\n",
    "    'egg': Food(fat=6.7, carbs=0.98, protein=6.09, sodium=88, fiber=0, units='large'),  # 1 large = 61 g\n",
    "    'yogurt/maple syrup': Food(fat=0.01/170+0.0198, carbs=20.41/170, protein=18.01/170, sodium=67/170, fiber=0, units='grams yogurt'),  # 1 container = 170 g\n",
    "    'yogurt': Food(fat=0.01/170, carbs=0, protein=18.01/170, sodium=67/170, fiber=0, units='grams'),  # 1 container = 170 g\n",
    "    'blueberries': Food(fat=0.0033, carbs=0.1449, protein=0.0074, sodium=0.0001, fiber=0.0024, units='grams'),  # 1 container = 170 g\n",
    "    'yogurt/blueberries/maple syrup': Food(fat=0.19/170, carbs=28.52/170, protein=18.42/170, sodium=68/170, fiber=1.3/170, units='grams yogurt'),  # 1 container = 170 g\n",
    "    'celery': Food(fat=0.0017, carbs=0.0297, protein=0.0069, sodium=0.8, fiber=0.016, units='grams'),  # 100 g\n",
    "    'peanut butter': Food(fat=9/16, carbs=3/16, protein=4/16, sodium=2.5/16, fiber=1/16, units='grams'),  # 2 tbsp = 32 g\n",
    "    'carrot': Food(fat=0.0024, carbs=0.0958, protein=0.0093, sodium=0.69, fiber=0.028, units='grams'),  # 100 g\n",
    "    'hummus': Food(fat=2.5/14, carbs=2/14, protein=1/14, sodium=62.5/14, fiber=0.5/14, units='grams'),  # 2 tbsp = 28 g\n",
    "    'chicken': Food(fat=1.071, carbs=0, protein=9.306, sodium=22.2, fiber=0, units='ounces'),  # 100 g\n",
    "    'broccoli': Food(fat=0.64/156, carbs=11.2/156, protein=3.72/156, sodium=64/156, fiber=5.2/156, units='grams'),  # 1/2 cup = 78 g\n",
    "    'cheese': Food(fat=6, carbs=0, protein=7, sodium=190, fiber=0, units='sticks'),  # 1 stick\n",
    "    'lettuce': Food(fat=0.0015, carbs=0.0287, protein=0.0136, sodium=0.28, fiber=0.013, units='grams'),  # 1 cup = 36 g\n",
    "    'tomatoes': Food(fat=0.002, carbs=0.0389, protein=0.0088, sodium=0.05, fiber=0.012, units='grams'),  # 1 cup = 149 g\n",
    "    'bell peppers': Food(fat=0.003, carbs=0.0603, protein=0.0099, sodium=0.04, fiber=0.021, units='grams'),  # 1 cup = 149 g\n",
    "    'vinaigrette': Food(fat=(1+0)/2, carbs=(0+0.1703)/2, protein=(0+0.0049)/2, sodium=(0.02+0.23)/2, fiber=0, units='grams'),  # 1 tbsp = 16 g\n",
    "    'greek dressing': Food(fat=4.5/30, carbs=2/30, protein=0, sodium=280/30, fiber=0, units='grams'),  # 1 tbsp = 16 g\n",
    "    'protein powder': Food(fat=4/30, carbs=12/30, protein=11/30, sodium=0, fiber=12/30, units='grams'),\n",
    "    'benefiber': Food(fat=0, carbs=7/7.4, protein=0, sodium=0, fiber=5/7.4, units='grams'),\n",
    "    'almonds': Food(fat=0.4993, carbs=0.2155, protein=0.2115, sodium=0.01, fiber=0.125, units='grams'),\n",
    "    'skirt steak': Food(fat=3.8, carbs=0, protein=9, sodium=0.189, fiber=0, units='ounce'),\n",
    "    'salsa': Food(fat=0, carbs=2/30, protein=0, sodium=200/30, fiber=0, units='grams'),\n",
    "    'cottage cheese': Food(fat=4.5, carbs=4, protein=13, sodium=400, fiber=0, units='cups'),\n",
    "    'chicken parm': Food(fat=39, carbs=5.72, protein=70.5, sodium=358, fiber=1, units='serving'),\n",
    "    'smoothie': Food(fat=0.92, carbs=51.22, protein=3.28, sodium=27, fiber=6.3, units='serving'),\n",
    "    'tomato caper sauce': Food(fat=1.385, carbs=4.2075, protein=1.05, sodium=206.75, fiber=1.4, units='serving'),\n",
    "    'salmon': Food(fat=1.8, carbs=0, protein=5.62, sodium=12, fiber=0, units='ounces'),\n",
    "    'tilapia': Food(fat=0.79, carbs=0, protein=7.84, sodium=17, fiber=0, units='ounces'),\n",
    "    'yogurt': Food(fat=0, carbs=9/227, protein=23/227, sodium=85/227, fiber=0, units='grams'),\n",
    "    'fruit cup': Food(fat=0.09, carbs=25.13, protein=0.378, sodium=6.0, fiber=1.28, units='package and 20 g maple syrup'), # per 100 g drained, 1/2 cup = 77 g\n",
    "    'chicken sausage': Food(fat=2, carbs=4, protein=5, sodium=160, fiber=0, units='link'),\n",
    "    'pork sausage': Food(fat=0.248, carbs=0.0093, protein=0.1539, sodium=7.39, fiber=0, units='grams'), # 1 link = 25 g\n",
    "    'almond milk': Food(fat=0.36, carbs=0.19, protein=0.19, sodium=23, fiber=0, units='ounces'),\n",
    "    'banana': Food(fat=0.39, carbs=26.95, protein=1.29, sodium=1, fiber=3.1, units='medium'),\n",
    "    'apple': Food(fat=0.31, carbs=25.13, protein=0.47, sodium=2, fiber=4.4, units='medium'),\n",
    "    'breaded chicken': Food(fat=1.68, carbs=5.81, protein=10.09, sodium=118, fiber=0.18, units='ounces'),\n",
    "    'pork chop': Food(fat=1.24, carbs=0, protein=8.10, sodium=19, fiber=0, units='ounces'),\n",
    "    'chicken meatballs': Food(fat=2.3, carbs=1.31, protein=4.18, sodium=117, fiber=0.48, units='meatball w/ sauce'),\n",
    "    'cauliflower': Food(fat=0.0045, carbs=0.0411, protein=0.0184, sodium=0, fiber=0.023, units='grams'),\n",
    "    'asparagus': Food(fat=0.0022, carbs=0.0411, protein=0.0240, sodium=0, fiber=0.020, units='grams'),\n",
    "    'green beans': Food(fat=0.0028, carbs=0.0788, protein=0.0189, sodium=0, fiber=0.032, units='grams'),\n",
    "    'canned green beans': Food(fat=0.0041, carbs=0.0419, protein=0.0105, sodium=0, fiber=0.019, units='grams'),\n",
    "    'canned corn': Food(fat=0.0122, carbs=0.1434, protein=0.0229, sodium=0, fiber=0.020, units='grams'),\n",
    "    'creamed corn': Food(fat=0.0042, carbs=0.1813, protein=0.0174, sodium=0, fiber=0.012, units='grams'),\n",
    "    'gummies': Food(fat=0, carbs=3.5, protein=0, sodium=0, fiber=2, units='gummies'),\n",
    "    'granola': Food(fat=6/30, carbs=18/30, protein=3/30, sodium=105/30, fiber=2/30, units='grams'),\n",
    "}"
   ]
  },
  {
   "cell_type": "code",
   "execution_count": 67,
   "metadata": {
    "collapsed": true
   },
   "outputs": [],
   "source": [
    "model = AbstractModel()"
   ]
  },
  {
   "cell_type": "code",
   "execution_count": 68,
   "metadata": {
    "collapsed": true
   },
   "outputs": [],
   "source": [
    "model.F = Set(initialize=list(amounts.keys()))\n",
    "model.N = Set(initialize=['fat', 'carbs', 'protein', 'sodium', 'fiber'])\n",
    "model.Food = Set(initialize=list(food.keys()))"
   ]
  },
  {
   "cell_type": "code",
   "execution_count": 69,
   "metadata": {
    "collapsed": true
   },
   "outputs": [],
   "source": [
    "def a_init(model, f, n):\n",
    "    return getattr(food[f], n)\n",
    "model.a = Param(model.Food, model.N, within=NonNegativeReals, initialize=a_init)"
   ]
  },
  {
   "cell_type": "code",
   "execution_count": 70,
   "metadata": {
    "collapsed": true
   },
   "outputs": [],
   "source": [
    "model.x = Var(model.F, within=NonNegativeReals)\n",
    "model.x_fat = Var(within=Reals)\n",
    "model.x_carbs = Var(within=Reals)\n",
    "model.x_protein = Var(within=Reals)"
   ]
  },
  {
   "cell_type": "code",
   "execution_count": 71,
   "metadata": {
    "collapsed": true
   },
   "outputs": [],
   "source": [
    "def obj_rule(model):\n",
    "    return 9 * model.x_fat + 4 * model.x_protein + 4 * model.x_carbs\n",
    "    #return sum(model.x[f] * model.a[f, 'fiber'] for f in model.F)\n",
    "model.obj = Objective(rule=obj_rule)\n",
    "#model.obj = Objective(rule=obj_rule, sense=maximize)"
   ]
  },
  {
   "cell_type": "code",
   "execution_count": 72,
   "metadata": {
    "collapsed": true
   },
   "outputs": [],
   "source": [
    "def sodium_rule(model):\n",
    "    return sum(model.x[f] * model.a[f, 'sodium'] for f in model.F) <= 2000\n",
    "model.sodium_constraint = Constraint(rule=sodium_rule)"
   ]
  },
  {
   "cell_type": "code",
   "execution_count": 73,
   "metadata": {
    "collapsed": true
   },
   "outputs": [],
   "source": [
    "def fiber_rule(model, f):\n",
    "    return sum(model.x[f] * model.a[f, 'fiber'] for f in model.F) >= targets['fiber']\n",
    "#model.fiber_constraint = Constraint(model.F, rule=fiber_rule)"
   ]
  },
  {
   "cell_type": "code",
   "execution_count": 74,
   "metadata": {
    "collapsed": true
   },
   "outputs": [],
   "source": [
    "def x_fat_lb_rule(model):\n",
    "    return sum(model.x[f] * model.a[f, 'fat'] for f in model.F) - model.x_fat <= targets['fat']\n",
    "model.x_fat_lb_constraint = Constraint(rule=x_fat_lb_rule)"
   ]
  },
  {
   "cell_type": "code",
   "execution_count": 75,
   "metadata": {
    "collapsed": true
   },
   "outputs": [],
   "source": [
    "def x_fat_ub_rule(model):\n",
    "    return sum(model.x[f] * model.a[f, 'fat'] for f in model.F) + model.x_fat >= targets['fat']\n",
    "model.x_fat_ub_constraint = Constraint(rule=x_fat_ub_rule)"
   ]
  },
  {
   "cell_type": "code",
   "execution_count": 76,
   "metadata": {
    "collapsed": true
   },
   "outputs": [],
   "source": [
    "def x_carbs_lb_rule(model):\n",
    "    return sum(model.x[f] * model.a[f, 'carbs'] for f in model.F) - model.x_carbs <= targets['carbs']\n",
    "model.x_carbs_lb_constraint = Constraint(rule=x_carbs_lb_rule)"
   ]
  },
  {
   "cell_type": "code",
   "execution_count": 77,
   "metadata": {
    "collapsed": true
   },
   "outputs": [],
   "source": [
    "def x_carbs_ub_rule(model):\n",
    "    return sum(model.x[f] * model.a[f, 'carbs'] for f in model.F) + model.x_carbs >= targets['carbs']\n",
    "model.x_carbs_ub_constraint = Constraint(rule=x_carbs_ub_rule)"
   ]
  },
  {
   "cell_type": "code",
   "execution_count": 78,
   "metadata": {
    "collapsed": true
   },
   "outputs": [],
   "source": [
    "def x_protein_lb_rule(model):\n",
    "    return sum(model.x[f] * model.a[f, 'protein'] for f in model.F) - model.x_protein <= targets['protein']\n",
    "model.x_protein_lb_constraint = Constraint(rule=x_protein_lb_rule)"
   ]
  },
  {
   "cell_type": "code",
   "execution_count": 79,
   "metadata": {
    "collapsed": true
   },
   "outputs": [],
   "source": [
    "def x_protein_ub_rule(model):\n",
    "    return sum(model.x[f] * model.a[f, 'protein'] for f in model.F) + model.x_protein >= targets['protein']\n",
    "model.x_protein_ub_constraint = Constraint(rule=x_protein_ub_rule)"
   ]
  },
  {
   "cell_type": "code",
   "execution_count": 80,
   "metadata": {
    "collapsed": true
   },
   "outputs": [],
   "source": [
    "#model.tomatoes_constraint = Constraint(rule=lambda model: model.x['tomatoes'] - 75 / 72 * model.x['lettuce'] == 0)\n",
    "#model.dressing_constraint = Constraint(rule=lambda model: model.x['greek dressing'] - 30 / 72 * model.x['lettuce'] == 0)\n",
    "#model.protein_powder_lb_constraint = Constraint(rule=lambda model: model.x['protein powder'] - 30 * model.x['smoothie'] >= 0)\n",
    "#model.protein_powder_ub_constraint = Constraint(rule=lambda model: model.x['protein powder'] - 45 * model.x['smoothie'] <= 0)\n",
    "#model.fruit_cup_constraint = Constraint(rule=lambda model: model.x['cottage cheese'] - model.x['fruit cup'] == 0)"
   ]
  },
  {
   "cell_type": "code",
   "execution_count": 81,
   "metadata": {},
   "outputs": [
    {
     "name": "stdout",
     "output_type": "stream",
     "text": [
      "+---------------+-------+-------+---------+\n",
      "|      Food     | Lower | Upper | Initial |\n",
      "+---------------+-------+-------+---------+\n",
      "|     Hummus    |   22  |   33  |    22   |\n",
      "|    Chicken    |   0   |   16  |    0    |\n",
      "| Peanut Butter |   25  |   38  |    25   |\n",
      "+---------------+-------+-------+---------+\n",
      "+--------------------+-------+\n",
      "|        Food        | Value |\n",
      "+--------------------+-------+\n",
      "|       Cheese       |   1   |\n",
      "|       Celery       |   65  |\n",
      "|      Tomatoes      |   75  |\n",
      "|      Lettuce       |  108  |\n",
      "|       Carrot       |   65  |\n",
      "|      Gummies       |   4   |\n",
      "|   Cottage Cheese   |   1   |\n",
      "|      Broccoli      |   78  |\n",
      "|   Greek Dressing   |   30  |\n",
      "| Yogurt/Maple Syrup |  170  |\n",
      "|     Fruit Cup      |   1   |\n",
      "+--------------------+-------+\n",
      "Integers: ['hummus', 'cheese', 'celery', 'chicken', 'tomatoes', 'lettuce', 'carrot', 'gummies', 'cottage cheese', 'broccoli', 'greek dressing', 'peanut butter', 'yogurt/maple syrup']\n",
      "\n",
      "Problem: \n",
      "- Name: tmp0t2c1msw.pyomo\n",
      "  Lower bound: 60.34005714\n",
      "  Upper bound: 60.34005714\n",
      "  Number of objectives: 1\n",
      "  Number of constraints: 8\n",
      "  Number of variables: 7\n",
      "  Number of nonzeros: 26\n",
      "  Sense: minimize\n",
      "Solver: \n",
      "- Status: ok\n",
      "  User time: -1.0\n",
      "  Termination condition: optimal\n",
      "  Error rc: 0\n",
      "  Time: 0.03291010856628418\n",
      "Solution: \n",
      "- number of solutions: 0\n",
      "  number of solutions displayed: 0\n",
      "\n"
     ]
    }
   ],
   "source": [
    "from pyomo.opt import SolverFactory\n",
    "opt = SolverFactory('cbc')\n",
    "instance = model.create_instance()\n",
    "for f in instance.F:\n",
    "    if isinstance(amounts[f], tuple):\n",
    "        instance.x[f].setlb(int(amounts[f][0]))\n",
    "        instance.x[f].setub(int(amounts[f][1]))\n",
    "        instance.x[f].value = instance.x[f].lb\n",
    "    else:\n",
    "        instance.x[f] = amounts[f]\n",
    "        instance.x[f].fixed = True\n",
    "    if food[f].units in ['grams', 'ounces'] or f in ints:\n",
    "        instance.x[f].domain = NonNegativeIntegers\n",
    "import prettytable\n",
    "pt_var = prettytable.PrettyTable(['Food', 'Lower', 'Upper', 'Initial'])\n",
    "pt_fix = prettytable.PrettyTable(['Food', 'Value'])\n",
    "for f in instance.F:\n",
    "    if not instance.x[f].fixed:\n",
    "        pt_var.add_row([f.title(), instance.x[f].lb, instance.x[f].ub, instance.x[f].value])\n",
    "    else:\n",
    "        pt_fix.add_row([f.title(), instance.x[f].value])\n",
    "print(pt_var)\n",
    "print(pt_fix)\n",
    "print(f'Integers: {[f for f in instance.F if instance.x[f].domain is NonNegativeIntegers]}')\n",
    "results = opt.solve(instance)\n",
    "print(results)"
   ]
  },
  {
   "cell_type": "code",
   "execution_count": 82,
   "metadata": {},
   "outputs": [
    {
     "name": "stdout",
     "output_type": "stream",
     "text": [
      "+--------------------+----------------------+\n",
      "|        Food        |        Value         |\n",
      "+--------------------+----------------------+\n",
      "|      broccoli      |       78 grams       |\n",
      "|       carrot       |       65 grams       |\n",
      "|       celery       |       65 grams       |\n",
      "|       cheese       |       1 sticks       |\n",
      "|      chicken       |      11 ounces       |\n",
      "|   cottage cheese   |        1 cups        |\n",
      "|     fruit cup      |  1 package and 20 g  |\n",
      "|                    |     maple syrup      |\n",
      "|   greek dressing   |       30 grams       |\n",
      "|      gummies       |      4 gummies       |\n",
      "|       hummus       |       22 grams       |\n",
      "|      lettuce       |      108 grams       |\n",
      "|   peanut butter    |       25 grams       |\n",
      "|      tomatoes      |       75 grams       |\n",
      "| yogurt/maple syrup | 170 grams yogurt, 20 |\n",
      "|                    |    g maple syrup     |\n",
      "+--------------------+----------------------+\n",
      "Total Calories = 1429, Fat = 49.1, Carbs = 93.1, Protein = 153.6, Sodium = 1452, Fiber = 19.4\n",
      "   Target Cals = 1400, Fat = 46.7, Carbs = 87.5, Protein = 157.5, Sodium < 2000, Fiber = 20.6\n",
      "Total Macros:  Fat = 30.9%, Carbs = 26.1%, Protein = 43.0%\n",
      "     Targets:  Fat = 30.0%, Carbs = 25.0%, Protein = 45.0%\n"
     ]
    }
   ],
   "source": [
    "fat = carbs = protein = fiber = sodium = 0\n",
    "import prettytable\n",
    "import textwrap\n",
    "pt = prettytable.PrettyTable(['Food', 'Value'])\n",
    "for f in sorted(instance.F):\n",
    "    value = instance.x[f].value\n",
    "    fat += value * instance.a[f, 'fat']\n",
    "    carbs += value * instance.a[f, 'carbs']\n",
    "    protein += value * instance.a[f, 'protein']\n",
    "    fiber += value * instance.a[f, 'fiber']\n",
    "    sodium += value * instance.a[f, 'sodium']\n",
    "    units = food[f].units\n",
    "    if f == 'yogurt/maple syrup':\n",
    "        units = f'{units}, {20*value//170} g maple syrup'\n",
    "    pt.add_row([f, '\\n'.join(textwrap.wrap(f'{value} {units}', 20))])\n",
    "\n",
    "cals = 9 * fat + 4 * carbs + 4 * protein\n",
    "\n",
    "print(pt)\n",
    "print(f'Total Calories = {int(cals)}, Fat = {fat:4.1f}, Carbs = {carbs:.1f}, Protein = {protein:5.1f}, Sodium = {int(sodium):4d}, Fiber = {fiber:4.1f}')\n",
    "print(f'   Target Cals = {target_cals}, Fat = {targets[\"fat\"]:.1f}, Carbs = {targets[\"carbs\"]:.1f}, Protein = {targets[\"protein\"]:.1f}, Sodium < 2000, Fiber = {targets[\"fiber\"]:.1f}')\n",
    "print(f'Total Macros:  Fat = {fat*9/cals*100:4.1f}%, Carbs = {carbs*4/cals*100:4.1f}%, Protein = {protein*4/cals*100:4.1f}%')\n",
    "print(f'     Targets:  Fat = {target_macros[\"fat\"]:4.1f}%, Carbs = {target_macros[\"carbs\"]:4.1f}%, Protein = {target_macros[\"protein\"]:4.1f}%')"
   ]
  },
  {
   "cell_type": "code",
   "execution_count": null,
   "metadata": {
    "collapsed": true
   },
   "outputs": [],
   "source": []
  }
 ],
 "metadata": {
  "kernelspec": {
   "display_name": "Python 3",
   "language": "python",
   "name": "python3"
  },
  "language_info": {
   "codemirror_mode": {
    "name": "ipython",
    "version": 3
   },
   "file_extension": ".py",
   "mimetype": "text/x-python",
   "name": "python",
   "nbconvert_exporter": "python",
   "pygments_lexer": "ipython3",
   "version": "3.6.3"
  }
 },
 "nbformat": 4,
 "nbformat_minor": 2
}
