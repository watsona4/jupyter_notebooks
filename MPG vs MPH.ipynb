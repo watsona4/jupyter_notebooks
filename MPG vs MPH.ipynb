{
 "cells": [
  {
   "cell_type": "code",
   "execution_count": 1,
   "metadata": {
    "collapsed": true
   },
   "outputs": [],
   "source": [
    "from scipy.odr import RealData, ODR, quadratic\n",
    "import numpy as np"
   ]
  },
  {
   "cell_type": "code",
   "execution_count": 129,
   "metadata": {
    "collapsed": true
   },
   "outputs": [],
   "source": [
    "data = RealData(x=[30, 40, 50, 45], y=[34.1, 36.3, 30.0, 33], sy=[0.01, 1e-10, 1e-10, 1e-10])"
   ]
  },
  {
   "cell_type": "code",
   "execution_count": 130,
   "metadata": {
    "collapsed": true
   },
   "outputs": [],
   "source": [
    "odr = ODR(data, quadratic)"
   ]
  },
  {
   "cell_type": "code",
   "execution_count": 131,
   "metadata": {},
   "outputs": [
    {
     "data": {
      "text/plain": [
       "<scipy.odr.odrpack.Output at 0x209157255f8>"
      ]
     },
     "execution_count": 131,
     "metadata": {},
     "output_type": "execute_result"
    }
   ],
   "source": [
    "odr.run()"
   ]
  },
  {
   "cell_type": "code",
   "execution_count": 132,
   "metadata": {},
   "outputs": [
    {
     "name": "stdout",
     "output_type": "stream",
     "text": [
      "Beta: [ -0.04642334   3.45927758 -27.83564496]\n",
      "Beta Std Error: [  9.35615094e-03   7.21619133e-01   1.39222612e+01]\n",
      "Beta Covariance: [[  4.73825682e-05  -3.63539880e-03   6.89217295e-02]\n",
      " [ -3.63539880e-03   2.81864406e-01  -5.40452117e+00]\n",
      " [  6.89217295e-02  -5.40452117e+00   1.04916480e+02]]\n",
      "Residual Variance: 1.8474633988396627\n",
      "Inverse Condition #: 1.232170946471267e-05\n",
      "Reason(s) for Halting:\n",
      "  Parameter convergence\n"
     ]
    }
   ],
   "source": [
    "odr.output.pprint()"
   ]
  },
  {
   "cell_type": "code",
   "execution_count": 39,
   "metadata": {},
   "outputs": [
    {
     "name": "stdout",
     "output_type": "stream",
     "text": [
      "B = [ -0.0425   3.195  -23.5   ]\n",
      "S = [  5.52228496e-16   4.27476596e-14   8.33387791e-13]\n"
     ]
    }
   ],
   "source": [
    "B = odr.output.beta; print(f'B = {B}')\n",
    "# S = np.sqrt(np.diag(odr.output.cov_beta)); print(f'S = {S}')\n",
    "S = odr.output.sd_beta; print(f'S = {S}')"
   ]
  },
  {
   "cell_type": "code",
   "execution_count": 123,
   "metadata": {},
   "outputs": [
    {
     "data": {
      "text/plain": [
       "37.077565632452405"
      ]
     },
     "execution_count": 123,
     "metadata": {},
     "output_type": "execute_result"
    }
   ],
   "source": [
    "maxloc = -B[1]/(2*B[0]); maxloc"
   ]
  },
  {
   "cell_type": "code",
   "execution_count": 124,
   "metadata": {},
   "outputs": [
    {
     "data": {
      "text/plain": [
       "0.71096052207882976"
      ]
     },
     "execution_count": 124,
     "metadata": {},
     "output_type": "execute_result"
    }
   ],
   "source": [
    "maxunc = np.sqrt(B[1]**2/(4*B[0]**4)*S[0]**2+(1/(4*B[0]**2))**2*S[1]**2); maxunc"
   ]
  },
  {
   "cell_type": "code",
   "execution_count": 118,
   "metadata": {
    "collapsed": true
   },
   "outputs": [],
   "source": [
    "%matplotlib inline\n",
    "import matplotlib\n",
    "import matplotlib.pyplot as plt"
   ]
  },
  {
   "cell_type": "code",
   "execution_count": 125,
   "metadata": {},
   "outputs": [
    {
     "data": {
      "text/plain": [
       "<matplotlib.lines.Line2D at 0x209158764a8>"
      ]
     },
     "execution_count": 125,
     "metadata": {},
     "output_type": "execute_result"
    },
    {
     "data": {
      "image/png": "[encoded data removed]",
      "text/plain": [
       "<matplotlib.figure.Figure at 0x2091578a828>"
      ]
     },
     "metadata": {},
     "output_type": "display_data"
    }
   ],
   "source": [
    "x = np.arange(20, 60, 0.01)\n",
    "plt.plot(x, quadratic.fcn(B, x))\n",
    "plt.errorbar(data.x, data.y, yerr=data.sy, fmt='s')\n",
    "plt.plot(x, quadratic.fcn(B - S, x))\n",
    "plt.plot(x, quadratic.fcn(B + S, x))\n",
    "plt.axvline(maxloc, color='r')\n",
    "plt.axvline(maxloc - maxunc, color='r', dashes=[5,5])\n",
    "plt.axvline(maxloc + maxunc, color='r', dashes=[5,5])"
   ]
  },
  {
   "cell_type": "code",
   "execution_count": 133,
   "metadata": {},
   "outputs": [],
   "source": [
    "X = np.matrix([[x**2, x, 1] for x in data.x])\n",
    "Sy = np.diag([s**2 for s in data.sy])\n",
    "y = np.array(data.y)"
   ]
  },
  {
   "cell_type": "code",
   "execution_count": 134,
   "metadata": {},
   "outputs": [
    {
     "name": "stdout",
     "output_type": "stream",
     "text": [
      "B = [ -0.03809091   2.82463636 -16.26909091]\n",
      "S = [  4.54545455e-05   4.11818182e-03   9.25454545e-02]\n"
     ]
    }
   ],
   "source": [
    "B = X.T.dot(X).I.dot(X.T).dot(y).A[0]; print(f'B = {B}')\n",
    "S = np.sqrt(np.diag(X.T.dot(X).I.dot(X.T).dot(Sy).dot(X).dot(X.T.dot(X).I))); print(f'S = {S}')"
   ]
  },
  {
   "cell_type": "code",
   "execution_count": null,
   "metadata": {
    "collapsed": true
   },
   "outputs": [],
   "source": []
  }
 ],
 "metadata": {
  "kernelspec": {
   "display_name": "Python 3",
   "language": "python",
   "name": "python3"
  },
  "language_info": {
   "codemirror_mode": {
    "name": "ipython",
    "version": 3
   },
   "file_extension": ".py",
   "mimetype": "text/x-python",
   "name": "python",
   "nbconvert_exporter": "python",
   "pygments_lexer": "ipython3",
   "version": "3.6.3"
  }
 },
 "nbformat": 4,
 "nbformat_minor": 2
}
