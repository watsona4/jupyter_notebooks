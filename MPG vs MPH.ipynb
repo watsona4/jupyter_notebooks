{
 "cells": [
  {
   "cell_type": "code",
   "execution_count": 1,
   "metadata": {
    "collapsed": true
   },
   "outputs": [],
   "source": [
    "from scipy.odr import RealData, ODR, quadratic\n",
    "import numpy as np"
   ]
  },
  {
   "cell_type": "code",
   "execution_count": 2,
   "metadata": {
    "collapsed": true
   },
   "outputs": [],
   "source": [
    "data = RealData(x=[30, 40, 50], y=[34.7, 36.3, 30.0], sy=[0.8, 0.1, 0.1])"
   ]
  },
  {
   "cell_type": "code",
   "execution_count": 3,
   "metadata": {
    "collapsed": true
   },
   "outputs": [],
   "source": [
    "odr = ODR(data, quadratic)"
   ]
  },
  {
   "cell_type": "code",
   "execution_count": 4,
   "metadata": {},
   "outputs": [
    {
     "data": {
      "text/plain": [
       "<scipy.odr.odrpack.Output at 0x2cd74aa4080>"
      ]
     },
     "execution_count": 4,
     "metadata": {},
     "output_type": "execute_result"
    }
   ],
   "source": [
    "odr.run()"
   ]
  },
  {
   "cell_type": "code",
   "execution_count": 5,
   "metadata": {},
   "outputs": [
    {
     "name": "stdout",
     "output_type": "stream",
     "text": [
      "Beta: [ -0.0395   2.925  -17.5   ]\n",
      "Beta Std Error: [  2.67607647e-16   2.14238635e-14   4.31708983e-13]\n",
      "Beta Covariance: [[  5.67383398e-05  -4.51091686e-03   8.90031084e-02]\n",
      " [ -4.51091686e-03   3.63642948e-01  -7.27607319e+00]\n",
      " [  8.90031084e-02  -7.27607319e+00   1.47659623e+02]]\n",
      "Residual Variance: 1.2621774483536189e-27\n",
      "Inverse Condition #: 1.1623751228859986e-05\n",
      "Reason(s) for Halting:\n",
      "  Parameter convergence\n"
     ]
    }
   ],
   "source": [
    "odr.output.pprint()"
   ]
  },
  {
   "cell_type": "code",
   "execution_count": 6,
   "metadata": {},
   "outputs": [
    {
     "name": "stdout",
     "output_type": "stream",
     "text": [
      "B = [ -0.0395   2.925  -17.5   ]\n",
      "S = [  5.67383398e-05   3.63642948e-01   1.47659623e+02]\n"
     ]
    }
   ],
   "source": [
    "B = odr.output.beta; print(f'B = {B}')\n",
    "S = np.diag(odr.output.cov_beta); print(f'S = {S}')"
   ]
  },
  {
   "cell_type": "code",
   "execution_count": 26,
   "metadata": {},
   "outputs": [
    {
     "data": {
      "text/plain": [
       "37.588235294117645"
      ]
     },
     "execution_count": 26,
     "metadata": {},
     "output_type": "execute_result"
    }
   ],
   "source": [
    "maxloc = -B[1]/(2*B[0]); maxloc"
   ]
  },
  {
   "cell_type": "code",
   "execution_count": 27,
   "metadata": {},
   "outputs": [
    {
     "data": {
      "text/plain": [
       "3.0253925831748347"
      ]
     },
     "execution_count": 27,
     "metadata": {},
     "output_type": "execute_result"
    }
   ],
   "source": [
    "maxunc = np.sqrt(B[1]**2/(4*B[0]**4)*S[0]**2+1/(4*B[0]**2)*S[1]**2); maxunc"
   ]
  },
  {
   "cell_type": "code",
   "execution_count": 28,
   "metadata": {
    "collapsed": true
   },
   "outputs": [],
   "source": [
    "%matplotlib inline\n",
    "import matplotlib\n",
    "import matplotlib.pyplot as plt"
   ]
  },
  {
   "cell_type": "code",
   "execution_count": 29,
   "metadata": {},
   "outputs": [
    {
     "data": {
      "text/plain": [
       "<matplotlib.lines.Line2D at 0x23eafd105c0>"
      ]
     },
     "execution_count": 29,
     "metadata": {},
     "output_type": "execute_result"
    },
    {
     "data": {
      "image/png": "[encoded data removed]",
      "text/plain": [
       "<matplotlib.figure.Figure at 0x23eafae00b8>"
      ]
     },
     "metadata": {},
     "output_type": "display_data"
    }
   ],
   "source": [
    "x = np.arange(20, 60, 0.01)\n",
    "plt.plot(x, quadratic.fcn(B, x))\n",
    "plt.plot(data.x, data.y, 's')\n",
    "# plt.plot(x, quadratic.fcn(B - S, x))\n",
    "# plt.plot(x, quadratic.fcn(B + S, x))\n",
    "plt.axvline(maxloc, color='r')\n",
    "plt.axvline(maxloc - maxunc, color='r', dashes=[5,5])\n",
    "plt.axvline(maxloc + maxunc, color='r', dashes=[5,5])"
   ]
  },
  {
   "cell_type": "code",
   "execution_count": null,
   "metadata": {
    "collapsed": true
   },
   "outputs": [],
   "source": []
  }
 ],
 "metadata": {
  "kernelspec": {
   "display_name": "Python 3",
   "language": "python",
   "name": "python3"
  },
  "language_info": {
   "codemirror_mode": {
    "name": "ipython",
    "version": 3
   },
   "file_extension": ".py",
   "mimetype": "text/x-python",
   "name": "python",
   "nbconvert_exporter": "python",
   "pygments_lexer": "ipython3",
   "version": "3.6.1"
  }
 },
 "nbformat": 4,
 "nbformat_minor": 2
}
