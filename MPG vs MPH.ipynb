{
 "cells": [
  {
   "cell_type": "code",
   "execution_count": 172,
   "metadata": {
    "collapsed": true
   },
   "outputs": [],
   "source": [
    "from scipy.odr import RealData, ODR, quadratic\n",
    "import numpy as np"
   ]
  },
  {
   "cell_type": "code",
   "execution_count": 203,
   "metadata": {
    "collapsed": true
   },
   "outputs": [],
   "source": [
    "data = RealData(x=[30, 40, 50], y=[34.1, 36.3, 30.0], sy=[0.01, 0.5, 1e-10, 1e-10])"
   ]
  },
  {
   "cell_type": "code",
   "execution_count": 204,
   "metadata": {
    "collapsed": true
   },
   "outputs": [],
   "source": [
    "odr = ODR(data, quadratic)"
   ]
  },
  {
   "cell_type": "code",
   "execution_count": 205,
   "metadata": {},
   "outputs": [],
   "source": [
    "# odr.run()"
   ]
  },
  {
   "cell_type": "code",
   "execution_count": 206,
   "metadata": {},
   "outputs": [],
   "source": [
    "# odr.output.pprint()"
   ]
  },
  {
   "cell_type": "code",
   "execution_count": 207,
   "metadata": {},
   "outputs": [],
   "source": [
    "# B = odr.output.beta; print(f'B = {B}')\n",
    "# S = odr.output.sd_beta; print(f'S = {S}')"
   ]
  },
  {
   "cell_type": "code",
   "execution_count": 208,
   "metadata": {
    "collapsed": true
   },
   "outputs": [],
   "source": [
    "X = np.matrix([[x**2, x, 1] for x in data.x])\n",
    "Sy = np.diag([s**2 for s in data.sy])\n",
    "y = np.array(data.y)"
   ]
  },
  {
   "cell_type": "code",
   "execution_count": 209,
   "metadata": {},
   "outputs": [
    {
     "name": "stdout",
     "output_type": "stream",
     "text": [
      "B = [ -0.03809091   2.82463636 -16.26909091]\n",
      "S = [  3.63664772e-03   2.85484250e-01   5.26444987e+00]\n"
     ]
    }
   ],
   "source": [
    "B = X.T.dot(X).I.dot(X.T).dot(y).A[0]; print(f'B = {B}')\n",
    "S = np.sqrt(np.diag(X.T.dot(X).I.dot(X.T).dot(Sy).dot(X).dot(X.T.dot(X).I))); print(f'S = {S}')"
   ]
  },
  {
   "cell_type": "code",
   "execution_count": 210,
   "metadata": {},
   "outputs": [
    {
     "name": "stdout",
     "output_type": "stream",
     "text": [
      "maxloc = 37.077565632452405\n"
     ]
    }
   ],
   "source": [
    "maxloc = -B[1]/(2*B[0]); print(f'maxloc = {maxloc}')"
   ]
  },
  {
   "cell_type": "code",
   "execution_count": 211,
   "metadata": {},
   "outputs": [
    {
     "name": "stdout",
     "output_type": "stream",
     "text": [
      "maxunc = 49.31750887326591\n"
     ]
    }
   ],
   "source": [
    "maxunc = np.sqrt(B[1]**2/(4*B[0]**4)*S[0]**2+(1/(4*B[0]**2))**2*S[1]**2); print(f'maxunc = {maxunc}')"
   ]
  },
  {
   "cell_type": "code",
   "execution_count": 212,
   "metadata": {},
   "outputs": [
    {
     "name": "stdout",
     "output_type": "stream",
     "text": [
      "lounc = 22.391312946062605\n",
      "hiunc = 67.87678421937872\n"
     ]
    }
   ],
   "source": [
    "lounc = (-B[1] - S[1] + np.sqrt(2*B[1]*S[1] + S[1]**2 - S[0]*B[1]**2/B[0])) / (2*B[0] + 2*S[0]); print(f'lounc = {lounc}')\n",
    "hiunc = (-B[1] - S[1] - np.sqrt(2*B[1]*S[1] + S[1]**2 - S[0]*B[1]**2/B[0])) / (2*B[0] + 2*S[0]); print(f'hiunc = {hiunc}')"
   ]
  },
  {
   "cell_type": "code",
   "execution_count": 213,
   "metadata": {
    "collapsed": true
   },
   "outputs": [],
   "source": [
    "%matplotlib inline\n",
    "import matplotlib\n",
    "import matplotlib.pyplot as plt"
   ]
  },
  {
   "cell_type": "code",
   "execution_count": 214,
   "metadata": {},
   "outputs": [
    {
     "data": {
      "text/plain": [
       "<matplotlib.lines.Line2D at 0x20916eb1a20>"
      ]
     },
     "execution_count": 214,
     "metadata": {},
     "output_type": "execute_result"
    },
    {
     "data": {
      "image/png": "[encoded data removed]",
      "text/plain": [
       "<matplotlib.figure.Figure at 0x20916e63f60>"
      ]
     },
     "metadata": {},
     "output_type": "display_data"
    }
   ],
   "source": [
    "x = np.arange(20, 60, 0.01)\n",
    "plt.plot(x, quadratic.fcn(B, x))\n",
    "plt.errorbar(data.x, data.y, yerr=data.sy, fmt='s')\n",
    "plt.plot(x, quadratic.fcn(B - S, x))\n",
    "plt.plot(x, quadratic.fcn(B + S, x))\n",
    "plt.axvline(maxloc, color='r')\n",
    "plt.axvline(maxloc - maxunc, color='b', dashes=[5,5])\n",
    "plt.axvline(lounc, color='r', dashes=[5,5])\n",
    "plt.axvline(maxloc + maxunc, color='b', dashes=[5,5])\n",
    "plt.axvline(hiunc, color='r', dashes=[5,5])"
   ]
  },
  {
   "cell_type": "code",
   "execution_count": null,
   "metadata": {
    "collapsed": true
   },
   "outputs": [],
   "source": []
  }
 ],
 "metadata": {
  "kernelspec": {
   "display_name": "Python 3",
   "language": "python",
   "name": "python3"
  },
  "language_info": {
   "codemirror_mode": {
    "name": "ipython",
    "version": 3
   },
   "file_extension": ".py",
   "mimetype": "text/x-python",
   "name": "python",
   "nbconvert_exporter": "python",
   "pygments_lexer": "ipython3",
   "version": "3.6.3"
  }
 },
 "nbformat": 4,
 "nbformat_minor": 2
}
