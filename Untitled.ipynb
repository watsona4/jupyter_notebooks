{
 "cells": [
  {
   "cell_type": "markdown",
   "metadata": {},
   "source": [
    "Multigroup $P_N$ equation in one dimension:"
   ]
  },
  {
   "cell_type": "markdown",
   "metadata": {},
   "source": [
    "$$\\frac{\\ell}{2\\ell+1}\\frac{d\\phi_{\\ell-1,g}(x)}{dx}\n",
    "+ \\frac{\\ell+1}{2\\ell+1}\\frac{d\\phi_{\\ell+1,g}(x)}{dx}\n",
    "+ \\sigma_g\\phi_{\\ell,g}(x)\n",
    "= \\sum_{g^\\prime}\\sigma_{s,\\ell,g^\\prime\\rightarrow g}\\phi_{\\ell,g^\\prime}(x)\n",
    "+ \\frac{\\chi_g}{k}\\delta_{\\ell0}\\sum_{g^\\prime}\\sigma_{f,g^\\prime}\\phi_{0,g^\\prime}(x)\n",
    "$$"
   ]
  },
  {
   "cell_type": "markdown",
   "metadata": {},
   "source": [
    "Rearrange to get absorption rate on left and derivatives on right:"
   ]
  },
  {
   "cell_type": "markdown",
   "metadata": {},
   "source": [
    "$$\n",
    "\\sigma_{a,\\ell,g}\\phi_{\\ell,g}(x)\n",
    "- \\sum_{g^\\prime\\neq g}\\sigma_{s,\\ell,g^\\prime\\rightarrow g}\\phi_{\\ell,g^\\prime}(x)\n",
    "- \\frac{\\chi_g}{k}\\delta_{\\ell0}\\sum_{g^\\prime}\\sigma_{f,g^\\prime}\\phi_{0,g^\\prime}(x)\n",
    "= -\\frac{\\ell}{2\\ell+1}\\frac{d\\phi_{\\ell-1,g}(x)}{dx}\n",
    "- \\frac{\\ell+1}{2\\ell+1}\\frac{d\\phi_{\\ell+1,g}(x)}{dx},\n",
    "$$"
   ]
  },
  {
   "cell_type": "markdown",
   "metadata": {},
   "source": [
    "where the absorption cross section moments are defined as $\\sigma_{a,\\ell,g}:=\\sigma_g-\\sigma_{s,\\ell,g\\rightarrow g}$. The Legendre expansion ranges from $\\ell=0$ to $\\ell=L$. For $\\ell=0$:"
   ]
  },
  {
   "cell_type": "markdown",
   "metadata": {},
   "source": [
    "$$\n",
    "\\left(\\sigma_{a,0,g}-\\frac{\\chi_g}{k}\\sigma_{f,g}\\right)\\phi_{0,g}(x)\n",
    "- \\sum_{g^\\prime\\neq g}\\sigma_{s,0,g^\\prime\\rightarrow g}\\phi_{0,g^\\prime}(x)\n",
    "- \\frac{\\chi_g}{k}\\sum_{g^\\prime\\neq g}\\sigma_{f,g^\\prime}\\phi_{0,g^\\prime}(x)\n",
    "= -\\frac{d\\phi_{1,g}(x)}{dx},\n",
    "$$"
   ]
  },
  {
   "cell_type": "markdown",
   "metadata": {},
   "source": [
    "$$\n",
    "\\left(\\sigma_{a,0,g}-\\frac{\\chi_g}{k}\\sigma_{f,g}\\right)\\phi_{0,g}(x)\n",
    "- \\sum_{g^\\prime\\neq g}\\sigma_{s,0,g^\\prime\\rightarrow g}\\phi_{0,g^\\prime}(x)\n",
    "- \\frac{\\chi_g}{k}\\sum_{g^\\prime\\neq g}\\sigma_{f,g^\\prime}\\phi_{0,g^\\prime}(x)\n",
    "-\\frac{\\sigma_{a,0,g}-\\frac{\\chi_g}{k}\\sigma_{f,g}}{\\sigma_{a,0,1}-\\frac{\\chi_1}{k}\\sigma_{f,1}}\n",
    "\\left[\\left(\\sigma_{a,0,1}-\\frac{\\chi_1}{k}\\sigma_{f,1}\\right)\\phi_{0,1}(x)\n",
    "- \\sum_{g^\\prime\\neq 1}\\sigma_{s,0,g^\\prime\\rightarrow 1}\\phi_{0,g^\\prime}(x)\n",
    "- \\frac{\\chi_1}{k}\\sum_{g^\\prime\\neq 1}\\sigma_{f,g^\\prime}\\phi_{0,g^\\prime}(x)\\right]\n",
    "= -\\frac{d\\phi_{1,g}(x)}{dx}\n",
    "-\\frac{\\sigma_{a,0,g}-\\frac{\\chi_g}{k}\\sigma_{f,g}}{\\sigma_{a,0,1}-\\frac{\\chi_1}{k}\\sigma_{f,1}}\n",
    "\\left[-\\frac{d\\phi_{1,1}(x)}{dx}\\right],\n",
    "$$"
   ]
  },
  {
   "cell_type": "markdown",
   "metadata": {},
   "source": [
    "$$\n",
    "\\left(\\sigma_{a,0,g}-\\frac{\\chi_g}{k}\\sigma_{f,g}\\right)\\phi_{0,g}(x)\n",
    "- \\sum_{g^\\prime\\neq g}\\sigma_{s,0,g^\\prime\\rightarrow g}\\phi_{0,g^\\prime}(x)\n",
    "- \\frac{\\chi_g}{k}\\sum_{g^\\prime\\neq g}\\sigma_{f,g^\\prime}\\phi_{0,g^\\prime}(x)\n",
    "-\\frac{\\sigma_{a,0,g}-\\frac{\\chi_g}{k}\\sigma_{f,g}}{\\sigma_{a,0,1}-\\frac{\\chi_1}{k}\\sigma_{f,1}}\n",
    "\\left(\\sigma_{a,0,1}-\\frac{\\chi_1}{k}\\sigma_{f,1}\\right)\\phi_{0,1}(x)\n",
    "+\\frac{\\sigma_{a,0,g}-\\frac{\\chi_g}{k}\\sigma_{f,g}}{\\sigma_{a,0,1}-\\frac{\\chi_1}{k}\\sigma_{f,1}}\n",
    "\\sum_{g^\\prime\\neq 1}\\sigma_{s,0,g^\\prime\\rightarrow 1}\\phi_{0,g^\\prime}(x)\n",
    "+\\frac{\\sigma_{a,0,g}-\\frac{\\chi_g}{k}\\sigma_{f,g}}{\\sigma_{a,0,1}-\\frac{\\chi_1}{k}\\sigma_{f,1}}\n",
    "\\frac{\\chi_1}{k}\\sum_{g^\\prime\\neq 1}\\sigma_{f,g^\\prime}\\phi_{0,g^\\prime}(x)\n",
    "= -\\frac{d\\phi_{1,g}(x)}{dx}\n",
    "-\\frac{\\sigma_{a,0,g}-\\frac{\\chi_g}{k}\\sigma_{f,g}}{\\sigma_{a,0,1}-\\frac{\\chi_1}{k}\\sigma_{f,1}}\n",
    "\\left[-\\frac{d\\phi_{1,1}(x)}{dx}\\right],\n",
    "$$"
   ]
  },
  {
   "cell_type": "code",
   "execution_count": null,
   "metadata": {
    "collapsed": true
   },
   "outputs": [],
   "source": []
  }
 ],
 "metadata": {
  "kernelspec": {
   "display_name": "Python 3",
   "language": "python",
   "name": "python3"
  },
  "language_info": {
   "codemirror_mode": {
    "name": "ipython",
    "version": 3
   },
   "file_extension": ".py",
   "mimetype": "text/x-python",
   "name": "python",
   "nbconvert_exporter": "python",
   "pygments_lexer": "ipython3",
   "version": "3.6.3"
  }
 },
 "nbformat": 4,
 "nbformat_minor": 2
}
