{
 "cells": [
  {
   "cell_type": "code",
   "execution_count": 104,
   "metadata": {
    "collapsed": true
   },
   "outputs": [],
   "source": [
    "from collections import namedtuple\n",
    "import scipy.optimize\n",
    "import numpy as np"
   ]
  },
  {
   "cell_type": "code",
   "execution_count": 16,
   "metadata": {},
   "outputs": [],
   "source": [
    "Food = namedtuple('Food', ['name', 'fat', 'carbs', 'protein', 'sodium', 'fiber', 'range'])"
   ]
  },
  {
   "cell_type": "code",
   "execution_count": 186,
   "metadata": {
    "collapsed": true
   },
   "outputs": [],
   "source": [
    "food = [\n",
    "    Food(name='soymilk', fat=1.99, carbs=10.01, protein=6, sodium=95, fiber=1, range=(1,3)),  # 1 cup = 243 g\n",
    "    Food(name='egg', fat=6.7, carbs=0.98, protein=6.09, sodium=88, fiber=0, range=(0,3)),  # 1 large = 61 g\n",
    "    Food(name='yogurt/maple syrup', fat=0.01, carbs=20.41, protein=18.01, sodium=67, fiber=0, range=(0,4)),  # 1 container = 170 g\n",
    "    # Food(name='yogurt', fat=0, carbs=7, protein=18, sodium=65, fiber=0, range=(0,4)),  # 1 container = 170 g\n",
    "    # Food(name='maple syrup', fat=0.01, carbs=13.41, protein=0.01, sodium=2, fiber=0.0, range=(0,4)),  # 1 tbsp = 20 g\n",
    "#    Food(name='celery/peanut butter', fat=0.0017*65+18, carbs=0.0297*65+6, protein=0.0069*65+8, sodium=0.8*65+5, fiber=0.016*65+2, range=(1,3)),  # 65 g + 2 tbsp = 32 g\n",
    "    # Food(name='celery', fat=0.17, carbs=2.97, protein=0.69, sodium=80, fiber=1.6, range=(1,3)),  # 100 g\n",
    "    # Food(name='peanut butter', fat=18, carbs=6, protein=8, sodium=5, fiber=2, range=(1,3)),  # 2 tbsp = 32 g\n",
    "#    Food(name='carrot/hummus', fat=0.0024*65+5, carbs=0.0958*65+4, protein=0.0093*65+2, sodium=0.69*65+125, fiber=0.028*65+1, range=(1,3)),  # 65 g + 2 tbsp = 28 g\n",
    "    # Food(name='carrot', fat=0.24, carbs=9.58, protein=0.93, sodium=69, fiber=2.8, range=(1,3)),  # 100 g\n",
    "    # Food(name='hummus', fat=5, carbs=4, protein=2, sodium=125, fiber=1, range=(1,3)),  # 2 tbsp = 28 g\n",
    "#    Food(name='chicken', fat=3.57, carbs=0, protein=31.02, sodium=74, fiber=0, range=(1,10)),  # 100 g\n",
    "#    Food(name='broccoli', fat=0.32, carbs=5.6, protein=1.86, sodium=32, fiber=2.6, range=(1,4)),  # 1/2 cup = 78 g\n",
    "#    Food(name='cheese', fat=6, carbs=0, protein=7, sodium=190, fiber=0, range=(0,4)),  # 1 stick\n",
    "]\n",
    "ints = ['egg', 'cheese']"
   ]
  },
  {
   "cell_type": "code",
   "execution_count": 159,
   "metadata": {},
   "outputs": [],
   "source": [
    "def foo(x, prn=False):\n",
    "    y = np.zeros(5)\n",
    "    for i, val in enumerate(x):\n",
    "        if food[i].name in ints:\n",
    "            servings = int((food[i].range[1] - food[i].range[0] + 1) * val + food[i].range[0])\n",
    "        else:\n",
    "            servings = (food[i].range[1] - food[i].range[0]) * val + food[i].range[0]\n",
    "        y += val * np.array([food[i].fat, food[i].carbs, food[i].protein, food[i].fiber, food[i].sodium])\n",
    "        if prn:\n",
    "            print(f'    {food[i].name}: {val}')\n",
    "    if prn:\n",
    "        print(f'Fat = {y[0]:.1f}, Carbs = {y[1]:.1f}, Protein = {y[2]:.1f}, Sodium = {int(y[4]):d}, Fiber = {y[3]:.1f}')\n",
    "    return np.linalg.norm(np.array([40, 75, 135, 25]) - y[0:4])"
   ]
  },
  {
   "cell_type": "code",
   "execution_count": 187,
   "metadata": {},
   "outputs": [],
   "source": [
    "# x0 = np.ones(len(food))\n",
    "# res = scipy.optimize.minimize(foo, x0, method='tnc',\n",
    "#                               options={'disp': True, 'maxiter': 10000},\n",
    "#                               bounds=[(0, 1) for a in food])\n",
    "bounds = [slice(a.range[0], a.range[1] + (a.range[1] - a.range[0])/4, (a.range[1] - a.range[0])/4) if a.name not in ints else\n",
    " slice(a.range[0], a.range[1] + 1, 1) for a in food]\n",
    "res, fval, grid, jout = scipy.optimize.brute(foo, bounds, full_output=True)"
   ]
  },
  {
   "cell_type": "code",
   "execution_count": 188,
   "metadata": {},
   "outputs": [
    {
     "name": "stdout",
     "output_type": "stream",
     "text": [
      "    soymilk: -4.879069033435064\n",
      "    egg: 8.204310252487323\n",
      "    yogurt/maple syrup: 5.968374136157346\n",
      "Fat = 45.3, Carbs = 81.0, Protein = 128.2, Sodium = 658, Fiber = -4.9\n"
     ]
    },
    {
     "data": {
      "text/plain": [
       "31.681936508893902"
      ]
     },
     "execution_count": 188,
     "metadata": {},
     "output_type": "execute_result"
    }
   ],
   "source": [
    "foo(res, True)"
   ]
  },
  {
   "cell_type": "code",
   "execution_count": 190,
   "metadata": {},
   "outputs": [
    {
     "data": {
      "text/plain": [
       "array([[[[ 1. ,  1. ,  1. ,  1. ,  1. ],\n",
       "         [ 1. ,  1. ,  1. ,  1. ,  1. ],\n",
       "         [ 1. ,  1. ,  1. ,  1. ,  1. ],\n",
       "         [ 1. ,  1. ,  1. ,  1. ,  1. ]],\n",
       "\n",
       "        [[ 1.5,  1.5,  1.5,  1.5,  1.5],\n",
       "         [ 1.5,  1.5,  1.5,  1.5,  1.5],\n",
       "         [ 1.5,  1.5,  1.5,  1.5,  1.5],\n",
       "         [ 1.5,  1.5,  1.5,  1.5,  1.5]],\n",
       "\n",
       "        [[ 2. ,  2. ,  2. ,  2. ,  2. ],\n",
       "         [ 2. ,  2. ,  2. ,  2. ,  2. ],\n",
       "         [ 2. ,  2. ,  2. ,  2. ,  2. ],\n",
       "         [ 2. ,  2. ,  2. ,  2. ,  2. ]],\n",
       "\n",
       "        [[ 2.5,  2.5,  2.5,  2.5,  2.5],\n",
       "         [ 2.5,  2.5,  2.5,  2.5,  2.5],\n",
       "         [ 2.5,  2.5,  2.5,  2.5,  2.5],\n",
       "         [ 2.5,  2.5,  2.5,  2.5,  2.5]],\n",
       "\n",
       "        [[ 3. ,  3. ,  3. ,  3. ,  3. ],\n",
       "         [ 3. ,  3. ,  3. ,  3. ,  3. ],\n",
       "         [ 3. ,  3. ,  3. ,  3. ,  3. ],\n",
       "         [ 3. ,  3. ,  3. ,  3. ,  3. ]]],\n",
       "\n",
       "\n",
       "       [[[ 0. ,  0. ,  0. ,  0. ,  0. ],\n",
       "         [ 1. ,  1. ,  1. ,  1. ,  1. ],\n",
       "         [ 2. ,  2. ,  2. ,  2. ,  2. ],\n",
       "         [ 3. ,  3. ,  3. ,  3. ,  3. ]],\n",
       "\n",
       "        [[ 0. ,  0. ,  0. ,  0. ,  0. ],\n",
       "         [ 1. ,  1. ,  1. ,  1. ,  1. ],\n",
       "         [ 2. ,  2. ,  2. ,  2. ,  2. ],\n",
       "         [ 3. ,  3. ,  3. ,  3. ,  3. ]],\n",
       "\n",
       "        [[ 0. ,  0. ,  0. ,  0. ,  0. ],\n",
       "         [ 1. ,  1. ,  1. ,  1. ,  1. ],\n",
       "         [ 2. ,  2. ,  2. ,  2. ,  2. ],\n",
       "         [ 3. ,  3. ,  3. ,  3. ,  3. ]],\n",
       "\n",
       "        [[ 0. ,  0. ,  0. ,  0. ,  0. ],\n",
       "         [ 1. ,  1. ,  1. ,  1. ,  1. ],\n",
       "         [ 2. ,  2. ,  2. ,  2. ,  2. ],\n",
       "         [ 3. ,  3. ,  3. ,  3. ,  3. ]],\n",
       "\n",
       "        [[ 0. ,  0. ,  0. ,  0. ,  0. ],\n",
       "         [ 1. ,  1. ,  1. ,  1. ,  1. ],\n",
       "         [ 2. ,  2. ,  2. ,  2. ,  2. ],\n",
       "         [ 3. ,  3. ,  3. ,  3. ,  3. ]]],\n",
       "\n",
       "\n",
       "       [[[ 0. ,  1. ,  2. ,  3. ,  4. ],\n",
       "         [ 0. ,  1. ,  2. ,  3. ,  4. ],\n",
       "         [ 0. ,  1. ,  2. ,  3. ,  4. ],\n",
       "         [ 0. ,  1. ,  2. ,  3. ,  4. ]],\n",
       "\n",
       "        [[ 0. ,  1. ,  2. ,  3. ,  4. ],\n",
       "         [ 0. ,  1. ,  2. ,  3. ,  4. ],\n",
       "         [ 0. ,  1. ,  2. ,  3. ,  4. ],\n",
       "         [ 0. ,  1. ,  2. ,  3. ,  4. ]],\n",
       "\n",
       "        [[ 0. ,  1. ,  2. ,  3. ,  4. ],\n",
       "         [ 0. ,  1. ,  2. ,  3. ,  4. ],\n",
       "         [ 0. ,  1. ,  2. ,  3. ,  4. ],\n",
       "         [ 0. ,  1. ,  2. ,  3. ,  4. ]],\n",
       "\n",
       "        [[ 0. ,  1. ,  2. ,  3. ,  4. ],\n",
       "         [ 0. ,  1. ,  2. ,  3. ,  4. ],\n",
       "         [ 0. ,  1. ,  2. ,  3. ,  4. ],\n",
       "         [ 0. ,  1. ,  2. ,  3. ,  4. ]],\n",
       "\n",
       "        [[ 0. ,  1. ,  2. ,  3. ,  4. ],\n",
       "         [ 0. ,  1. ,  2. ,  3. ,  4. ],\n",
       "         [ 0. ,  1. ,  2. ,  3. ,  4. ],\n",
       "         [ 0. ,  1. ,  2. ,  3. ,  4. ]]]])"
      ]
     },
     "execution_count": 190,
     "metadata": {},
     "output_type": "execute_result"
    }
   ],
   "source": [
    "grid"
   ]
  },
  {
   "cell_type": "code",
   "execution_count": null,
   "metadata": {
    "collapsed": true
   },
   "outputs": [],
   "source": []
  }
 ],
 "metadata": {
  "kernelspec": {
   "display_name": "Python 3",
   "language": "python",
   "name": "python3"
  },
  "language_info": {
   "codemirror_mode": {
    "name": "ipython",
    "version": 3
   },
   "file_extension": ".py",
   "mimetype": "text/x-python",
   "name": "python",
   "nbconvert_exporter": "python",
   "pygments_lexer": "ipython3",
   "version": "3.6.3"
  }
 },
 "nbformat": 4,
 "nbformat_minor": 2
}
