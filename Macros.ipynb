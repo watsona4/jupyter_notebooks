{
 "cells": [
  {
   "cell_type": "code",
   "execution_count": 1,
   "metadata": {
    "collapsed": true
   },
   "outputs": [],
   "source": [
    "from collections import namedtuple\n",
    "import scipy.optimize\n",
    "import numpy as np"
   ]
  },
  {
   "cell_type": "code",
   "execution_count": 2,
   "metadata": {
    "collapsed": true
   },
   "outputs": [],
   "source": [
    "Food = namedtuple('Food', ['fat', 'carbs', 'protein', 'sodium', 'fiber', 'units'])"
   ]
  },
  {
   "cell_type": "code",
   "execution_count": 3,
   "metadata": {},
   "outputs": [],
   "source": [
    "food = {\n",
    "    'soymilk': Food(fat=1.99/243, carbs=10.01/243, protein=6/243, sodium=95/243, fiber=1/243, units='grams'),  # 1 cup = 243 g\n",
    "    'egg': Food(fat=6.7, carbs=0.98, protein=6.09, sodium=88, fiber=0, units='large'),  # 1 large = 61 g\n",
    "    'yogurt/maple syrup': Food(fat=0.01/170+0.0198, carbs=20.41/170, protein=18.01/170, sodium=67/170, fiber=0, units='grams yogurt'),  # 1 container = 170 g\n",
    "    'yogurt': Food(fat=0.01/170, carbs=0, protein=18.01/170, sodium=67/170, fiber=0, units='grams'),  # 1 container = 170 g\n",
    "    'maple syrup': Food(fat=0.0006, carbs=0.6704, protein=0.0004, sodium=0.12, fiber=0, units='grams'),  # 1 container = 170 g\n",
    "    'blueberries': Food(fat=0.0033, carbs=0.1449, protein=0.0074, sodium=0.0001, fiber=0.0024, units='grams'),  # 1 container = 170 g\n",
    "    'yogurt/blueberries/maple syrup': Food(fat=0.19/170, carbs=28.52/170, protein=18.42/170, sodium=68/170, fiber=1.3/170, units='grams yogurt'),  # 1 container = 170 g\n",
    "    'celery': Food(fat=0.0017, carbs=0.0297, protein=0.0069, sodium=0.8, fiber=0.016, units='grams'),  # 100 g\n",
    "    'peanut butter': Food(fat=9/16, carbs=3/16, protein=4/16, sodium=2.5/16, fiber=1/16, units='grams'),  # 2 tbsp = 32 g\n",
    "    'carrot': Food(fat=0.0024, carbs=0.0958, protein=0.0093, sodium=0.69, fiber=0.028, units='grams'),  # 100 g\n",
    "    'hummus': Food(fat=2.5/14, carbs=2/14, protein=1/14, sodium=62.5/14, fiber=0.5/14, units='grams'),  # 2 tbsp = 28 g\n",
    "    'chicken': Food(fat=1.071, carbs=0, protein=9.306, sodium=22.2, fiber=0, units='ounces'),  # 100 g\n",
    "    'broccoli': Food(fat=0.64/156, carbs=11.2/156, protein=3.72/156, sodium=64/156, fiber=5.2/156, units='grams'),  # 1/2 cup = 78 g\n",
    "    'cheese': Food(fat=6, carbs=0, protein=7, sodium=190, fiber=0, units='sticks'),  # 1 stick\n",
    "    'lettuce': Food(fat=0.0015, carbs=0.0287, protein=0.0136, sodium=0.28, fiber=0.013, units='grams'),  # 1 cup = 36 g\n",
    "    'tomatoes': Food(fat=0.002, carbs=0.0389, protein=0.0088, sodium=0.05, fiber=0.012, units='grams'),  # 1 cup = 149 g\n",
    "    'bell peppers': Food(fat=0.003, carbs=0.0603, protein=0.0099, sodium=0.04, fiber=0.021, units='grams'),  # 1 cup = 149 g\n",
    "    'vinaigrette': Food(fat=(1+0)/2, carbs=(0+0.1703)/2, protein=(0+0.0049)/2, sodium=(0.02+0.23)/2, fiber=0, units='grams'),  # 1 tbsp = 16 g\n",
    "    'greek dressing': Food(fat=4.5/30, carbs=2/30, protein=0, sodium=280/30, fiber=0, units='grams'),  # 1 tbsp = 16 g\n",
    "    'protein powder': Food(fat=4/30, carbs=12/30, protein=11/30, sodium=0, fiber=12/30, units='grams'),\n",
    "    'benefiber': Food(fat=0, carbs=7/7.4, protein=0, sodium=0, fiber=5/7.4, units='grams'),\n",
    "    'almonds': Food(fat=0.4993, carbs=0.2155, protein=0.2115, sodium=0.01, fiber=0.125, units='grams'),\n",
    "    'skirt steak': Food(fat=3.8, carbs=0, protein=9, sodium=0.189, fiber=0, units='ounce'),\n",
    "    'salsa': Food(fat=0, carbs=2/30, protein=0, sodium=200/30, fiber=0, units='grams'),\n",
    "    'cottage cheese': Food(fat=4.5, carbs=4, protein=13, sodium=400, fiber=0, units='cups'),\n",
    "    'chicken parm': Food(fat=39, carbs=5.72, protein=70.5, sodium=358, fiber=1, units='serving'),\n",
    "    'smoothie': Food(fat=0.92, carbs=51.22, protein=3.28, sodium=27, fiber=6.3, units='serving'),\n",
    "    'tomato caper sauce': Food(fat=1.385, carbs=4.2075, protein=1.05, sodium=206.75, fiber=1.4, units='serving'),\n",
    "    'salmon': Food(fat=1.8, carbs=0, protein=5.62, sodium=12, fiber=0, units='ounces'),\n",
    "    'tilapia': Food(fat=0.79, carbs=0, protein=7.84, sodium=17, fiber=0, units='ounces'),\n",
    "    'yogurt': Food(fat=0, carbs=9/227, protein=23/227, sodium=85/227, fiber=0, units='grams'),\n",
    "    'fruit cup': Food(fat=0.09, carbs=25.13, protein=0.378, sodium=6.0, fiber=1.28, units='package and 20 g maple syrup'), # per 100 g drained, 1/2 cup = 77 g\n",
    "    'chicken sausage': Food(fat=2, carbs=4, protein=5, sodium=160, fiber=0, units='link'),\n",
    "    'pork sausage': Food(fat=0.248, carbs=0.0093, protein=0.1539, sodium=7.39, fiber=0, units='grams'), # 1 link = 25 g\n",
    "    'almond milk': Food(fat=0.36, carbs=0.19, protein=0.19, sodium=23, fiber=0, units='ounces'),\n",
    "    'banana': Food(fat=0.39, carbs=26.95, protein=1.29, sodium=1, fiber=3.1, units='medium'),\n",
    "    'breaded chicken': Food(fat=1.68, carbs=5.81, protein=10.09, sodium=118, fiber=0.18, units='ounces'),\n",
    "    'pork chop': Food(fat=1.24, carbs=0, protein=8.10, sodium=19, fiber=0, units='ounces'),\n",
    "    'chicken meatballs': Food(fat=2.3, carbs=1.31, protein=4.18, sodium=117, fiber=0.48, units='meatball w/ sauce'),\n",
    "    'cauliflower': Food(fat=0.0045, carbs=0.0411, protein=0.0184, sodium=0, fiber=0.023, units='grams'),\n",
    "    'asparagus': Food(fat=0.0022, carbs=0.0411, protein=0.0240, sodium=0, fiber=0.020, units='grams'),\n",
    "    'green beans': Food(fat=0.0028, carbs=0.0788, protein=0.0189, sodium=0, fiber=0.032, units='grams'),\n",
    "    'canned green beans': Food(fat=0.0041, carbs=0.0419, protein=0.0105, sodium=0, fiber=0.019, units='grams'),\n",
    "    'canned corn': Food(fat=0.0122, carbs=0.1434, protein=0.0229, sodium=0, fiber=0.020, units='grams'),\n",
    "    'creamed corn': Food(fat=0.0042, carbs=0.1813, protein=0.0174, sodium=0, fiber=0.012, units='grams'),\n",
    "    'gummies': Food(fat=0, carbs=3.5, protein=0, sodium=0, fiber=2, units='gummies'),\n",
    "    'granola': Food(fat=6/30, carbs=18/30, protein=3/30, sodium=105/30, fiber=2/30, units='grams'),\n",
    "    'muesli': Food(fat=3/30, carbs=19/30, protein=5/30, sodium=0/30, fiber=3/30, units='grams'),\n",
    "}"
   ]
  },
  {
   "cell_type": "code",
   "execution_count": 49,
   "metadata": {},
   "outputs": [
    {
     "name": "stdout",
     "output_type": "stream",
     "text": [
      "targets = {'fat': 46.66666666666667, 'carbs': 87.5, 'protein': 157.5, 'fiber': 30}\n"
     ]
    }
   ],
   "source": [
    "target_cals = 1400\n",
    "target_macros = {'fat': 30, 'carbs': 25, 'protein': 45, 'fiber': 30}  # fat loss\n",
    "#target_macros = {'fat': 15, 'carbs': 55, 'protein': 30, 'fiber': 30}  # muscle gain\n",
    "targets = {'fat': target_macros['fat'] / 9 * target_cals / 100,\n",
    "           'carbs': target_macros['carbs'] / 4 * target_cals / 100,\n",
    "           'protein': target_macros['protein'] / 4 * target_cals / 100,\n",
    "           'fiber': target_macros['fiber']}\n",
    "print('targets =', targets)\n",
    "amounts = {\n",
    "#    'yogurt/maple syrup': 170,\n",
    "    'yogurt': 170, #(140,280),\n",
    "    'blueberries': 36,\n",
    "    'muesli': 23,\n",
    "    'maple syrup': 14,\n",
    "    'celery': 65,\n",
    "    'peanut butter': (0.8*32,1.2*32),\n",
    "    'carrot': 65,\n",
    "    'hummus': (0.8*28,1.2*28),\n",
    "    'chicken': (0,16),\n",
    "    #'smoothie': 1,\n",
    "    #'protein powder': 30,\n",
    "    'broccoli': 117,\n",
    "    'cheese': 1,\n",
    "    'lettuce': 108,\n",
    "    'tomatoes': 75,\n",
    "    'greek dressing': 30,\n",
    "    'gummies': 4,\n",
    "    'cottage cheese': 1,\n",
    "  #  'fruit cup': 1,\n",
    "}\n",
    "ints = ['egg', 'cheese']"
   ]
  },
  {
   "cell_type": "code",
   "execution_count": 50,
   "metadata": {
    "collapsed": true
   },
   "outputs": [],
   "source": [
    "calc_targets = targets.copy()\n",
    "for name, ran in amounts.items():\n",
    "    if not isinstance(ran, tuple):\n",
    "        calc_targets['fat'] -= ran * food[name].fat\n",
    "        calc_targets['carbs'] -= ran * food[name].carbs\n",
    "        calc_targets['protein'] -= ran * food[name].protein\n",
    "        calc_targets['fiber'] -= ran * food[name].fiber\n",
    "calc_target_cals = int(calc_targets['fat'] * 9 + calc_targets['carbs'] * 4 + calc_targets['protein'] * 4)\n",
    "calc_food = [(name, amt) for name, amt in amounts.items() if isinstance(amt, tuple)]\n",
    "names = [entry[0] for entry in calc_food]\n",
    "\n",
    "def prn():\n",
    "    y = np.zeros(5)\n",
    "    for nam, val in amounts.items():\n",
    "        fd = food[nam]\n",
    "        y += val * np.array([fd.fat, fd.carbs, fd.protein, fd.fiber, fd.sodium])\n",
    "        print(f'    {nam}: {val} {fd.units}')\n",
    "    cals = y[0]*9 + y[1]*4 + y[2]*4\n",
    "    print(f'Total Calories = {int(cals)}, Fat = {y[0]:4.1f}, Carbs = {y[1]:.1f}, Protein = {y[2]:5.1f}, Sodium = {int(y[4]):4d}, Fiber = {y[3]:4.1f}')\n",
    "    print(f'   Target Cals = {target_cals}, Fat = {targets[\"fat\"]:.1f}, Carbs = {targets[\"carbs\"]:.1f}, Protein = {targets[\"protein\"]:.1f}, Sodium < 2000, Fiber = {targets[\"fiber\"]:.1f}')\n",
    "    print(f'Total Macros:  Fat = {y[0]*9/cals*100:4.1f}%, Carbs = {y[1]*4/cals*100:4.1f}%, Protein = {y[2]*4/cals*100:4.1f}%')\n",
    "    print(f'     Targets:  Fat = {target_macros[\"fat\"]:4.1f}%, Carbs = {target_macros[\"carbs\"]:4.1f}%, Protein = {target_macros[\"protein\"]:4.1f}%')\n",
    "\n",
    "def foo(x):\n",
    "    y = np.zeros(5)\n",
    "    for i, val in enumerate(x):\n",
    "        fd = food[names[i]]\n",
    "        y += val * np.array([fd.fat, fd.carbs, fd.protein, fd.fiber, fd.sodium])\n",
    "    arr = np.array([calc_targets['fat'], calc_targets['carbs'], calc_targets['protein'], calc_targets['fiber']]) - y[0:4]\n",
    "    arr[3] = max(arr[3], 0.0)\n",
    "    return np.linalg.norm(arr)\n",
    "\n",
    "def run(algorithm):\n",
    "    cons = lambda x: max(x[i] - int(x[i]) if names[i] in ints else 0 for i in range(len(x)))\n",
    "    if algorithm == 'basinhopping':\n",
    "        x0 = np.array([a[1][0] for a in calc_food])\n",
    "        res = scipy.optimize.basinhopping(\n",
    "            foo, x0, niter=400,\n",
    "            minimizer_kwargs={'bounds': [a[1] for a in calc_food]})\n",
    "        res = res.x\n",
    "    if algorithm == 'brute':\n",
    "        bounds = [a[1] for a in calc_food]\n",
    "        res = scipy.optimize.brute(foo, bounds, finish=None)\n",
    "    res = np.rint(res).astype(int)\n",
    "    for nam, amt in zip(names, res):\n",
    "        amounts[nam] = amt\n",
    "    prn()\n",
    "    for nam, amt in amounts.items():\n",
    "        maple = int(np.rint(amt*20/170))\n",
    "        blueberries = int(np.rint(amt*56/170))\n",
    "        if nam == 'yogurt/maple syrup':\n",
    "            print(f'{maple} grams of maple syrup')\n",
    "        elif nam == 'yogurt/blueberries/maple syrup':\n",
    "            blueberries = amt*56/170\n",
    "            print(f'{maple} grams of maple syrup and {blueberries} grams of blueberries')"
   ]
  },
  {
   "cell_type": "code",
   "execution_count": 51,
   "metadata": {},
   "outputs": [
    {
     "name": "stdout",
     "output_type": "stream",
     "text": [
      "    yogurt: 170 grams\n",
      "    blueberries: 36 grams\n",
      "    muesli: 23 grams\n",
      "    maple syrup: 14 grams\n",
      "    celery: 65 grams\n",
      "    peanut butter: 26 grams\n",
      "    carrot: 65 grams\n",
      "    hummus: 24 grams\n",
      "    chicken: 11 ounces\n",
      "    broccoli: 117 grams\n",
      "    cheese: 1 sticks\n",
      "    lettuce: 108 grams\n",
      "    tomatoes: 75 grams\n",
      "    greek dressing: 30 grams\n",
      "    gummies: 4 gummies\n",
      "    cottage cheese: 1 cups\n",
      "Total Calories = 1421, Fat = 49.2, Carbs = 86.8, Protein = 157.9, Sodium = 1469, Fiber = 21.9\n",
      "   Target Cals = 1400, Fat = 46.7, Carbs = 87.5, Protein = 157.5, Sodium < 2000, Fiber = 30.0\n",
      "Total Macros:  Fat = 31.1%, Carbs = 24.4%, Protein = 44.4%\n",
      "     Targets:  Fat = 30.0%, Carbs = 25.0%, Protein = 45.0%\n"
     ]
    }
   ],
   "source": [
    "run('basinhopping')"
   ]
  },
  {
   "cell_type": "code",
   "execution_count": 52,
   "metadata": {},
   "outputs": [
    {
     "name": "stdout",
     "output_type": "stream",
     "text": [
      "    yogurt: 170 grams\n",
      "    blueberries: 36 grams\n",
      "    muesli: 23 grams\n",
      "    maple syrup: 14 grams\n",
      "    celery: 65 grams\n",
      "    peanut butter: 26 grams\n",
      "    carrot: 65 grams\n",
      "    hummus: 24 grams\n",
      "    chicken: 11 ounces\n",
      "    broccoli: 117 grams\n",
      "    cheese: 1 sticks\n",
      "    lettuce: 108 grams\n",
      "    tomatoes: 75 grams\n",
      "    greek dressing: 30 grams\n",
      "    gummies: 4 gummies\n",
      "    cottage cheese: 1 cups\n",
      "Total Calories = 1421, Fat = 49.2, Carbs = 86.8, Protein = 157.9, Sodium = 1469, Fiber = 21.9\n",
      "   Target Cals = 1400, Fat = 46.7, Carbs = 87.5, Protein = 157.5, Sodium < 2000, Fiber = 30.0\n",
      "Total Macros:  Fat = 31.1%, Carbs = 24.4%, Protein = 44.4%\n",
      "     Targets:  Fat = 30.0%, Carbs = 25.0%, Protein = 45.0%\n"
     ]
    }
   ],
   "source": [
    "run('brute')"
   ]
  },
  {
   "cell_type": "code",
   "execution_count": 8,
   "metadata": {},
   "outputs": [
    {
     "ename": "SyntaxError",
     "evalue": "invalid syntax (<ipython-input-8-fcb74fa58a21>, line 1)",
     "output_type": "error",
     "traceback": [
      "\u001b[1;36m  File \u001b[1;32m\"<ipython-input-8-fcb74fa58a21>\"\u001b[1;36m, line \u001b[1;32m1\u001b[0m\n\u001b[1;33m    yogurt/maple syrup: 227 grams yogurt\u001b[0m\n\u001b[1;37m                     ^\u001b[0m\n\u001b[1;31mSyntaxError\u001b[0m\u001b[1;31m:\u001b[0m invalid syntax\n"
     ]
    }
   ],
   "source": [
    "    yogurt/maple syrup: 227 grams yogurt\n",
    "    celery: 65 grams\n",
    "    peanut butter: 38 grams\n",
    "    carrot: 65 grams\n",
    "    hummus: 11 grams\n",
    "    chicken: 13 ounces\n",
    "    broccoli: 78 grams\n",
    "    cheese: 1 sticks\n",
    "    lettuce: 72 grams\n",
    "    tomatoes: 75 grams\n",
    "    greek dressing: 30 grams\n",
    "    benefiber: 19 grams\n",
    "    cottage cheese: 1 cups\n",
    "    fruit cup: 1 package and 20 g maple syrup\n",
    "Total Calories = 1615, Fat = 53.2, Carbs = 103.8, Protein = 180.2, Sodium = 1461, Fiber = 24.2\n",
    "   Target Cals = 1600, Fat = 53.3, Carbs = 100.0, Protein = 180.0, Sodium < 2000, Fiber = 30.0\n",
    "Total Macros:  Fat = 29.7%, Carbs = 25.7%, Protein = 44.6%\n",
    "     Targets:  Fat = 30.0%, Carbs = 25.0%, Protein = 45.0%\n",
    "27 grams of maple syrup"
   ]
  }
 ],
 "metadata": {
  "kernelspec": {
   "display_name": "Python 3",
   "language": "python",
   "name": "python3"
  },
  "language_info": {
   "codemirror_mode": {
    "name": "ipython",
    "version": 3
   },
   "file_extension": ".py",
   "mimetype": "text/x-python",
   "name": "python",
   "nbconvert_exporter": "python",
   "pygments_lexer": "ipython3",
   "version": "3.6.3"
  }
 },
 "nbformat": 4,
 "nbformat_minor": 2
}
