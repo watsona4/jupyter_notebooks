{
 "cells": [
  {
   "cell_type": "code",
   "execution_count": 1,
   "metadata": {
    "collapsed": true
   },
   "outputs": [],
   "source": [
    "from collections import namedtuple\n",
    "import scipy.optimize\n",
    "import numpy as np"
   ]
  },
  {
   "cell_type": "code",
   "execution_count": 2,
   "metadata": {
    "collapsed": true
   },
   "outputs": [],
   "source": [
    "Food = namedtuple('Food', ['name', 'fat', 'carbs', 'protein', 'sodium', 'fiber', 'range', 'units'])"
   ]
  },
  {
   "cell_type": "code",
   "execution_count": 126,
   "metadata": {},
   "outputs": [],
   "source": [
    "target_cals = 1600\n",
    "target_macros = {'fat': 30, 'carbs': 25, 'protein': 45}  # fat loss\n",
    "# target_macros = {'fat': 15, 'carbs': 55, 'protein': 30}  # muscle gain\n",
    "targets = {'fat': target_macros['fat'] / 9 * target_cals / 100,\n",
    "           'carbs': target_macros['carbs'] / 4 * target_cals / 100,\n",
    "           'protein': target_macros['protein'] / 4 * target_cals / 100}\n",
    "food = [\n",
    "    Food(name='soymilk', fat=1.99/243, carbs=10.01/243, protein=6.0/243, sodium=95.0/243, fiber=1.0/243, range=(100,1000), units='grams'),  # 1 cup = 243 g\n",
    "    Food(name='egg', fat=6.7, carbs=0.98, protein=6.09, sodium=88, fiber=0, range=(1,2), units='large'),  # 1 large = 61 g\n",
    "    Food(name='yogurt/maple syrup', fat=0.01/170, carbs=20.41/170, protein=18.01/170, sodium=67.0/170, fiber=0, range=(0,2*170), units='grams yogurt'),  # 1 container = 170 g\n",
    "    # Food(name='yogurt', fat=0, carbs=7.0/170, protein=18.0/170, sodium=65.0/170, fiber=0, range=(0,4*170), units='grams'),  # 1 container = 170 g\n",
    "    # Food(name='maple syrup', fat=0.01/20, carbs=13.41/20, protein=0.01/20, sodium=2.0/20, fiber=0, range=(0,80), units='grams'),  # 1 tbsp = 20 g\n",
    "    # Food(name='celery/peanut butter', fat=0.0017*65+18, carbs=0.0297*65+6, protein=0.0069*65+8, sodium=0.8*65+5, fiber=0.016*65+2, range=(1,3)),  # 65 g + 2 tbsp = 32 g\n",
    "    Food(name='celery', fat=0.0017, carbs=0.0297, protein=0.0069, sodium=0.8, fiber=0.016, range=(65,100), units='grams'),  # 100 g\n",
    "    Food(name='peanut butter', fat=9.0/16, carbs=3.0/16, protein=4.0/16, sodium=2.5/16, fiber=1.0/16, range=(16,6*16), units='grams'),  # 2 tbsp = 32 g\n",
    "    # Food(name='almond butter', fat=17.76/16, carbs=6.02/16, protein=6.71/16, sodium=2.0/16, fiber=3.3/16, range=(0,0), units='grams'),  # 2 tbsp = 32 g\n",
    "    # Food(name='carrot/hummus', fat=0.0024*65+5, carbs=0.0958*65+4, protein=0.0093*65+2, sodium=0.69*65+125, fiber=0.028*65+1, range=(1,3)),  # 65 g + 2 tbsp = 28 g\n",
    "    Food(name='carrot', fat=0.0024, carbs=0.0958, protein=0.0093, sodium=0.69, fiber=0.028, range=(65,100), units='grams'),  # 100 g\n",
    "    Food(name='hummus', fat=2.5/14, carbs=2.0/14, protein=1.0/14, sodium=62.5/14, fiber=0.5/14, range=(14,6*14), units='grams'),  # 2 tbsp = 28 g\n",
    "    Food(name='chicken', fat=0.0357, carbs=0, protein=0.3102, sodium=0.74, fiber=0, range=(200,400), units='grams'),  # 100 g\n",
    "    Food(name='broccoli', fat=0.64/156, carbs=11.2/156, protein=3.72/156, sodium=64/156, fiber=5.2/156, range=(4*78,4*78), units='grams'),  # 1/2 cup = 78 g\n",
    "    Food(name='cheese', fat=6, carbs=0, protein=7, sodium=190, fiber=0, range=(0,4), units='sticks'),  # 1 stick\n",
    "    Food(name='lettuce', fat=0.0015, carbs=0.0287, protein=0.0136, sodium=0.28, fiber=0.013, range=(4*36, 4*36), units='grams'),  # 1 cup = 36 g\n",
    "    Food(name='tomatoes', fat=0.002, carbs=0.0389, protein=0.0088, sodium=0.05, fiber=0.012, range=(149,149), units='grams'),  # 1 cup = 149 g\n",
    "    Food(name='bell peppers', fat=0.003, carbs=0.0603, protein=0.0099, sodium=0.04, fiber=0.021, range=(149,149), units='grams'),  # 1 cup = 149 g\n",
    "    Food(name='vinaigrette', fat=0.5010, carbs=0.025, protein=0, sodium=0.01, fiber=0, range=(16,100), units='grams'),  # 1 tbsp = 16 g\n",
    "]\n",
    "ints = ['egg', 'cheese']"
   ]
  },
  {
   "cell_type": "code",
   "execution_count": 127,
   "metadata": {
    "collapsed": true
   },
   "outputs": [],
   "source": [
    "def foo(x, prn=False):\n",
    "    y = np.zeros(5)\n",
    "    for i, val in enumerate(x):\n",
    "        y += val * np.array([food[i].fat, food[i].carbs, food[i].protein, food[i].fiber, food[i].sodium])\n",
    "    if prn:\n",
    "        cals = y[0]*9 + y[1]*4 + y[2]*4\n",
    "        for i, val in enumerate(x):\n",
    "            print(f'    {food[i].name}: {val} {food[i].units}')\n",
    "        print(f'Total Calories = {int(cals)}, Fat = {y[0]:4.1f}, Carbs = {y[1]:5.1f}, Protein = {y[2]:5.1f}, Sodium = {int(y[4]):4d}, Fiber = {y[3]:4.1f}')\n",
    "        print(f'   Target Cals = {target_cals}, Fat = {targets[\"fat\"]:.1f}, Carbs = {targets[\"carbs\"]:.1f}, Protein = {targets[\"protein\"]:.1f}, Sodium < 2000, Fiber = 25.0')\n",
    "        print(f'Total Macros:  Fat = {y[0]*9/cals*100:4.1f}%, Carbs = {y[1]*4/cals*100:4.1f}%, Protein = {y[2]*4/cals*100:4.1f}%')\n",
    "        print(f'     Targets:  Fat = {target_macros[\"fat\"]:4.1f}%, Carbs = {target_macros[\"carbs\"]:4.1f}%, Protein = {target_macros[\"protein\"]:4.1f}%')\n",
    "    return np.linalg.norm(np.array([targets['fat'], targets['carbs'], targets['protein'], 25]) - y[0:4])"
   ]
  },
  {
   "cell_type": "code",
   "execution_count": 131,
   "metadata": {},
   "outputs": [],
   "source": [
    "def cons(x):\n",
    "    return max(x[i] - int(x[i]) if food[i].name in ints else 0 for i in range(len(x)))\n",
    "x0 = np.array([a.range[0] for a in food])\n",
    "res = scipy.optimize.basinhopping(\n",
    "    foo, x0, niter=200,\n",
    "    minimizer_kwargs={'bounds': [a.range for a in food], 'constraints': ({'type': 'eq', 'fun': cons})})\n",
    "# res = scipy.optimize.basinhopping(\n",
    "#     foo, x0, niter=200, minimizer_kwargs={'bounds': [a.range for a in food]})"
   ]
  },
  {
   "cell_type": "code",
   "execution_count": 132,
   "metadata": {},
   "outputs": [
    {
     "name": "stdout",
     "output_type": "stream",
     "text": [
      "    soymilk: 159.21486729737876 grams\n",
      "    egg: 1.0 large\n",
      "    yogurt/maple syrup: 231.0807510481813 grams yogurt\n",
      "    celery: 93.6077472018411 grams\n",
      "    peanut butter: 16.466823773167278 grams\n",
      "    carrot: 85.19635996760401 grams\n",
      "    hummus: 62.815106693374354 grams\n",
      "    chicken: 397.3932407832109 grams\n",
      "    broccoli: 312.0 grams\n",
      "    cheese: 5.121571461257361e-19 sticks\n",
      "    lettuce: 144.0 grams\n",
      "    tomatoes: 149.0 grams\n",
      "    bell peppers: 149.0 grams\n",
      "    vinaigrette: 16.057417938916952 grams\n",
      "Total Calories = 1599, Fat = 53.3, Carbs = 100.0, Protein = 180.0, Sodium = 1133, Fiber = 25.0\n",
      "   Target Cals = 1600, Fat = 53.3, Carbs = 100.0, Protein = 180.0, Sodium < 2000, Fiber = 25.0\n",
      "Total Macros:  Fat = 30.0%, Carbs = 25.0%, Protein = 45.0%\n",
      "     Targets:  Fat = 30.0%, Carbs = 25.0%, Protein = 45.0%\n"
     ]
    },
    {
     "data": {
      "text/plain": [
       "8.9035196671998183e-07"
      ]
     },
     "execution_count": 132,
     "metadata": {},
     "output_type": "execute_result"
    }
   ],
   "source": [
    "foo(res.x, True)"
   ]
  },
  {
   "cell_type": "code",
   "execution_count": 133,
   "metadata": {},
   "outputs": [
    {
     "name": "stdout",
     "output_type": "stream",
     "text": [
      "    soymilk: 159.0 grams\n",
      "    egg: 1.0 large\n",
      "    yogurt/maple syrup: 231.0 grams yogurt\n",
      "    celery: 94.0 grams\n",
      "    peanut butter: 16.0 grams\n",
      "    carrot: 85.0 grams\n",
      "    hummus: 63.0 grams\n",
      "    chicken: 397.0 grams\n",
      "    broccoli: 312.0 grams\n",
      "    cheese: 0.0 sticks\n",
      "    lettuce: 144.0 grams\n",
      "    tomatoes: 149.0 grams\n",
      "    bell peppers: 149.0 grams\n",
      "    vinaigrette: 16.0 grams\n",
      "Total Calories = 1596, Fat = 53.1, Carbs =  99.9, Protein = 179.8, Sodium = 1134, Fiber = 25.0\n",
      "   Target Cals = 1600, Fat = 53.3, Carbs = 100.0, Protein = 180.0, Sodium < 2000, Fiber = 25.0\n",
      "Total Macros:  Fat = 29.9%, Carbs = 25.0%, Protein = 45.0%\n",
      "     Targets:  Fat = 30.0%, Carbs = 25.0%, Protein = 45.0%\n"
     ]
    },
    {
     "data": {
      "text/plain": [
       "0.37445266460780441"
      ]
     },
     "execution_count": 133,
     "metadata": {},
     "output_type": "execute_result"
    }
   ],
   "source": [
    "foo(np.rint(res.x), True)"
   ]
  },
  {
   "cell_type": "code",
   "execution_count": null,
   "metadata": {
    "collapsed": true
   },
   "outputs": [],
   "source": []
  }
 ],
 "metadata": {
  "kernelspec": {
   "display_name": "Python 3",
   "language": "python",
   "name": "python3"
  },
  "language_info": {
   "codemirror_mode": {
    "name": "ipython",
    "version": 3
   },
   "file_extension": ".py",
   "mimetype": "text/x-python",
   "name": "python",
   "nbconvert_exporter": "python",
   "pygments_lexer": "ipython3",
   "version": "3.6.2"
  }
 },
 "nbformat": 4,
 "nbformat_minor": 2
}
