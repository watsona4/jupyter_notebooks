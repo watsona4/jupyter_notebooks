{
 "cells": [
  {
   "cell_type": "code",
   "execution_count": 1,
   "metadata": {},
   "outputs": [],
   "source": [
    "import csv\n",
    "\n",
    "import matplotlib.pyplot as plt\n",
    "import numpy as np\n",
    "from scipy.optimize import curve_fit"
   ]
  },
  {
   "cell_type": "code",
   "execution_count": 2,
   "metadata": {},
   "outputs": [],
   "source": [
    "ydata = []\n",
    "with open(r'K:\\My Documents\\Downloads\\Washington County COVID-19 - Data.csv', newline='') as csvfile:\n",
    "    reader = csv.reader(csvfile)\n",
    "    for row in reader:\n",
    "        ydata.append(row[4])\n",
    "ydata = np.array([float(val) for val in ydata[6:]])"
   ]
  },
  {
   "cell_type": "code",
   "execution_count": 3,
   "metadata": {},
   "outputs": [],
   "source": [
    "xdata = np.linspace(0, len(ydata), len(ydata), endpoint=False) + 5"
   ]
  },
  {
   "cell_type": "code",
   "execution_count": 9,
   "metadata": {},
   "outputs": [],
   "source": [
    "def func(x, a, b):\n",
    "    return a * np.exp(-b * x)"
   ]
  },
  {
   "cell_type": "code",
   "execution_count": 11,
   "metadata": {},
   "outputs": [
    {
     "name": "stderr",
     "output_type": "stream",
     "text": [
      "K:\\Anaconda3\\lib\\site-packages\\ipykernel_launcher.py:2: RuntimeWarning: overflow encountered in exp\n",
      "  \n"
     ]
    }
   ],
   "source": [
    "popt, pcov = curve_fit(func, xdata[10:50], ydata[10:50])"
   ]
  },
  {
   "cell_type": "code",
   "execution_count": 34,
   "metadata": {},
   "outputs": [
    {
     "data": {
      "text/plain": [
       "array([0.02832332, 0.02806791, 0.0278148 , 0.02756398, 0.02731542,\n",
       "       0.0270691 , 0.026825  , 0.0265831 , 0.02634338, 0.02610582,\n",
       "       0.02587041, 0.02563712, 0.02540593, 0.02517683, 0.02494979,\n",
       "       0.02472481, 0.02450185, 0.0242809 , 0.02406194, 0.02384496,\n",
       "       0.02362993, 0.02341685, 0.02320568, 0.02299642, 0.02278905,\n",
       "       0.02258354, 0.02237989, 0.02217808, 0.02197808, 0.02177989,\n",
       "       0.02158349, 0.02138886, 0.02119598, 0.02100484, 0.02081543,\n",
       "       0.02062772, 0.02044171, 0.02025737, 0.02007469, 0.01989367,\n",
       "       0.01971427, 0.0195365 , 0.01936032, 0.01918574, 0.01901273,\n",
       "       0.01884128, 0.01867137, 0.018503  , 0.01833615, 0.0181708 ,\n",
       "       0.01800694, 0.01784456, 0.01768364, 0.01752418, 0.01736615,\n",
       "       0.01720955, 0.01705436, 0.01690057, 0.01674817, 0.01659714,\n",
       "       0.01644747, 0.01629915, 0.01615217, 0.01600652, 0.01586218,\n",
       "       0.01571914, 0.01557739, 0.01543691, 0.01529771, 0.01515976,\n",
       "       0.01502305, 0.01488758, 0.01475333, 0.01462029, 0.01448845,\n",
       "       0.0143578 , 0.01422832, 0.01410002, 0.01397287, 0.01384687,\n",
       "       0.013722  , 0.01359826, 0.01347564, 0.01335412, 0.01323369,\n",
       "       0.01311436, 0.0129961 , 0.0128789 ])"
      ]
     },
     "execution_count": 34,
     "metadata": {},
     "output_type": "execute_result"
    }
   ],
   "source": [
    "func(xdata, *np.sqrt(pcov.diagonal()))"
   ]
  },
  {
   "cell_type": "code",
   "execution_count": 35,
   "metadata": {},
   "outputs": [
    {
     "data": {
      "image/png": "[encoded data removed]",
      "text/plain": [
       "<Figure size 432x288 with 1 Axes>"
      ]
     },
     "metadata": {
      "needs_background": "light"
     },
     "output_type": "display_data"
    }
   ],
   "source": [
    "plt.plot(xdata, ydata, 'b-', label='data')\n",
    "ylim = plt.ylim()\n",
    "plt.errorbar(xdata, func(xdata, *popt), yerr=func(xdata, *np.sqrt(pcov.diagonal())), fmt='r-', label='fit: a=%5.3f, b=%5.3f' % tuple(popt))\n",
    "plt.ylim(*ylim)\n",
    "plt.xlabel('Day')\n",
    "plt.ylabel('Avg. New Cases')\n",
    "plt.legend()\n",
    "plt.show()"
   ]
  },
  {
   "cell_type": "code",
   "execution_count": 17,
   "metadata": {},
   "outputs": [
    {
     "data": {
      "text/plain": [
       "array([ 0.06552053, -0.09007086])"
      ]
     },
     "execution_count": 17,
     "metadata": {},
     "output_type": "execute_result"
    }
   ],
   "source": [
    "popt - pcov.diagonal()"
   ]
  },
  {
   "cell_type": "code",
   "execution_count": null,
   "metadata": {},
   "outputs": [],
   "source": []
  }
 ],
 "metadata": {
  "kernelspec": {
   "display_name": "Python 3",
   "language": "python",
   "name": "python3"
  },
  "language_info": {
   "codemirror_mode": {
    "name": "ipython",
    "version": 3
   },
   "file_extension": ".py",
   "mimetype": "text/x-python",
   "name": "python",
   "nbconvert_exporter": "python",
   "pygments_lexer": "ipython3",
   "version": "3.7.6"
  }
 },
 "nbformat": 4,
 "nbformat_minor": 4
}
