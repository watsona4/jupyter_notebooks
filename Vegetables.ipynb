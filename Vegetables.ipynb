{
 "cells": [
  {
   "cell_type": "code",
   "execution_count": 9,
   "metadata": {
    "collapsed": true
   },
   "outputs": [],
   "source": [
    "import numpy\n",
    "import numpy.linalg"
   ]
  },
  {
   "cell_type": "code",
   "execution_count": 109,
   "metadata": {},
   "outputs": [],
   "source": [
    "broccoli = numpy.array([0.0041, 0.0718, 0.0238, 0.033])\n",
    "cauliflower = numpy.array([0.0045, 0.0411, 0.0184, 0.023])\n",
    "asparagus = numpy.array([0.0022, 0.0411, 0.0240, 0.020])\n",
    "green_beans = numpy.array([0.0028, 0.0788, 0.0189, 0.032])\n",
    "canned_green_beans = numpy.array([0.0041, 0.0419, 0.0105, 0.019])\n",
    "canned_corn = numpy.array([0.0122, 0.1434, 0.0229, 0.020])\n",
    "creamed_corn = numpy.array([0.0042, 0.1813, 0.0174, 0.012])\n",
    "\n",
    "peanut_butter = numpy.array([9/16, 3/16, 4/16, 1/16])\n",
    "hummus = numpy.array([2.5/14, 2/14, 1/14, 0.5/14])\n",
    "benefiber = numpy.array([0, 7/7.4, 0, 5/7.4])\n",
    "yogurt = numpy.array([0.01/170, 20.41/170, 18.01/170, 0])\n",
    "fruit_cup = numpy.array([0.09/77, 25.13/77, 0.378/77, 1.28/77])\n",
    "\n",
    "names = ['peanut_butter', 'hummus'] #, 'benefiber'] #, 'yogurt', 'fruit_cup']"
   ]
  },
  {
   "cell_type": "code",
   "execution_count": 110,
   "metadata": {},
   "outputs": [],
   "source": [
    "arr = numpy.array([[globals()[name][i] for name in names] for i in range(4)])"
   ]
  },
  {
   "cell_type": "code",
   "execution_count": 111,
   "metadata": {},
   "outputs": [],
   "source": [
    "def sol(veggie, grams):\n",
    "    val = numpy.rint(\n",
    "        numpy.matmul(\n",
    "            numpy.linalg.inv(numpy.matmul(arr.T, arr)),\n",
    "            numpy.matmul(arr.T, 78 * broccoli - grams * veggie)))\n",
    "    for i, name in enumerate(names):\n",
    "        print(f'{name.title().replace(\"_\", \" \")} = {int(val[i]):+d} grams')"
   ]
  },
  {
   "cell_type": "code",
   "execution_count": 112,
   "metadata": {},
   "outputs": [
    {
     "name": "stdout",
     "output_type": "stream",
     "text": [
      "Peanut Butter = -10 grams\n",
      "Hummus = +35 grams\n"
     ]
    }
   ],
   "source": [
    "sol(cauliflower, 62)"
   ]
  },
  {
   "cell_type": "code",
   "execution_count": 113,
   "metadata": {},
   "outputs": [
    {
     "name": "stdout",
     "output_type": "stream",
     "text": [
      "Peanut Butter = -7 grams\n",
      "Hummus = +24 grams\n"
     ]
    }
   ],
   "source": [
    "sol(asparagus, 90)"
   ]
  },
  {
   "cell_type": "code",
   "execution_count": 114,
   "metadata": {
    "scrolled": true
   },
   "outputs": [
    {
     "name": "stdout",
     "output_type": "stream",
     "text": [
      "Peanut Butter = -1 grams\n",
      "Hummus = +7 grams\n"
     ]
    }
   ],
   "source": [
    "sol(green_beans, 62.5)"
   ]
  },
  {
   "cell_type": "code",
   "execution_count": 115,
   "metadata": {},
   "outputs": [
    {
     "name": "stdout",
     "output_type": "stream",
     "text": [
      "Peanut Butter = -9 grams\n",
      "Hummus = +31 grams\n"
     ]
    }
   ],
   "source": [
    "sol(canned_green_beans, 67.5)"
   ]
  },
  {
   "cell_type": "code",
   "execution_count": 116,
   "metadata": {},
   "outputs": [
    {
     "name": "stdout",
     "output_type": "stream",
     "text": [
      "Peanut Butter = +20 grams\n",
      "Hummus = -66 grams\n"
     ]
    }
   ],
   "source": [
    "sol(canned_corn, 82)"
   ]
  },
  {
   "cell_type": "code",
   "execution_count": 117,
   "metadata": {},
   "outputs": [
    {
     "name": "stdout",
     "output_type": "stream",
     "text": [
      "Peanut Butter = +61 grams\n",
      "Hummus = -197 grams\n"
     ]
    }
   ],
   "source": [
    "sol(creamed_corn, 128)"
   ]
  },
  {
   "cell_type": "code",
   "execution_count": null,
   "metadata": {
    "collapsed": true
   },
   "outputs": [],
   "source": []
  }
 ],
 "metadata": {
  "kernelspec": {
   "display_name": "Python 3",
   "language": "python",
   "name": "python3"
  },
  "language_info": {
   "codemirror_mode": {
    "name": "ipython",
    "version": 3
   },
   "file_extension": ".py",
   "mimetype": "text/x-python",
   "name": "python",
   "nbconvert_exporter": "python",
   "pygments_lexer": "ipython3",
   "version": "3.6.3"
  }
 },
 "nbformat": 4,
 "nbformat_minor": 2
}
